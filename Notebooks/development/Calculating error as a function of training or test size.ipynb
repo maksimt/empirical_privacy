{
 "cells": [
  {
   "cell_type": "code",
   "execution_count": 47,
   "metadata": {},
   "outputs": [],
   "source": [
    "from math import exp\n",
    "\n",
    "from sympy.stats import E, variance, Die, Normal, Binomial\n",
    "from sympy.stats import P as Prob\n",
    "\n",
    "import matplotlib.pyplot as plt"
   ]
  },
  {
   "cell_type": "markdown",
   "metadata": {},
   "source": [
    "### terminology\n",
    "\n",
    "* 'negative' ~ $y=0$\n",
    "* 'positive' ~ $y=1$\n",
    "* 'natural' ~ a sample from $X=X_1 + Lap\\left(0, \\frac{\\Delta f}{\\epsilon_\\text{true}}\\right)$\n",
    "* 'alternative' ~ a special value defined as $\\bot=X_1-1000(\\frac{\\Delta f}{\\epsilon_\\text{true}}, \\frac{\\Delta f}{\\epsilon_\\text{true}}, \\frac{\\Delta f}{\\epsilon_\\text{true}})$"
   ]
  },
  {
   "cell_type": "code",
   "execution_count": 181,
   "metadata": {
    "scrolled": false
   },
   "outputs": [],
   "source": [
    "from empirical_privacy.laplace_mechanism import EvaluateKNNLaplaceStatDist\n",
    "from empirical_privacy.laplace_mechanism import FitKNNModelLaplace\n",
    "\n",
    "from math import sqrt\n",
    "\n",
    "import numpy as np\n",
    "from matplotlib.colors import ListedColormap\n",
    "from sklearn import neighbors, datasets\n",
    "\n",
    "\n",
    "cmap_light = ListedColormap(['#FFAAAA', '#AAFFAA', '#AAAAFF'])\n",
    "cmap_bold = ListedColormap(['#FF0000', '#00FF00', '#0000FF'])\n",
    "\n",
    "def plot_knn(dataset_settings, training_set_size, test_set_size,\n",
    "             plot_alternative_samples=True, random_seed='hats'):\n",
    "    scale = eps/ds['epsilon']\n",
    "\n",
    "    knn = FitKNNModelLaplace(dataset_settings=dataset_settings,\n",
    "                            samples_per_class=int(round(training_set_size / 2)),\n",
    "                            random_seed='hats',\n",
    "                            in_memory=True)\n",
    "    knn.requires()\n",
    "    knn.run()\n",
    "\n",
    "    X = np.vstack((knn.reqs_['samples_positive']['X'],\n",
    "                   knn.reqs_['samples_negative']['X']))\n",
    "    y = np.concatenate((knn.reqs_['samples_positive']['y'].ravel(),\n",
    "                   knn.reqs_['samples_negative']['y'].ravel()))\n",
    "    if not plot_alternative_samples:\n",
    "        I = X[:,1] <= -1000 * scale\n",
    "        X = X[~I,:]\n",
    "        y = y[~I]\n",
    "        print('not plotting {} alternative samples'.format(np.argwhere(I).size))\n",
    "    \n",
    "    plot_decision(knn.output_['KNN'], X, y)\n",
    "\n",
    "def plot_decision(clf, X, y, num=5000):\n",
    "    plt.figure(figsize=(10,10))\n",
    "    x_min, x_max = X[:, 0].min() - 1, X[:, 0].max() + 1\n",
    "    y_min, y_max = X[:, 1].min() - 1, X[:, 1].max() + 1\n",
    "    xs = np.linspace(x_min, x_max, num=int(sqrt(num)))\n",
    "    ys = np.linspace(y_min, y_max, num=int(sqrt(num)))\n",
    "    xx, yy= np.meshgrid(xs, ys, )\n",
    "    Z = clf.predict(np.c_[xx.ravel(), yy.ravel(), np.zeros_like(yy.ravel())])\n",
    "\n",
    "    # Put the result into a color plot\n",
    "    Z = Z.reshape(xx.shape)\n",
    "    plt.pcolormesh(xx, yy, Z, cmap=cmap_light)\n",
    "    plt.scatter(X[:, 0], X[:, 1], c=y, cmap=cmap_bold ,s=20)\n",
    "    \n"
   ]
  },
  {
   "cell_type": "markdown",
   "metadata": {},
   "source": [
    "### Experiment Settings"
   ]
  },
  {
   "cell_type": "code",
   "execution_count": 187,
   "metadata": {},
   "outputs": [
    {
     "ename": "TypeError",
     "evalue": "'float' object cannot be interpreted as an integer",
     "output_type": "error",
     "traceback": [
      "\u001b[0;31m---------------------------------------------------------------------------\u001b[0m",
      "\u001b[0;31mTypeError\u001b[0m                                 Traceback (most recent call last)",
      "\u001b[0;32m<ipython-input-187-a614140c8464>\u001b[0m in \u001b[0;36m<module>\u001b[0;34m()\u001b[0m\n\u001b[1;32m     20\u001b[0m \u001b[0mprior_negative\u001b[0m \u001b[0;34m=\u001b[0m \u001b[0;36m1\u001b[0m \u001b[0;34m-\u001b[0m \u001b[0mprior_positive\u001b[0m  \u001b[0;31m#\u001b[0m\u001b[0;34m\u001b[0m\u001b[0;34m\u001b[0m\u001b[0m\n\u001b[1;32m     21\u001b[0m \u001b[0;34m\u001b[0m\u001b[0m\n\u001b[0;32m---> 22\u001b[0;31m \u001b[0mplot_knn\u001b[0m\u001b[0;34m(\u001b[0m\u001b[0mds\u001b[0m\u001b[0;34m,\u001b[0m \u001b[0mtraining_set_size\u001b[0m\u001b[0;34m,\u001b[0m \u001b[0mtest_set_size\u001b[0m\u001b[0;34m,\u001b[0m \u001b[0mplot_alternative_samples\u001b[0m\u001b[0;34m=\u001b[0m\u001b[0;32mFalse\u001b[0m\u001b[0;34m)\u001b[0m\u001b[0;34m\u001b[0m\u001b[0;34m\u001b[0m\u001b[0m\n\u001b[0m",
      "\u001b[0;32m<ipython-input-181-a50836bb6087>\u001b[0m in \u001b[0;36mplot_knn\u001b[0;34m(dataset_settings, training_set_size, test_set_size, plot_alternative_samples, random_seed)\u001b[0m\n\u001b[1;32m     21\u001b[0m                             in_memory=True)\n\u001b[1;32m     22\u001b[0m     \u001b[0mknn\u001b[0m\u001b[0;34m.\u001b[0m\u001b[0mrequires\u001b[0m\u001b[0;34m(\u001b[0m\u001b[0;34m)\u001b[0m\u001b[0;34m\u001b[0m\u001b[0;34m\u001b[0m\u001b[0m\n\u001b[0;32m---> 23\u001b[0;31m     \u001b[0mknn\u001b[0m\u001b[0;34m.\u001b[0m\u001b[0mrun\u001b[0m\u001b[0;34m(\u001b[0m\u001b[0;34m)\u001b[0m\u001b[0;34m\u001b[0m\u001b[0;34m\u001b[0m\u001b[0m\n\u001b[0m\u001b[1;32m     24\u001b[0m \u001b[0;34m\u001b[0m\u001b[0m\n\u001b[1;32m     25\u001b[0m     X = np.vstack((knn.reqs_['samples_positive']['X'],\n",
      "\u001b[0;32m/emp_priv/src/experiment_framework/sampling_framework.py\u001b[0m in \u001b[0;36mrun\u001b[0;34m(self)\u001b[0m\n\u001b[1;32m    241\u001b[0m \u001b[0;34m\u001b[0m\u001b[0m\n\u001b[1;32m    242\u001b[0m     \u001b[0;32mdef\u001b[0m \u001b[0mrun\u001b[0m\u001b[0;34m(\u001b[0m\u001b[0mself\u001b[0m\u001b[0;34m)\u001b[0m\u001b[0;34m:\u001b[0m\u001b[0;34m\u001b[0m\u001b[0;34m\u001b[0m\u001b[0m\n\u001b[0;32m--> 243\u001b[0;31m         \u001b[0m_input\u001b[0m \u001b[0;34m=\u001b[0m \u001b[0mself\u001b[0m\u001b[0;34m.\u001b[0m\u001b[0mcompute_or_load_requirements\u001b[0m\u001b[0;34m(\u001b[0m\u001b[0;34m)\u001b[0m\u001b[0;34m\u001b[0m\u001b[0;34m\u001b[0m\u001b[0m\n\u001b[0m\u001b[1;32m    244\u001b[0m \u001b[0;34m\u001b[0m\u001b[0m\n\u001b[1;32m    245\u001b[0m         \u001b[0;31m# We set the random seed since the model's fitter may use\u001b[0m\u001b[0;34m\u001b[0m\u001b[0;34m\u001b[0m\u001b[0;34m\u001b[0m\u001b[0m\n",
      "\u001b[0;32m/emp_priv/src/experiment_framework/utils/luigi_target_mixins.py\u001b[0m in \u001b[0;36mcompute_or_load_requirements\u001b[0;34m(self)\u001b[0m\n\u001b[1;32m     77\u001b[0m             \u001b[0m_input\u001b[0m \u001b[0;34m=\u001b[0m \u001b[0mself\u001b[0m\u001b[0;34m.\u001b[0m\u001b[0mreqs_\u001b[0m\u001b[0;34m\u001b[0m\u001b[0;34m\u001b[0m\u001b[0m\n\u001b[1;32m     78\u001b[0m             \u001b[0;32mfor\u001b[0m \u001b[0mkey\u001b[0m\u001b[0;34m,\u001b[0m \u001b[0mobj\u001b[0m \u001b[0;32min\u001b[0m \u001b[0m_input\u001b[0m\u001b[0;34m.\u001b[0m\u001b[0mitems\u001b[0m\u001b[0;34m(\u001b[0m\u001b[0;34m)\u001b[0m\u001b[0;34m:\u001b[0m\u001b[0;34m\u001b[0m\u001b[0;34m\u001b[0m\u001b[0m\n\u001b[0;32m---> 79\u001b[0;31m                 \u001b[0m_input\u001b[0m\u001b[0;34m[\u001b[0m\u001b[0mkey\u001b[0m\u001b[0;34m]\u001b[0m \u001b[0;34m=\u001b[0m \u001b[0mself\u001b[0m\u001b[0;34m.\u001b[0m\u001b[0m_populate_obj\u001b[0m\u001b[0;34m(\u001b[0m\u001b[0mobj\u001b[0m\u001b[0;34m)\u001b[0m\u001b[0;34m\u001b[0m\u001b[0;34m\u001b[0m\u001b[0m\n\u001b[0m\u001b[1;32m     80\u001b[0m         \u001b[0;32mreturn\u001b[0m \u001b[0m_input\u001b[0m\u001b[0;34m\u001b[0m\u001b[0;34m\u001b[0m\u001b[0m\n\u001b[1;32m     81\u001b[0m \u001b[0;34m\u001b[0m\u001b[0m\n",
      "\u001b[0;32m/emp_priv/src/experiment_framework/utils/luigi_target_mixins.py\u001b[0m in \u001b[0;36m_populate_obj\u001b[0;34m(obj)\u001b[0m\n\u001b[1;32m     87\u001b[0m         \u001b[0;32mif\u001b[0m \u001b[0mhasattr\u001b[0m\u001b[0;34m(\u001b[0m\u001b[0mobj\u001b[0m\u001b[0;34m,\u001b[0m \u001b[0;34m'requires'\u001b[0m\u001b[0;34m)\u001b[0m\u001b[0;34m:\u001b[0m\u001b[0;34m\u001b[0m\u001b[0;34m\u001b[0m\u001b[0m\n\u001b[1;32m     88\u001b[0m             \u001b[0mobj\u001b[0m\u001b[0;34m.\u001b[0m\u001b[0mrequires\u001b[0m\u001b[0;34m(\u001b[0m\u001b[0;34m)\u001b[0m  \u001b[0;31m# to get the object to populate reqs_\u001b[0m\u001b[0;34m\u001b[0m\u001b[0;34m\u001b[0m\u001b[0m\n\u001b[0;32m---> 89\u001b[0;31m             \u001b[0mobj\u001b[0m\u001b[0;34m.\u001b[0m\u001b[0mrun\u001b[0m\u001b[0;34m(\u001b[0m\u001b[0;34m)\u001b[0m\u001b[0;34m\u001b[0m\u001b[0;34m\u001b[0m\u001b[0m\n\u001b[0m\u001b[1;32m     90\u001b[0m             \u001b[0;32mreturn\u001b[0m \u001b[0mobj\u001b[0m\u001b[0;34m.\u001b[0m\u001b[0moutput_\u001b[0m\u001b[0;34m\u001b[0m\u001b[0;34m\u001b[0m\u001b[0m\n\u001b[1;32m     91\u001b[0m         \u001b[0;32melif\u001b[0m \u001b[0mtype\u001b[0m\u001b[0;34m(\u001b[0m\u001b[0mobj\u001b[0m\u001b[0;34m)\u001b[0m \u001b[0;34m==\u001b[0m \u001b[0mlist\u001b[0m\u001b[0;34m:\u001b[0m\u001b[0;34m\u001b[0m\u001b[0;34m\u001b[0m\u001b[0m\n",
      "\u001b[0;32m/emp_priv/src/experiment_framework/sampling_framework.py\u001b[0m in \u001b[0;36mrun\u001b[0;34m(self)\u001b[0m\n\u001b[1;32m    312\u001b[0m \u001b[0;34m\u001b[0m\u001b[0m\n\u001b[1;32m    313\u001b[0m             \u001b[0msamples\u001b[0m \u001b[0;34m=\u001b[0m \u001b[0;34m[\u001b[0m\u001b[0;34m]\u001b[0m\u001b[0;34m\u001b[0m\u001b[0;34m\u001b[0m\u001b[0m\n\u001b[0;32m--> 314\u001b[0;31m             \u001b[0;32mfor\u001b[0m \u001b[0msn\u001b[0m \u001b[0;32min\u001b[0m \u001b[0mrange\u001b[0m\u001b[0;34m(\u001b[0m\u001b[0mself\u001b[0m\u001b[0;34m.\u001b[0m\u001b[0mn_prev\u001b[0m\u001b[0;34m,\u001b[0m \u001b[0mself\u001b[0m\u001b[0;34m.\u001b[0m\u001b[0mnum_samples\u001b[0m\u001b[0;34m)\u001b[0m\u001b[0;34m:\u001b[0m\u001b[0;34m\u001b[0m\u001b[0;34m\u001b[0m\u001b[0m\n\u001b[0m\u001b[1;32m    315\u001b[0m                 \u001b[0;31m# set_progress_percentage is a blocking network IO operation... lol\u001b[0m\u001b[0;34m\u001b[0m\u001b[0;34m\u001b[0m\u001b[0;34m\u001b[0m\u001b[0m\n\u001b[1;32m    316\u001b[0m                 \u001b[0;31m# self.set_progress_percentage(100*(sn-self.n_prev)/n_to_make)\u001b[0m\u001b[0;34m\u001b[0m\u001b[0;34m\u001b[0m\u001b[0;34m\u001b[0m\u001b[0m\n",
      "\u001b[0;31mTypeError\u001b[0m: 'float' object cannot be interpreted as an integer"
     ]
    }
   ],
   "source": [
    "eps = 0.01\n",
    "claimed_eps = eps * 0.9\n",
    "\n",
    "ds = {\n",
    "        'database_0' : (0, 0, 0),\n",
    "        'database_1' : (1, 0, 0),\n",
    "        'sensitivity': 1.,\n",
    "        'epsilon'    : eps,\n",
    "        'claimed_epsilon': claimed_eps,\n",
    "        'delta'      : 0.\n",
    "}\n",
    "\n",
    "CLAIMED_EPS = 0.01\n",
    "probability_of_natural_sample = 1 / (exp(CLAIMED_EPS))\n",
    "probability_of_alternative_sample = 1 - probability_of_natural_sample\n",
    "\n",
    "training_set_size = int(2**10)\n",
    "test_set_size = int(2**10)\n",
    "prior_positive = 0.5\n",
    "prior_negative = 1 - prior_positive  #\n",
    "\n",
    "plot_knn(ds, training_set_size, test_set_size, plot_alternative_samples=False)"
   ]
  },
  {
   "cell_type": "markdown",
   "metadata": {},
   "source": [
    "## sympy"
   ]
  },
  {
   "cell_type": "code",
   "execution_count": 45,
   "metadata": {},
   "outputs": [],
   "source": []
  },
  {
   "cell_type": "code",
   "execution_count": 46,
   "metadata": {},
   "outputs": [
    {
     "name": "stdout",
     "output_type": "stream",
     "text": [
      "0.987930624264561\n"
     ]
    }
   ],
   "source": [
    "vars_ = [n_natural_negative, n_natural_positive, n_alternative]\n",
    "P = 1.0\n",
    "for v in vars_:\n",
    "    P*=Prob(v(test_set_size) >=1)\n",
    "    P*=Prob(v(training_set_size) >= 1)\n",
    "    \n",
    "print(P)"
   ]
  },
  {
   "cell_type": "code",
   "execution_count": 35,
   "metadata": {},
   "outputs": [],
   "source": [
    "def n_natural_negative(n):\n",
    "    return Binomial('n_natural_negative',\n",
    "                              n=n,\n",
    "                              p=prior_negative\n",
    "                         )\n",
    "def n_natural_positive(n):\n",
    "    return Binomial('n_natural_positive',\n",
    "                             n=n,\n",
    "                             p=prior_positive*probability_of_natural_sample)\n",
    "def n_alternative(n):\n",
    "    return Binomial('n_alternative',\n",
    "                        n=n,\n",
    "                        p=prior_positive*probability_of_alternative_sample)\n",
    "\n"
   ]
  }
 ],
 "metadata": {
  "kernelspec": {
   "display_name": "Python 3",
   "language": "python",
   "name": "python3"
  },
  "language_info": {
   "codemirror_mode": {
    "name": "ipython",
    "version": 3
   },
   "file_extension": ".py",
   "mimetype": "text/x-python",
   "name": "python",
   "nbconvert_exporter": "python",
   "pygments_lexer": "ipython3",
   "version": "3.6.8"
  }
 },
 "nbformat": 4,
 "nbformat_minor": 2
}
