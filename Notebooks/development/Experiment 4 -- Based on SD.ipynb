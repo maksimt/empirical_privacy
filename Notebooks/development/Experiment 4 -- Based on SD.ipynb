{
 "cells": [
  {
   "cell_type": "code",
   "execution_count": 27,
   "metadata": {},
   "outputs": [],
   "source": [
    "import itertools\n",
    "import os\n",
    "from collections import namedtuple\n",
    "from math import exp, log\n",
    "\n",
    "import luigi\n",
    "import dill\n",
    "import numpy as np\n",
    "from scipy.stats import binom\n",
    "\n",
    "from experiment_framework.helpers import AllAsymptotics, \\\n",
    "load_completed_AAs_into_dataframe, load_completed_CCCs_into_dataframe\n",
    "from empirical_privacy import laplace_mechanism, config\n",
    "from experiment_framework.asymptotic_analysis import compute_bootstrapped_upper_bound\n",
    "from experiment_framework.calculations import statistical_distance_to_accuracy, accuracy_to_statistical_distance\n",
    "from notebook_context import *"
   ]
  },
  {
   "cell_type": "code",
   "execution_count": 2,
   "metadata": {},
   "outputs": [
    {
     "name": "stdout",
     "output_type": "stream",
     "text": [
      "0 Expected SD=0.010 P(correct)=0.505\n",
      "1 Expected SD=0.105 P(correct)=0.553\n",
      "2 Expected SD=1.718 P(correct)=1.359\n"
     ]
    }
   ],
   "source": [
    "epsilons = [\n",
    "    0.01,\n",
    "    0.1,\n",
    "    1.,\n",
    "]\n",
    "dses = [{\n",
    "        'database_0' : (0, 0, 0),\n",
    "        'database_1' : (1, 0, 0),\n",
    "        'sensitivity': 1.,\n",
    "        'epsilon'    : eps,\n",
    "        'delta'      : 0.\n",
    "} for eps in epsilons]\n",
    "\n",
    "asys = {\n",
    "    'gen_sample_kwargs'  : {'generate_in_batch': True,\n",
    "                            'x_concatenator': 'numpy.vstack'\n",
    "                           },\n",
    "    'fitter'             : 'knn',\n",
    "    # we use random tie-breaking since the samples are discrete\n",
    "    'fitter_kwargs'      : {'neighbor_method': 'gyorfi'},\n",
    "    'n_docs'                : 30,\n",
    "    'confidence_interval_width': 20,\n",
    "    'n_max'              : 2**14,\n",
    "    'validation_set_size': 2**12,\n",
    "    'p'                  : 0.9,  # for bootstrap\n",
    "    't'                  : 0.001  # for bootstrap\n",
    "}\n",
    "\n",
    "def sd(eps, delta):\n",
    "    return exp(eps)-1+delta\n",
    "\n",
    "def pc(eps, delta):\n",
    "    sd_ = sd(eps, delta)\n",
    "    return statistical_distance_to_accuracy(sd_)\n",
    "\n",
    "for (i, ds) in enumerate(dses):\n",
    "    eps = ds[\"epsilon\"]\n",
    "    delta = ds[\"delta\"]\n",
    "    print(f'{i} Expected SD={sd(eps, delta):.3f} P(correct)={pc(eps, delta):.3f}')"
   ]
  },
  {
   "cell_type": "code",
   "execution_count": 18,
   "metadata": {},
   "outputs": [
    {
     "name": "stderr",
     "output_type": "stream",
     "text": [
      "/opt/conda/lib/python3.6/site-packages/luigi/parameter.py:261: UserWarning: Parameter \"random_seed\" with value \"0\" is not of type string.\n",
      "  warnings.warn('Parameter \"{}\" with value \"{}\" is not of type string.'.format(param_name, param_value))\n",
      "/opt/conda/lib/python3.6/site-packages/luigi/parameter.py:261: UserWarning: Parameter \"random_seed\" with value \"0\" is not of type string.\n",
      "  warnings.warn('Parameter \"{}\" with value \"{}\" is not of type string.'.format(param_name, param_value))\n",
      "/opt/conda/lib/python3.6/site-packages/luigi/parameter.py:261: UserWarning: Parameter \"random_seed\" with value \"0\" is not of type string.\n",
      "  warnings.warn('Parameter \"{}\" with value \"{}\" is not of type string.'.format(param_name, param_value))\n",
      "/opt/conda/lib/python3.6/site-packages/luigi/parameter.py:261: UserWarning: Parameter \"random_seed\" with value \"0\" is not of type string.\n",
      "  warnings.warn('Parameter \"{}\" with value \"{}\" is not of type string.'.format(param_name, param_value))\n",
      "/opt/conda/lib/python3.6/site-packages/luigi/parameter.py:261: UserWarning: Parameter \"random_seed\" with value \"0\" is not of type string.\n",
      "  warnings.warn('Parameter \"{}\" with value \"{}\" is not of type string.'.format(param_name, param_value))\n",
      "/opt/conda/lib/python3.6/site-packages/luigi/parameter.py:261: UserWarning: Parameter \"random_seed\" with value \"0\" is not of type string.\n",
      "  warnings.warn('Parameter \"{}\" with value \"{}\" is not of type string.'.format(param_name, param_value))\n",
      "/opt/conda/lib/python3.6/site-packages/luigi/parameter.py:261: UserWarning: Parameter \"random_seed\" with value \"0\" is not of type string.\n",
      "  warnings.warn('Parameter \"{}\" with value \"{}\" is not of type string.'.format(param_name, param_value))\n",
      "/opt/conda/lib/python3.6/site-packages/luigi/parameter.py:261: UserWarning: Parameter \"random_seed\" with value \"0\" is not of type string.\n",
      "  warnings.warn('Parameter \"{}\" with value \"{}\" is not of type string.'.format(param_name, param_value))\n",
      "/opt/conda/lib/python3.6/site-packages/luigi/parameter.py:261: UserWarning: Parameter \"random_seed\" with value \"0\" is not of type string.\n",
      "  warnings.warn('Parameter \"{}\" with value \"{}\" is not of type string.'.format(param_name, param_value))\n",
      "/opt/conda/lib/python3.6/site-packages/luigi/parameter.py:261: UserWarning: Parameter \"random_seed\" with value \"0\" is not of type string.\n",
      "  warnings.warn('Parameter \"{}\" with value \"{}\" is not of type string.'.format(param_name, param_value))\n",
      "/opt/conda/lib/python3.6/site-packages/luigi/parameter.py:261: UserWarning: Parameter \"random_seed\" with value \"0\" is not of type string.\n",
      "  warnings.warn('Parameter \"{}\" with value \"{}\" is not of type string.'.format(param_name, param_value))\n",
      "/opt/conda/lib/python3.6/site-packages/luigi/parameter.py:261: UserWarning: Parameter \"random_seed\" with value \"0\" is not of type string.\n",
      "  warnings.warn('Parameter \"{}\" with value \"{}\" is not of type string.'.format(param_name, param_value))\n",
      "/opt/conda/lib/python3.6/site-packages/luigi/parameter.py:261: UserWarning: Parameter \"random_seed\" with value \"0\" is not of type string.\n",
      "  warnings.warn('Parameter \"{}\" with value \"{}\" is not of type string.'.format(param_name, param_value))\n",
      "/opt/conda/lib/python3.6/site-packages/luigi/parameter.py:261: UserWarning: Parameter \"random_seed\" with value \"0\" is not of type string.\n",
      "  warnings.warn('Parameter \"{}\" with value \"{}\" is not of type string.'.format(param_name, param_value))\n",
      "/opt/conda/lib/python3.6/site-packages/luigi/parameter.py:261: UserWarning: Parameter \"random_seed\" with value \"0\" is not of type string.\n",
      "  warnings.warn('Parameter \"{}\" with value \"{}\" is not of type string.'.format(param_name, param_value))\n",
      "/opt/conda/lib/python3.6/site-packages/luigi/parameter.py:261: UserWarning: Parameter \"random_seed\" with value \"0\" is not of type string.\n",
      "  warnings.warn('Parameter \"{}\" with value \"{}\" is not of type string.'.format(param_name, param_value))\n",
      "/opt/conda/lib/python3.6/site-packages/luigi/parameter.py:261: UserWarning: Parameter \"random_seed\" with value \"0\" is not of type string.\n",
      "  warnings.warn('Parameter \"{}\" with value \"{}\" is not of type string.'.format(param_name, param_value))\n",
      "/opt/conda/lib/python3.6/site-packages/luigi/parameter.py:261: UserWarning: Parameter \"random_seed\" with value \"0\" is not of type string.\n",
      "  warnings.warn('Parameter \"{}\" with value \"{}\" is not of type string.'.format(param_name, param_value))\n",
      "/opt/conda/lib/python3.6/site-packages/luigi/parameter.py:261: UserWarning: Parameter \"random_seed\" with value \"0\" is not of type string.\n",
      "  warnings.warn('Parameter \"{}\" with value \"{}\" is not of type string.'.format(param_name, param_value))\n",
      "/opt/conda/lib/python3.6/site-packages/luigi/parameter.py:261: UserWarning: Parameter \"random_seed\" with value \"0\" is not of type string.\n",
      "  warnings.warn('Parameter \"{}\" with value \"{}\" is not of type string.'.format(param_name, param_value))\n",
      "/opt/conda/lib/python3.6/site-packages/luigi/parameter.py:261: UserWarning: Parameter \"random_seed\" with value \"0\" is not of type string.\n",
      "  warnings.warn('Parameter \"{}\" with value \"{}\" is not of type string.'.format(param_name, param_value))\n",
      "/opt/conda/lib/python3.6/site-packages/luigi/parameter.py:261: UserWarning: Parameter \"random_seed\" with value \"0\" is not of type string.\n",
      "  warnings.warn('Parameter \"{}\" with value \"{}\" is not of type string.'.format(param_name, param_value))\n",
      "/opt/conda/lib/python3.6/site-packages/luigi/parameter.py:261: UserWarning: Parameter \"random_seed\" with value \"0\" is not of type string.\n",
      "  warnings.warn('Parameter \"{}\" with value \"{}\" is not of type string.'.format(param_name, param_value))\n",
      "/opt/conda/lib/python3.6/site-packages/luigi/parameter.py:261: UserWarning: Parameter \"random_seed\" with value \"0\" is not of type string.\n",
      "  warnings.warn('Parameter \"{}\" with value \"{}\" is not of type string.'.format(param_name, param_value))\n",
      "/opt/conda/lib/python3.6/site-packages/luigi/parameter.py:261: UserWarning: Parameter \"random_seed\" with value \"0\" is not of type string.\n",
      "  warnings.warn('Parameter \"{}\" with value \"{}\" is not of type string.'.format(param_name, param_value))\n",
      "/opt/conda/lib/python3.6/site-packages/luigi/parameter.py:261: UserWarning: Parameter \"random_seed\" with value \"0\" is not of type string.\n",
      "  warnings.warn('Parameter \"{}\" with value \"{}\" is not of type string.'.format(param_name, param_value))\n",
      "/opt/conda/lib/python3.6/site-packages/luigi/parameter.py:261: UserWarning: Parameter \"random_seed\" with value \"0\" is not of type string.\n",
      "  warnings.warn('Parameter \"{}\" with value \"{}\" is not of type string.'.format(param_name, param_value))\n",
      "/opt/conda/lib/python3.6/site-packages/luigi/parameter.py:261: UserWarning: Parameter \"random_seed\" with value \"0\" is not of type string.\n",
      "  warnings.warn('Parameter \"{}\" with value \"{}\" is not of type string.'.format(param_name, param_value))\n",
      "/opt/conda/lib/python3.6/site-packages/luigi/parameter.py:261: UserWarning: Parameter \"random_seed\" with value \"0\" is not of type string.\n",
      "  warnings.warn('Parameter \"{}\" with value \"{}\" is not of type string.'.format(param_name, param_value))\n",
      "/opt/conda/lib/python3.6/site-packages/luigi/parameter.py:261: UserWarning: Parameter \"random_seed\" with value \"0\" is not of type string.\n",
      "  warnings.warn('Parameter \"{}\" with value \"{}\" is not of type string.'.format(param_name, param_value))\n",
      "/opt/conda/lib/python3.6/site-packages/luigi/parameter.py:261: UserWarning: Parameter \"random_seed\" with value \"0\" is not of type string.\n",
      "  warnings.warn('Parameter \"{}\" with value \"{}\" is not of type string.'.format(param_name, param_value))\n",
      "/opt/conda/lib/python3.6/site-packages/luigi/parameter.py:261: UserWarning: Parameter \"random_seed\" with value \"0\" is not of type string.\n",
      "  warnings.warn('Parameter \"{}\" with value \"{}\" is not of type string.'.format(param_name, param_value))\n",
      "/opt/conda/lib/python3.6/site-packages/luigi/parameter.py:261: UserWarning: Parameter \"random_seed\" with value \"0\" is not of type string.\n",
      "  warnings.warn('Parameter \"{}\" with value \"{}\" is not of type string.'.format(param_name, param_value))\n",
      "/opt/conda/lib/python3.6/site-packages/luigi/parameter.py:261: UserWarning: Parameter \"random_seed\" with value \"0\" is not of type string.\n",
      "  warnings.warn('Parameter \"{}\" with value \"{}\" is not of type string.'.format(param_name, param_value))\n",
      "/opt/conda/lib/python3.6/site-packages/luigi/parameter.py:261: UserWarning: Parameter \"random_seed\" with value \"0\" is not of type string.\n",
      "  warnings.warn('Parameter \"{}\" with value \"{}\" is not of type string.'.format(param_name, param_value))\n",
      "/opt/conda/lib/python3.6/site-packages/luigi/parameter.py:261: UserWarning: Parameter \"random_seed\" with value \"0\" is not of type string.\n",
      "  warnings.warn('Parameter \"{}\" with value \"{}\" is not of type string.'.format(param_name, param_value))\n",
      "/opt/conda/lib/python3.6/site-packages/luigi/parameter.py:261: UserWarning: Parameter \"random_seed\" with value \"0\" is not of type string.\n",
      "  warnings.warn('Parameter \"{}\" with value \"{}\" is not of type string.'.format(param_name, param_value))\n",
      "/opt/conda/lib/python3.6/site-packages/luigi/parameter.py:261: UserWarning: Parameter \"random_seed\" with value \"0\" is not of type string.\n",
      "  warnings.warn('Parameter \"{}\" with value \"{}\" is not of type string.'.format(param_name, param_value))\n",
      "/opt/conda/lib/python3.6/site-packages/luigi/parameter.py:261: UserWarning: Parameter \"random_seed\" with value \"0\" is not of type string.\n",
      "  warnings.warn('Parameter \"{}\" with value \"{}\" is not of type string.'.format(param_name, param_value))\n",
      "/opt/conda/lib/python3.6/site-packages/luigi/parameter.py:261: UserWarning: Parameter \"random_seed\" with value \"0\" is not of type string.\n",
      "  warnings.warn('Parameter \"{}\" with value \"{}\" is not of type string.'.format(param_name, param_value))\n",
      "/opt/conda/lib/python3.6/site-packages/luigi/parameter.py:261: UserWarning: Parameter \"random_seed\" with value \"0\" is not of type string.\n",
      "  warnings.warn('Parameter \"{}\" with value \"{}\" is not of type string.'.format(param_name, param_value))\n",
      "/opt/conda/lib/python3.6/site-packages/luigi/parameter.py:261: UserWarning: Parameter \"random_seed\" with value \"0\" is not of type string.\n",
      "  warnings.warn('Parameter \"{}\" with value \"{}\" is not of type string.'.format(param_name, param_value))\n",
      "/opt/conda/lib/python3.6/site-packages/luigi/parameter.py:261: UserWarning: Parameter \"random_seed\" with value \"0\" is not of type string.\n",
      "  warnings.warn('Parameter \"{}\" with value \"{}\" is not of type string.'.format(param_name, param_value))\n",
      "/opt/conda/lib/python3.6/site-packages/luigi/parameter.py:261: UserWarning: Parameter \"random_seed\" with value \"0\" is not of type string.\n",
      "  warnings.warn('Parameter \"{}\" with value \"{}\" is not of type string.'.format(param_name, param_value))\n",
      "/opt/conda/lib/python3.6/site-packages/luigi/parameter.py:261: UserWarning: Parameter \"random_seed\" with value \"0\" is not of type string.\n",
      "  warnings.warn('Parameter \"{}\" with value \"{}\" is not of type string.'.format(param_name, param_value))\n",
      "/opt/conda/lib/python3.6/site-packages/luigi/parameter.py:261: UserWarning: Parameter \"random_seed\" with value \"0\" is not of type string.\n",
      "  warnings.warn('Parameter \"{}\" with value \"{}\" is not of type string.'.format(param_name, param_value))\n",
      "/opt/conda/lib/python3.6/site-packages/luigi/parameter.py:261: UserWarning: Parameter \"random_seed\" with value \"0\" is not of type string.\n",
      "  warnings.warn('Parameter \"{}\" with value \"{}\" is not of type string.'.format(param_name, param_value))\n",
      "/opt/conda/lib/python3.6/site-packages/luigi/parameter.py:261: UserWarning: Parameter \"random_seed\" with value \"0\" is not of type string.\n",
      "  warnings.warn('Parameter \"{}\" with value \"{}\" is not of type string.'.format(param_name, param_value))\n",
      "/opt/conda/lib/python3.6/site-packages/luigi/parameter.py:261: UserWarning: Parameter \"random_seed\" with value \"0\" is not of type string.\n",
      "  warnings.warn('Parameter \"{}\" with value \"{}\" is not of type string.'.format(param_name, param_value))\n",
      "/opt/conda/lib/python3.6/site-packages/luigi/parameter.py:261: UserWarning: Parameter \"random_seed\" with value \"0\" is not of type string.\n",
      "  warnings.warn('Parameter \"{}\" with value \"{}\" is not of type string.'.format(param_name, param_value))\n",
      "/opt/conda/lib/python3.6/site-packages/luigi/parameter.py:261: UserWarning: Parameter \"random_seed\" with value \"0\" is not of type string.\n",
      "  warnings.warn('Parameter \"{}\" with value \"{}\" is not of type string.'.format(param_name, param_value))\n",
      "/opt/conda/lib/python3.6/site-packages/luigi/parameter.py:261: UserWarning: Parameter \"random_seed\" with value \"0\" is not of type string.\n",
      "  warnings.warn('Parameter \"{}\" with value \"{}\" is not of type string.'.format(param_name, param_value))\n",
      "/opt/conda/lib/python3.6/site-packages/luigi/parameter.py:261: UserWarning: Parameter \"random_seed\" with value \"0\" is not of type string.\n",
      "  warnings.warn('Parameter \"{}\" with value \"{}\" is not of type string.'.format(param_name, param_value))\n",
      "/opt/conda/lib/python3.6/site-packages/luigi/parameter.py:261: UserWarning: Parameter \"random_seed\" with value \"0\" is not of type string.\n",
      "  warnings.warn('Parameter \"{}\" with value \"{}\" is not of type string.'.format(param_name, param_value))\n",
      "/opt/conda/lib/python3.6/site-packages/luigi/parameter.py:261: UserWarning: Parameter \"random_seed\" with value \"0\" is not of type string.\n",
      "  warnings.warn('Parameter \"{}\" with value \"{}\" is not of type string.'.format(param_name, param_value))\n",
      "/opt/conda/lib/python3.6/site-packages/luigi/parameter.py:261: UserWarning: Parameter \"random_seed\" with value \"0\" is not of type string.\n",
      "  warnings.warn('Parameter \"{}\" with value \"{}\" is not of type string.'.format(param_name, param_value))\n",
      "/opt/conda/lib/python3.6/site-packages/luigi/parameter.py:261: UserWarning: Parameter \"random_seed\" with value \"0\" is not of type string.\n",
      "  warnings.warn('Parameter \"{}\" with value \"{}\" is not of type string.'.format(param_name, param_value))\n",
      "/opt/conda/lib/python3.6/site-packages/luigi/parameter.py:261: UserWarning: Parameter \"random_seed\" with value \"0\" is not of type string.\n",
      "  warnings.warn('Parameter \"{}\" with value \"{}\" is not of type string.'.format(param_name, param_value))\n",
      "/opt/conda/lib/python3.6/site-packages/luigi/parameter.py:261: UserWarning: Parameter \"random_seed\" with value \"0\" is not of type string.\n",
      "  warnings.warn('Parameter \"{}\" with value \"{}\" is not of type string.'.format(param_name, param_value))\n",
      "/opt/conda/lib/python3.6/site-packages/luigi/parameter.py:261: UserWarning: Parameter \"random_seed\" with value \"0\" is not of type string.\n",
      "  warnings.warn('Parameter \"{}\" with value \"{}\" is not of type string.'.format(param_name, param_value))\n"
     ]
    }
   ],
   "source": [
    "CCCs = dict()\n",
    "Alls = dict()\n",
    "for (i, ds) in enumerate(dses):\n",
    "    eps = epsilons[i]\n",
    "    All = AllAsymptotics(\n",
    "            gen_sample_path='empirical_privacy.laplace_mechanism.GenSampleLaplaceMechanism',\n",
    "            dataset_settings=ds,\n",
    "            asymptotic_settings=asys)\n",
    "    Alls[eps] = All\n",
    "#     for AA in All.requires():\n",
    "#         AA.delete_outputs()\n",
    "#         AA.delete_deps()\n",
    "    CCCs[eps] = [AA.requires()['CCC'] for AA in All.requires()]\n",
    "    "
   ]
  },
  {
   "cell_type": "code",
   "execution_count": 20,
   "metadata": {},
   "outputs": [
    {
     "data": {
      "text/plain": [
       "True"
      ]
     },
     "execution_count": 20,
     "metadata": {},
     "output_type": "execute_result"
    }
   ],
   "source": [
    "CCC_jobs = list(itertools.chain(*[[AA.requires()['CCC'] for AA in All.requires()] for All in Alls.values()]))\n",
    "luigi.build(CCC_jobs, workers=16, log_level='ERROR', local_scheduler=True)  # compute CCCs using 16 workers since they're single threaded\n",
    "luigi.build([All for All in Alls.values()], workers=2, log_level='ERROR', local_scheduler=True)  # do bootstrap using 2 workers since each bootstrap is parallelized"
   ]
  },
  {
   "cell_type": "markdown",
   "metadata": {},
   "source": [
    "### Plot outcomes for all trials"
   ]
  },
  {
   "cell_type": "code",
   "execution_count": 21,
   "metadata": {},
   "outputs": [],
   "source": [
    "import pandas as pd\n",
    "\n",
    "from scipy.optimize import least_squares\n",
    "\n",
    "\n",
    "from experiment_framework.asymptotic_analysis import hoeffding_n_given_t_and_p_one_sided, bootstrap_ci,\\\n",
    "    asymptotic_privacy_lr, transform_n_to_k_for_knn, asymptotic_curve\n",
    "from experiment_framework.privacy_estimator_mixins import get_k"
   ]
  },
  {
   "cell_type": "markdown",
   "metadata": {},
   "source": [
    "### Plot for a particular epsilon"
   ]
  },
  {
   "cell_type": "code",
   "execution_count": 30,
   "metadata": {},
   "outputs": [],
   "source": [
    "eps = 0.1\n",
    "ds = dses[epsilons.index(eps)]\n",
    "delta = ds['delta']\n",
    "\n",
    "All = AllAsymptotics(\n",
    "            gen_sample_path='empirical_privacy.laplace_mechanism.GenSampleLaplaceMechanism',\n",
    "            dataset_settings=ds,\n",
    "            asymptotic_settings=asys)\n",
    "CCCs = [AA.requires()['CCC'] for AA in All.requires()]\n",
    "\n",
    "AAs = All.requires()\n",
    "DF = load_completed_AAs_into_dataframe(AAs)\n"
   ]
  },
  {
   "cell_type": "code",
   "execution_count": 33,
   "metadata": {
    "scrolled": false
   },
   "outputs": [
    {
     "name": "stdout",
     "output_type": "stream",
     "text": [
      "w/ prob 90.0% min eps is 0.04387226340012952\n"
     ]
    },
    {
     "data": {
      "image/png": "[encoded data removed]",
      "text/plain": [
       "<Figure size 432x288 with 1 Axes>"
      ]
     },
     "metadata": {},
     "output_type": "display_data"
    }
   ],
   "source": [
    "ax = DF.upper_bound.plot(kind='hist', bins=30)\n",
    "true_ub = pc(eps, delta)\n",
    "plt.axvline(x=true_ub, color='r')\n",
    "plt.text(x=true_ub,\n",
    "         y=0.9,\n",
    "         s='$C_\\infty^*$ = {:.3f}'.format(true_ub),\n",
    "         transform=x_data_y_axis(),\n",
    "         horizontalalignment='center',\n",
    "         bbox=dict(facecolor='w', edgecolor='r', boxstyle='round')\n",
    "        )\n",
    "plt.xlabel('Upper Bound on $P[$Correct$]$')\n",
    "\n",
    "\n",
    "min_eps = accuracy_to_statistical_distance(DF.upper_bound.quantile(1-asys['p']))\n",
    "min_eps = log(min_eps+1)\n",
    "print(f\"w/ prob {asys['p']*100}% min eps is {min_eps}\")\n",
    "\n",
    "if SAVE_FIGURES_FOR_LATEX:\n",
    "    plt.title('')\n",
    "    plt.ylabel('Frequency')\n",
    "    plt.xlabel('Estimated Upper Bound on $C^*_\\infty$')\n",
    "    plt.tight_layout()\n",
    "    plt.savefig(os.path.join(FIGURES_PATH, 'experiment_4_upper_bound_histogram.eps'))"
   ]
  },
  {
   "cell_type": "code",
   "execution_count": 48,
   "metadata": {},
   "outputs": [],
   "source": [
    "configure_plotting_for_publication()\n",
    "\n",
    "SAVE_FIGURES_FOR_LATEX = False\n",
    "\n",
    "\n",
    "import pandas as pd\n",
    "\n",
    "from scipy.optimize import least_squares\n",
    "\n",
    "\n",
    "from experiment_framework.asymptotic_analysis import hoeffding_n_given_t_and_p_one_sided, bootstrap_ci,\\\n",
    "    asymptotic_privacy_lr, transform_n_to_k_for_knn, asymptotic_curve\n",
    "from experiment_framework.privacy_estimator_mixins import get_k"
   ]
  },
  {
   "cell_type": "code",
   "execution_count": 49,
   "metadata": {},
   "outputs": [
    {
     "name": "stdout",
     "output_type": "stream",
     "text": [
      "(4200, 12)\n",
      "Training set sizes =  1024 -- 16384\n",
      "m=0.5169272184755977 C=0.12479978891530917\n"
     ]
    },
    {
     "data": {
      "image/png": "[encoded data removed]",
      "text/plain": [
       "<Figure size 560x420 with 2 Axes>"
      ]
     },
     "metadata": {},
     "output_type": "display_data"
    }
   ],
   "source": [
    "DFccc = load_completed_CCCs_into_dataframe(CCCs)\n",
    "print(DFccc.shape)\n",
    "\n",
    "confidence_interval_width = 0.01\n",
    "confidence_interval_prob = 0.9\n",
    "    \n",
    "def plot_CCC_DF(DF, doc_ind=None, d=3, min_tss=None):\n",
    "    global SAVE_FIGURES_FOR_LATEX\n",
    "    if doc_ind is not None:\n",
    "        DF = DF.loc[DF.doc_ind == doc_ind, :]\n",
    "    if min_tss is not None:\n",
    "        DF = DF[DF.training_set_size >= min_tss]\n",
    "    print('Training set sizes = ',\n",
    "      DF.training_set_size.min(),\n",
    "      '--',\n",
    "      DF.training_set_size.max()\n",
    "     )\n",
    "    DF.loc[DF.classifier_accuracy < 0.5, 'classifier_accuracy'] = 0.5\n",
    "    n_docs = DF.doc_ind.nunique()\n",
    "    cp = sns.color_palette('hls', n_docs, desat=0.9)\n",
    "    handle = sns.scatterplot(\n",
    "        data=DF,\n",
    "        x='training_set_size',\n",
    "        y='classifier_accuracy',\n",
    "        hue='doc_ind',\n",
    "        legend=None,\n",
    "        palette=cp,\n",
    "    \n",
    "    )\n",
    "   \n",
    "    # curve for all the data\n",
    "    d=3\n",
    "    fit_model = 'gyorfi'\n",
    "    x = DF.training_set_size.values.astype(np.double)\n",
    "    ks = transform_n_to_k_for_knn(x, fit_model, d=d)\n",
    "    y = DF.classifier_accuracy.values\n",
    "    m, C = asymptotic_curve(ks, y)\n",
    "    print(f'm={m} C={C}')\n",
    "    \n",
    "    # bootstrap for ub\n",
    "    boot_res = compute_bootstrapped_upper_bound(x, d, fit_model, y,\n",
    "                                 confidence_interval_prob,\n",
    "                                 confidence_interval_width)\n",
    "    samples = boot_res['bootstrap_samples'] \n",
    "    \n",
    "    ub = boot_res['ub']\n",
    "    base = config.SAMPLES_BASE\n",
    "    xx = np.logspace(np.log(np.min(x))/np.log(base),\n",
    "                     np.log(np.max(x))/np.log(base),\n",
    "                    base=base)\n",
    "    kks = transform_n_to_k_for_knn(xx, fit_model, d=d)\n",
    "    plt.plot(xx, m+C*kks, '-g')\n",
    "    \n",
    "    labeled_axhline(ub, 'U.B.', 'k', handle)\n",
    "    labeled_axhline(m, '$E[C_\\infty]$', 'g', handle, linestyle='--')\n",
    "    labeled_axhline(pc(eps, delta), '$C_\\infty^*$', 'r', handle)\n",
    "    \n",
    "    plt.xticks(x, ['$2^{%s}$'%'{:}'.format(int(np.log(xx)/np.log(2))) for xx in x],\n",
    "              rotation=30)\n",
    "    \n",
    "    if SAVE_FIGURES_FOR_LATEX:\n",
    "        plt.xlabel('Training Set Size')\n",
    "        plt.ylabel('P[correct]')\n",
    "    \n",
    "    ax2 = handle.twiny()\n",
    "    ax2.set_xlim(0, 100.0)\n",
    "    ax2.set_xticks([])\n",
    "    sns.distplot(a=samples,\n",
    "                 bins=30,\n",
    "                 hist=True,\n",
    "                 hist_kws={'alpha':0.30},\n",
    "                 norm_hist=True,\n",
    "                 kde=False,\n",
    "                 kde_kws={'linestyle':':', 'alpha':0.75},\n",
    "                 rug=False,\n",
    "                 vertical=True,\n",
    "                 color='g',\n",
    "                ax=ax2)\n",
    "\n",
    "    if SAVE_FIGURES_FOR_LATEX:\n",
    "        plt.tight_layout()\n",
    "        plt.savefig(os.path.join(FIGURES_PATH, 'experiment_4_bootstrap_visualization.png'))\n",
    "\n",
    "\n",
    "    \n",
    "# call the function\n",
    "plot_CCC_DF(DFccc, 1, min_tss=2**10)\n"
   ]
  }
 ],
 "metadata": {
  "kernelspec": {
   "display_name": "Python 3",
   "language": "python",
   "name": "python3"
  },
  "language_info": {
   "codemirror_mode": {
    "name": "ipython",
    "version": 3
   },
   "file_extension": ".py",
   "mimetype": "text/x-python",
   "name": "python",
   "nbconvert_exporter": "python",
   "pygments_lexer": "ipython3",
   "version": "3.6.8"
  }
 },
 "nbformat": 4,
 "nbformat_minor": 2
}
