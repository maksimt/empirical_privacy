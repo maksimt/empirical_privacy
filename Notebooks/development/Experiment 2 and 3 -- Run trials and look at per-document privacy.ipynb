{
 "cells": [
  {
   "cell_type": "code",
   "execution_count": 1,
   "metadata": {},
   "outputs": [],
   "source": [
    "import copy\n",
    "import itertools\n",
    "from pprint import pprint\n",
    "import warnings\n",
    "\n",
    "\n",
    "\n",
    "import numpy as np\n",
    "import luigi\n",
    "import dill\n",
    "import pandas as pd\n",
    "\n",
    "from experiment_framework.helpers import load_completed_CCCs_into_dataframe, load_completed_AAs_into_dataframe\n",
    "from empirical_privacy.row_distributed_svd import \\\n",
    "svd_dataset_settings, ExpCCCSVD, CCCSVD, AllSVDAsymptotics\n",
    "from dataset_utils.recsys_datasets import get_ml1m_user\n",
    "from dataset_utils.text_datasets import get_twenty_doc\n",
    "\n",
    "from notebook_context import *"
   ]
  },
  {
   "cell_type": "markdown",
   "metadata": {},
   "source": [
    "# Measuring and analyzing asymptotic accuracy"
   ]
  },
  {
   "cell_type": "markdown",
   "metadata": {},
   "source": [
    "##### Experiment 2 -- distributed SVD on two datasets"
   ]
  },
  {
   "cell_type": "markdown",
   "metadata": {},
   "source": [
    "This experiment should complete overnight on a 2012+ 4-8 core machine."
   ]
  },
  {
   "cell_type": "code",
   "execution_count": 2,
   "metadata": {},
   "outputs": [],
   "source": [
    "warnings.simplefilter('ignore')  # luigi's warnings are not relevant to use\n",
    "asymptotics_job = AllSVDAsymptotics(datasets=['ml-1m', '20NG'],\n",
    "                                    part_fractions=[0.01])"
   ]
  },
  {
   "cell_type": "markdown",
   "metadata": {},
   "source": [
    "##### Experiment 3 -- distributed SVD with larger part fractions"
   ]
  },
  {
   "cell_type": "code",
   "execution_count": 3,
   "metadata": {},
   "outputs": [],
   "source": [
    "# uncomment the experiment you want to run and re-run the cells below\n",
    "\n",
    "# this takes a couple days on a 16-core machine\n",
    "asymptotics_job = AllSVDAsymptotics(datasets=['ml-1m', '20NG'],\n",
    "                                    part_fractions=[0.01, 0.1])\n",
    "\n",
    "# this takes over a week on a 16-core machine\n",
    "# asymptotics_job = AllSVDAsymptotics(datasets=['ml-1m', '20NG'],\n",
    "#                                     part_fractions=[0.01, 0.1, 0.9])"
   ]
  },
  {
   "cell_type": "markdown",
   "metadata": {},
   "source": [
    "### Run the Experiment and Visualize Results"
   ]
  },
  {
   "cell_type": "code",
   "execution_count": null,
   "metadata": {},
   "outputs": [],
   "source": [
    "AAs = asymptotics_job.requires()\n",
    "luigi.build(AAs, local_scheduler=True, workers=4, log_level='ERROR')\n",
    "DF = load_completed_AAs_into_dataframe(AAs)\n",
    "DF.to_csv('AsymptoticsResults.csv')"
   ]
  },
  {
   "cell_type": "code",
   "execution_count": null,
   "metadata": {},
   "outputs": [],
   "source": [
    "DF_asymptotics = pd.read_csv('AsymptoticsResults.csv')\n",
    "CCCs = [AA.requires()['CCC'] for AA in AAs]\n",
    "DF_ccc = load_completed_CCCs_into_dataframe(CCCs)"
   ]
  },
  {
   "cell_type": "code",
   "execution_count": null,
   "metadata": {},
   "outputs": [],
   "source": [
    "n_docs = DF_asymptotics.doc_ind.nunique()\n",
    "n_max = DF_ccc.n_max.max()\n",
    "print(n_docs)\n",
    "DF_asymptotics = DF_asymptotics[\n",
    "    DF_asymptotics.n_trials_per_training_set_size \n",
    "    == DF_asymptotics.n_trials_per_training_set_size.max()]\n",
    "\n",
    "print(DF_asymptotics.columns)\n",
    "print(DF_ccc.columns)\n",
    "intersection_index = DF_asymptotics.columns.intersection(DF_ccc.columns)\n",
    "print('Intersection = ', intersection_index)\n",
    "\n",
    "DF = DF_ccc.merge(DF_asymptotics,\n",
    "                  on=intersection_index.values.tolist(),\n",
    "                  how='outer')\n",
    "DF.loc[DF.classifier_accuracy < 0.5, 'classifier_accuracy'] = 0.5"
   ]
  },
  {
   "cell_type": "markdown",
   "metadata": {},
   "source": [
    "### Plot the results"
   ]
  },
  {
   "cell_type": "code",
   "execution_count": null,
   "metadata": {},
   "outputs": [],
   "source": [
    "configure_plotting_for_publication()\n",
    "\n",
    "def query_df(DF, subview):\n",
    "    query = ' & '.join(['{k}=={v}'.format(k=k, v=v if type(v) is not str else '\"'+v+'\"') for k,v in subview.items()])\n",
    "    return DF.query(query)"
   ]
  },
  {
   "cell_type": "code",
   "execution_count": null,
   "metadata": {
    "scrolled": false
   },
   "outputs": [],
   "source": [
    "# SDF = DF[DF.training_set_size==n_max]\n",
    "\n",
    "def comparison_plot(hue_by='part_fraction', save_prefix='experiment2'):\n",
    "    group_by = ['dataset_name']\n",
    "    cp = sns.color_palette('hls', n_docs)\n",
    "    for gn, sub_df in DF.groupby(group_by):\n",
    "        sub_df = sub_df[sub_df.training_set_size==n_max]\n",
    "        plt.figure()\n",
    "        ax = sns.violinplot(\n",
    "                            x='doc_ind',\n",
    "                            y='classifier_accuracy', \n",
    "                            hue=hue_by,\n",
    "                            inner=None,\n",
    "                            cut=20,\n",
    "                            data=sub_df,\n",
    "                            split=True,  # split the violin\n",
    "                            palette=cp,\n",
    "                            scale='area'\n",
    "                )\n",
    "        ax = sns.violinplot(\n",
    "                            x='doc_ind',\n",
    "                            y='upper_bound', \n",
    "                            hue=hue_by,\n",
    "                            data=sub_df,\n",
    "                            inner=None,\n",
    "                            split=True,  # split the violin\n",
    "                            palette=cp,)\n",
    "        handles, _ = ax.get_legend_handles_labels()\n",
    "        plt.ylabel('P[correct] (lower $\\propto$ more privacy)')\n",
    "        if gn=='20NG':\n",
    "            plt.xlabel('Document #')\n",
    "#             plt.ylabel('')\n",
    "        if gn=='ml-1m':\n",
    "            plt.xlabel('User #')\n",
    "        plt.legend(handles,\n",
    "                   DF[hue_by].unique(),\n",
    "                   ncol=3,\n",
    "                   loc=(0, 1.05))\n",
    "        plt.yticks(np.arange(0.5,1.01,0.1))\n",
    "        if SAVE_FIGURES_FOR_LATEX:\n",
    "            export_legend(ax.get_legend(),\n",
    "                         filename=join(FIGURES_PATH, '{}_legend.eps'.format(save_prefix)))\n",
    "            plt.tight_layout()\n",
    "            plt.savefig(join(FIGURES_PATH, '{}_{}.eps'.format(save_prefix, gn)))\n",
    "            \n",
    "\n",
    "comparison_plot(hue_by='part_fraction', save_prefix='experiment2')"
   ]
  },
  {
   "cell_type": "markdown",
   "metadata": {},
   "source": [
    "### Experiment 4 -- effect of hiding eigenvalues"
   ]
  },
  {
   "cell_type": "code",
   "execution_count": null,
   "metadata": {},
   "outputs": [],
   "source": [
    "import itertools\n",
    "asymptotics_jobs = [AllSVDAsymptotics(datasets=['ml-1m', '20NG'],\n",
    "                                      part_fractions=[0.01],\n",
    "                                      svd_kwargs={'SVD_type':k})\n",
    "                    for k in ['hidden_eigs',\n",
    "                              'exposed_eigs',\n",
    "#                               'full_correlation'\n",
    "                             ]\n",
    "                   ]\n",
    "AAs = list(itertools.chain(*[aj.requires() for aj in asymptotics_jobs]))\n",
    "luigi.build(AAs, local_scheduler=True, workers=4, log_level='ERROR')\n",
    "\n",
    "DF_expm4 = load_completed_AAs_into_dataframe(AAs)\n",
    "CCCs = [AA.requires()['CCC'] for AA in AAs]\n",
    "DF_ccc_expm4 = load_completed_CCCs_into_dataframe(CCCs)\n",
    "\n",
    "intersection_index = DF_expm4.columns.intersection(DF_ccc_expm4.columns)\n",
    "\n",
    "DF = DF_ccc_expm4.merge(DF_expm4,\n",
    "                      on=intersection_index.values.tolist(),\n",
    "                      how='outer')\n",
    "DF.loc[DF.classifier_accuracy < 0.5, 'classifier_accuracy'] = 0.5\n",
    "DF = DF[DF.part_fraction==0.01]\n",
    "n_docs = DF.doc_ind.nunique()\n",
    "n_max = DF.n_max.max()"
   ]
  },
  {
   "cell_type": "code",
   "execution_count": null,
   "metadata": {},
   "outputs": [],
   "source": [
    "comparison_plot(hue_by='SVD_type', save_prefix='experiment4')"
   ]
  }
 ],
 "metadata": {
  "kernelspec": {
   "display_name": "Python 3",
   "language": "python",
   "name": "python3"
  },
  "language_info": {
   "codemirror_mode": {
    "name": "ipython",
    "version": 3
   },
   "file_extension": ".py",
   "mimetype": "text/x-python",
   "name": "python",
   "nbconvert_exporter": "python",
   "pygments_lexer": "ipython3",
   "version": "3.6.8"
  }
 },
 "nbformat": 4,
 "nbformat_minor": 1
}
