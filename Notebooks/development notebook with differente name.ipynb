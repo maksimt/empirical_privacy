{
 "cells": [
  {
   "cell_type": "markdown",
   "metadata": {},
   "source": [
    "### Does the pipeline builder allow us to pickle correctly?"
   ]
  },
  {
   "cell_type": "code",
   "execution_count": 5,
   "metadata": {},
   "outputs": [],
   "source": [
    "import luigi\n",
    "\n",
    "import dill\n",
    "\n",
    "from experiment_framework import helpers\n",
    "from empirical_privacy.one_bit_sum import GenSampleOneBitSum"
   ]
  },
  {
   "cell_type": "code",
   "execution_count": 2,
   "metadata": {},
   "outputs": [],
   "source": [
    "n = 40\n",
    "p = 0.5\n",
    "ds_rs = {\n",
    "        'dataset_settings': {\n",
    "            'n_trials'      : n,\n",
    "            'prob_success': p,\n",
    "            'gen_distr_type': 'binom',\n",
    "        },\n",
    "        'random_seed'     : '1338',\n",
    "    }\n",
    "ccc_kwargs = {\n",
    "        'n_trials_per_training_set_size': 10,\n",
    "        'n_max'                         : 64,\n",
    "        'dataset_settings'              : ds_rs['dataset_settings'],\n",
    "        'validation_set_size'           : 10\n",
    "        }"
   ]
  },
  {
   "cell_type": "code",
   "execution_count": 6,
   "metadata": {},
   "outputs": [
    {
     "name": "stdout",
     "output_type": "stream",
     "text": [
      "CPU times: user 16 ms, sys: 0 ns, total: 16 ms\n",
      "Wall time: 38.7 ms\n"
     ]
    }
   ],
   "source": [
    "%%time\n",
    "CCC = helpers.build_convergence_curve_pipeline(GenSampleOneBitSum,\n",
    "                                           gensample_kwargs={\n",
    "                                               'generate_in_batch': True\n",
    "                                           })\n",
    "CCC2_inst = CCC(**ccc_kwargs)\n",
    "luigi.build([CCC2_inst], local_scheduler=True, workers=8, log_level='ERROR')"
   ]
  },
  {
   "cell_type": "markdown",
   "metadata": {},
   "source": [
    "### Does AllAsymptotics cache correctly?\n"
   ]
  },
  {
   "cell_type": "code",
   "execution_count": 3,
   "metadata": {},
   "outputs": [],
   "source": [
    "All = helpers.AllAsymptotics(\n",
    "        gen_sample_path='empirical_privacy.one_bit_sum.GenSampleOneBitSum',\n",
    "        dataset_settings=ds_rs['dataset_settings'])"
   ]
  },
  {
   "cell_type": "code",
   "execution_count": 4,
   "metadata": {},
   "outputs": [],
   "source": [
    "AA = All.requires()[0]"
   ]
  },
  {
   "cell_type": "code",
   "execution_count": 6,
   "metadata": {},
   "outputs": [],
   "source": [
    "with AA.output().open() as f:\n",
    "    res = dill.load(f)"
   ]
  },
  {
   "cell_type": "code",
   "execution_count": 7,
   "metadata": {},
   "outputs": [
    {
     "name": "stdout",
     "output_type": "stream",
     "text": [
      "{'mean': 0.52070724699345583, 'median': 0.52096700509437244, 'std': 0.014188469748888202, 'n_bootstraps': 5757, 'p': 0.99, 'upper_bound': 0.53070724699345584}\n"
     ]
    }
   ],
   "source": [
    "print(res)"
   ]
  },
  {
   "cell_type": "code",
   "execution_count": 8,
   "metadata": {},
   "outputs": [
    {
     "name": "stdout",
     "output_type": "stream",
     "text": [
      "CPU times: user 28 ms, sys: 4 ms, total: 32 ms\n",
      "Wall time: 41.9 ms\n"
     ]
    },
    {
     "name": "stderr",
     "output_type": "stream",
     "text": [
      "/opt/conda/lib/python3.6/site-packages/luigi/parameter.py:261: UserWarning: Parameter \"task_process_context\" with value \"None\" is not of type string.\n",
      "  warnings.warn('Parameter \"{}\" with value \"{}\" is not of type string.'.format(param_name, param_value))\n"
     ]
    },
    {
     "data": {
      "text/plain": [
       "True"
      ]
     },
     "execution_count": 8,
     "metadata": {},
     "output_type": "execute_result"
    }
   ],
   "source": [
    "%%time\n",
    "luigi.build([All], local_scheduler=True, workers=8, log_level='ERROR')"
   ]
  },
  {
   "cell_type": "markdown",
   "metadata": {},
   "source": [
    "Yes, it completes instantlly rather than in 4 minutes."
   ]
  },
  {
   "cell_type": "markdown",
   "metadata": {},
   "source": [
    "### What happens with empty kwargs?"
   ]
  },
  {
   "cell_type": "code",
   "execution_count": 17,
   "metadata": {},
   "outputs": [
    {
     "name": "stdout",
     "output_type": "stream",
     "text": [
      "{'a': 0, 'b': 1, 'c': 2}\n"
     ]
    }
   ],
   "source": [
    "kwargs = {}\n",
    "import inspect\n",
    "\n",
    "def f(a=0, b=1, c=2):\n",
    "    return (a+2*b+3*c)\n",
    "    \n",
    "print(inspect.getcallargs(f, **kwargs))"
   ]
  },
  {
   "cell_type": "markdown",
   "metadata": {},
   "source": [
    "###### Nothing -- good"
   ]
  }
 ],
 "metadata": {
  "kernelspec": {
   "display_name": "Python 3",
   "language": "python",
   "name": "python3"
  },
  "language_info": {
   "codemirror_mode": {
    "name": "ipython",
    "version": 3
   },
   "file_extension": ".py",
   "mimetype": "text/x-python",
   "name": "python",
   "nbconvert_exporter": "python",
   "pygments_lexer": "ipython3",
   "version": "3.6.5"
  }
 },
 "nbformat": 4,
 "nbformat_minor": 2
}
