{
 "cells": [
  {
   "cell_type": "markdown",
   "metadata": {},
   "source": [
    "### Experiment Design"
   ]
  },
  {
   "cell_type": "code",
   "execution_count": 4,
   "metadata": {},
   "outputs": [],
   "source": [
    "import itertools\n",
    "import os\n",
    "from collections import namedtuple\n",
    "\n",
    "import luigi\n",
    "import dill\n",
    "import numpy as np\n",
    "from scipy.stats import binom\n",
    "\n",
    "from experiment_framework.utils.helpers import AllAsymptotics\n",
    "from notebook_context.pandas_interface import load_completed_AAs_into_dataframe, load_completed_CCCs_into_dataframe\n",
    "from empirical_privacy import one_bit_sum, config\n",
    "\n",
    "from notebook_context import *"
   ]
  },
  {
   "cell_type": "markdown",
   "metadata": {},
   "source": [
    "### Run experiments"
   ]
  },
  {
   "cell_type": "code",
   "execution_count": 5,
   "metadata": {},
   "outputs": [
    {
     "name": "stderr",
     "output_type": "stream",
     "text": [
      "/opt/conda/lib/python3.6/site-packages/luigi/parameter.py:285: UserWarning: Parameter \"random_seed\" with value \"0\" is not of type string.\n",
      "  warnings.warn('Parameter \"{}\" with value \"{}\" is not of type string.'.format(param_name, param_value))\n",
      "/opt/conda/lib/python3.6/site-packages/luigi/parameter.py:285: UserWarning: Parameter \"random_seed\" with value \"0\" is not of type string.\n",
      "  warnings.warn('Parameter \"{}\" with value \"{}\" is not of type string.'.format(param_name, param_value))\n",
      "/opt/conda/lib/python3.6/site-packages/luigi/parameter.py:285: UserWarning: Parameter \"random_seed\" with value \"0\" is not of type string.\n",
      "  warnings.warn('Parameter \"{}\" with value \"{}\" is not of type string.'.format(param_name, param_value))\n",
      "/opt/conda/lib/python3.6/site-packages/luigi/parameter.py:285: UserWarning: Parameter \"random_seed\" with value \"0\" is not of type string.\n",
      "  warnings.warn('Parameter \"{}\" with value \"{}\" is not of type string.'.format(param_name, param_value))\n",
      "/opt/conda/lib/python3.6/site-packages/luigi/parameter.py:285: UserWarning: Parameter \"random_seed\" with value \"0\" is not of type string.\n",
      "  warnings.warn('Parameter \"{}\" with value \"{}\" is not of type string.'.format(param_name, param_value))\n",
      "/opt/conda/lib/python3.6/site-packages/luigi/parameter.py:285: UserWarning: Parameter \"random_seed\" with value \"0\" is not of type string.\n",
      "  warnings.warn('Parameter \"{}\" with value \"{}\" is not of type string.'.format(param_name, param_value))\n",
      "/opt/conda/lib/python3.6/site-packages/luigi/parameter.py:285: UserWarning: Parameter \"random_seed\" with value \"0\" is not of type string.\n",
      "  warnings.warn('Parameter \"{}\" with value \"{}\" is not of type string.'.format(param_name, param_value))\n",
      "/opt/conda/lib/python3.6/site-packages/luigi/parameter.py:285: UserWarning: Parameter \"random_seed\" with value \"0\" is not of type string.\n",
      "  warnings.warn('Parameter \"{}\" with value \"{}\" is not of type string.'.format(param_name, param_value))\n",
      "/opt/conda/lib/python3.6/site-packages/luigi/parameter.py:285: UserWarning: Parameter \"random_seed\" with value \"0\" is not of type string.\n",
      "  warnings.warn('Parameter \"{}\" with value \"{}\" is not of type string.'.format(param_name, param_value))\n",
      "/opt/conda/lib/python3.6/site-packages/luigi/parameter.py:285: UserWarning: Parameter \"random_seed\" with value \"0\" is not of type string.\n",
      "  warnings.warn('Parameter \"{}\" with value \"{}\" is not of type string.'.format(param_name, param_value))\n",
      "/opt/conda/lib/python3.6/site-packages/luigi/parameter.py:285: UserWarning: Parameter \"random_seed\" with value \"0\" is not of type string.\n",
      "  warnings.warn('Parameter \"{}\" with value \"{}\" is not of type string.'.format(param_name, param_value))\n",
      "/opt/conda/lib/python3.6/site-packages/luigi/parameter.py:285: UserWarning: Parameter \"random_seed\" with value \"0\" is not of type string.\n",
      "  warnings.warn('Parameter \"{}\" with value \"{}\" is not of type string.'.format(param_name, param_value))\n",
      "/opt/conda/lib/python3.6/site-packages/luigi/parameter.py:285: UserWarning: Parameter \"random_seed\" with value \"0\" is not of type string.\n",
      "  warnings.warn('Parameter \"{}\" with value \"{}\" is not of type string.'.format(param_name, param_value))\n",
      "/opt/conda/lib/python3.6/site-packages/luigi/parameter.py:285: UserWarning: Parameter \"random_seed\" with value \"0\" is not of type string.\n",
      "  warnings.warn('Parameter \"{}\" with value \"{}\" is not of type string.'.format(param_name, param_value))\n",
      "/opt/conda/lib/python3.6/site-packages/luigi/parameter.py:285: UserWarning: Parameter \"random_seed\" with value \"0\" is not of type string.\n",
      "  warnings.warn('Parameter \"{}\" with value \"{}\" is not of type string.'.format(param_name, param_value))\n",
      "/opt/conda/lib/python3.6/site-packages/luigi/parameter.py:285: UserWarning: Parameter \"random_seed\" with value \"0\" is not of type string.\n",
      "  warnings.warn('Parameter \"{}\" with value \"{}\" is not of type string.'.format(param_name, param_value))\n",
      "/opt/conda/lib/python3.6/site-packages/luigi/parameter.py:285: UserWarning: Parameter \"random_seed\" with value \"0\" is not of type string.\n",
      "  warnings.warn('Parameter \"{}\" with value \"{}\" is not of type string.'.format(param_name, param_value))\n",
      "/opt/conda/lib/python3.6/site-packages/luigi/parameter.py:285: UserWarning: Parameter \"random_seed\" with value \"0\" is not of type string.\n",
      "  warnings.warn('Parameter \"{}\" with value \"{}\" is not of type string.'.format(param_name, param_value))\n",
      "/opt/conda/lib/python3.6/site-packages/luigi/parameter.py:285: UserWarning: Parameter \"random_seed\" with value \"0\" is not of type string.\n",
      "  warnings.warn('Parameter \"{}\" with value \"{}\" is not of type string.'.format(param_name, param_value))\n",
      "/opt/conda/lib/python3.6/site-packages/luigi/parameter.py:285: UserWarning: Parameter \"random_seed\" with value \"0\" is not of type string.\n",
      "  warnings.warn('Parameter \"{}\" with value \"{}\" is not of type string.'.format(param_name, param_value))\n",
      "/opt/conda/lib/python3.6/site-packages/luigi/parameter.py:285: UserWarning: Parameter \"random_seed\" with value \"0\" is not of type string.\n",
      "  warnings.warn('Parameter \"{}\" with value \"{}\" is not of type string.'.format(param_name, param_value))\n",
      "/opt/conda/lib/python3.6/site-packages/luigi/parameter.py:285: UserWarning: Parameter \"random_seed\" with value \"0\" is not of type string.\n",
      "  warnings.warn('Parameter \"{}\" with value \"{}\" is not of type string.'.format(param_name, param_value))\n",
      "/opt/conda/lib/python3.6/site-packages/luigi/parameter.py:285: UserWarning: Parameter \"random_seed\" with value \"0\" is not of type string.\n",
      "  warnings.warn('Parameter \"{}\" with value \"{}\" is not of type string.'.format(param_name, param_value))\n",
      "/opt/conda/lib/python3.6/site-packages/luigi/parameter.py:285: UserWarning: Parameter \"random_seed\" with value \"0\" is not of type string.\n",
      "  warnings.warn('Parameter \"{}\" with value \"{}\" is not of type string.'.format(param_name, param_value))\n",
      "/opt/conda/lib/python3.6/site-packages/luigi/parameter.py:285: UserWarning: Parameter \"random_seed\" with value \"0\" is not of type string.\n",
      "  warnings.warn('Parameter \"{}\" with value \"{}\" is not of type string.'.format(param_name, param_value))\n",
      "/opt/conda/lib/python3.6/site-packages/luigi/parameter.py:285: UserWarning: Parameter \"random_seed\" with value \"0\" is not of type string.\n",
      "  warnings.warn('Parameter \"{}\" with value \"{}\" is not of type string.'.format(param_name, param_value))\n",
      "/opt/conda/lib/python3.6/site-packages/luigi/parameter.py:285: UserWarning: Parameter \"random_seed\" with value \"0\" is not of type string.\n",
      "  warnings.warn('Parameter \"{}\" with value \"{}\" is not of type string.'.format(param_name, param_value))\n",
      "/opt/conda/lib/python3.6/site-packages/luigi/parameter.py:285: UserWarning: Parameter \"random_seed\" with value \"0\" is not of type string.\n",
      "  warnings.warn('Parameter \"{}\" with value \"{}\" is not of type string.'.format(param_name, param_value))\n",
      "/opt/conda/lib/python3.6/site-packages/luigi/parameter.py:285: UserWarning: Parameter \"random_seed\" with value \"0\" is not of type string.\n",
      "  warnings.warn('Parameter \"{}\" with value \"{}\" is not of type string.'.format(param_name, param_value))\n",
      "/opt/conda/lib/python3.6/site-packages/luigi/parameter.py:285: UserWarning: Parameter \"random_seed\" with value \"0\" is not of type string.\n",
      "  warnings.warn('Parameter \"{}\" with value \"{}\" is not of type string.'.format(param_name, param_value))\n"
     ]
    }
   ],
   "source": [
    "n = 1\n",
    "p = 0.60\n",
    "d = 3\n",
    "ds = {\n",
    "    'n_trials': n, 'prob_success': p, 'gen_distr_type': 'multidim_binom',\n",
    "}\n",
    "asys = {\n",
    "    'gen_sample_kwargs'  : {'generate_in_batch': True,\n",
    "                            'x_concatenator': 'numpy.vstack',\n",
    "                           },\n",
    "    'fitter'             : 'knn',\n",
    "    # we use random tie-breaking since the samples are discrete\n",
    "    'fitter_kwargs'      : {'neighbor_method': 'gyorfi'},\n",
    "    'n_docs'                : 30,\n",
    "    'n_trials_per_training_set_size': 300,\n",
    "    'n_max'              : 2**8,\n",
    "    'validation_set_size': 2**10,\n",
    "    'p'                  : 0.9,  # for bootstrap\n",
    "    'n_bootstraps'       : 1000,  # for bootstrap,\n",
    "    'in_memory'          : True\n",
    "}\n",
    "fit_model = asys['fitter_kwargs']['neighbor_method']\n",
    "\n",
    "All = AllAsymptotics(\n",
    "        gen_sample_path='empirical_privacy.one_bit_sum.GenSampleOneBitSum',\n",
    "        dataset_settings=ds,\n",
    "        asymptotic_settings=asys)\n",
    "CCCs = [AA.requires()['CCC'] for AA in All.requires()]"
   ]
  },
  {
   "cell_type": "code",
   "execution_count": null,
   "metadata": {},
   "outputs": [],
   "source": [
    "# # uncomment to delete outputs and dependencies to re-run the experiments\n",
    "# for AA in All.requires():\n",
    "#     AA.delete_outputs()\n",
    "#     AA.delete_deps()\n",
    "# for CCC in CCCs:\n",
    "#     CCC.delete_outputs()\n",
    "#     CCC.delete_deps()"
   ]
  },
  {
   "cell_type": "code",
   "execution_count": 6,
   "metadata": {},
   "outputs": [
    {
     "name": "stdout",
     "output_type": "stream",
     "text": [
      "CPU times: user 38.6 ms, sys: 4.39 ms, total: 43 ms\n",
      "Wall time: 47.1 ms\n"
     ]
    },
    {
     "data": {
      "text/plain": [
       "True"
      ]
     },
     "execution_count": 6,
     "metadata": {},
     "output_type": "execute_result"
    }
   ],
   "source": [
    "%%time\n",
    "luigi.build([All],\n",
    "#             local_scheduler=True,\n",
    "            workers=3, log_level='ERROR')"
   ]
  },
  {
   "cell_type": "code",
   "execution_count": 7,
   "metadata": {},
   "outputs": [],
   "source": [
    "AAs = All.requires()\n",
    "DF = load_completed_AAs_into_dataframe(AAs)\n",
    "n_docs = DF.doc_ind.nunique()\n",
    "DF = DF[DF.n_max==DF.n_max.max()]"
   ]
  },
  {
   "cell_type": "markdown",
   "metadata": {},
   "source": [
    "---\n",
    "\n",
    "### Compute $P(Correct)$ based on stat dist"
   ]
  },
  {
   "cell_type": "code",
   "execution_count": 8,
   "metadata": {},
   "outputs": [
    {
     "name": "stdout",
     "output_type": "stream",
     "text": [
      "0.648\n"
     ]
    }
   ],
   "source": [
    "from scipy.special import comb\n",
    "def multidim_binom_stat_dist(p, d):\n",
    "    q = 1-p\n",
    "    n_combos = 2**d\n",
    "    stat_dist = 0\n",
    "    for k in range(d+1):\n",
    "        n_combos_with_k = comb(d, k)\n",
    "        p_1 = n_combos_with_k * p**k * q**(d-k)\n",
    "        p_2 = n_combos_with_k * q**k * p**(d-k)\n",
    "        delta_prob = np.abs(p_1 - p_2)\n",
    "        stat_dist += delta_prob\n",
    "    return 0.5*stat_dist\n",
    "        \n",
    "\n",
    "pc = 0.5+0.5*multidim_binom_stat_dist(p, 3)\n",
    "print(pc)"
   ]
  },
  {
   "cell_type": "code",
   "execution_count": 9,
   "metadata": {},
   "outputs": [
    {
     "data": {
      "text/html": [
       "<div>\n",
       "<style scoped>\n",
       "    .dataframe tbody tr th:only-of-type {\n",
       "        vertical-align: middle;\n",
       "    }\n",
       "\n",
       "    .dataframe tbody tr th {\n",
       "        vertical-align: top;\n",
       "    }\n",
       "\n",
       "    .dataframe thead th {\n",
       "        text-align: right;\n",
       "    }\n",
       "</style>\n",
       "<table border=\"1\" class=\"dataframe\">\n",
       "  <thead>\n",
       "    <tr style=\"text-align: right;\">\n",
       "      <th></th>\n",
       "      <th>confidence_interval_prob</th>\n",
       "      <th>doc_ind</th>\n",
       "      <th>gen_distr_type</th>\n",
       "      <th>in_memory</th>\n",
       "      <th>knn_curve_model</th>\n",
       "      <th>lb_one_sided</th>\n",
       "      <th>lb_two_sided</th>\n",
       "      <th>lower_bound</th>\n",
       "      <th>n_bootstraps</th>\n",
       "      <th>n_max</th>\n",
       "      <th>n_trials</th>\n",
       "      <th>n_trials_per_training_set_size</th>\n",
       "      <th>prob_success</th>\n",
       "      <th>ub_one_sided</th>\n",
       "      <th>ub_two_sided</th>\n",
       "      <th>upper_bound</th>\n",
       "      <th>validation_set_size</th>\n",
       "    </tr>\n",
       "  </thead>\n",
       "  <tbody>\n",
       "    <tr>\n",
       "      <th>0</th>\n",
       "      <td>0.9</td>\n",
       "      <td>0</td>\n",
       "      <td>multidim_binom</td>\n",
       "      <td>True</td>\n",
       "      <td>gyorfi</td>\n",
       "      <td>0.642128</td>\n",
       "      <td>0.639535</td>\n",
       "      <td>0.639535</td>\n",
       "      <td>1000</td>\n",
       "      <td>256</td>\n",
       "      <td>1</td>\n",
       "      <td>300</td>\n",
       "      <td>0.6</td>\n",
       "      <td>0.659535</td>\n",
       "      <td>0.662482</td>\n",
       "      <td>0.662482</td>\n",
       "      <td>1024</td>\n",
       "    </tr>\n",
       "    <tr>\n",
       "      <th>1</th>\n",
       "      <td>0.9</td>\n",
       "      <td>1</td>\n",
       "      <td>multidim_binom</td>\n",
       "      <td>True</td>\n",
       "      <td>gyorfi</td>\n",
       "      <td>0.642304</td>\n",
       "      <td>0.639839</td>\n",
       "      <td>0.639839</td>\n",
       "      <td>1000</td>\n",
       "      <td>256</td>\n",
       "      <td>1</td>\n",
       "      <td>300</td>\n",
       "      <td>0.6</td>\n",
       "      <td>0.659880</td>\n",
       "      <td>0.662722</td>\n",
       "      <td>0.662722</td>\n",
       "      <td>1024</td>\n",
       "    </tr>\n",
       "    <tr>\n",
       "      <th>2</th>\n",
       "      <td>0.9</td>\n",
       "      <td>2</td>\n",
       "      <td>multidim_binom</td>\n",
       "      <td>True</td>\n",
       "      <td>gyorfi</td>\n",
       "      <td>0.632311</td>\n",
       "      <td>0.630255</td>\n",
       "      <td>0.630255</td>\n",
       "      <td>1000</td>\n",
       "      <td>256</td>\n",
       "      <td>1</td>\n",
       "      <td>300</td>\n",
       "      <td>0.6</td>\n",
       "      <td>0.651044</td>\n",
       "      <td>0.654114</td>\n",
       "      <td>0.654114</td>\n",
       "      <td>1024</td>\n",
       "    </tr>\n",
       "    <tr>\n",
       "      <th>3</th>\n",
       "      <td>0.9</td>\n",
       "      <td>3</td>\n",
       "      <td>multidim_binom</td>\n",
       "      <td>True</td>\n",
       "      <td>gyorfi</td>\n",
       "      <td>0.646042</td>\n",
       "      <td>0.644040</td>\n",
       "      <td>0.644040</td>\n",
       "      <td>1000</td>\n",
       "      <td>256</td>\n",
       "      <td>1</td>\n",
       "      <td>300</td>\n",
       "      <td>0.6</td>\n",
       "      <td>0.663689</td>\n",
       "      <td>0.666367</td>\n",
       "      <td>0.666367</td>\n",
       "      <td>1024</td>\n",
       "    </tr>\n",
       "    <tr>\n",
       "      <th>4</th>\n",
       "      <td>0.9</td>\n",
       "      <td>4</td>\n",
       "      <td>multidim_binom</td>\n",
       "      <td>True</td>\n",
       "      <td>gyorfi</td>\n",
       "      <td>0.627059</td>\n",
       "      <td>0.624887</td>\n",
       "      <td>0.624887</td>\n",
       "      <td>1000</td>\n",
       "      <td>256</td>\n",
       "      <td>1</td>\n",
       "      <td>300</td>\n",
       "      <td>0.6</td>\n",
       "      <td>0.645679</td>\n",
       "      <td>0.647899</td>\n",
       "      <td>0.647899</td>\n",
       "      <td>1024</td>\n",
       "    </tr>\n",
       "  </tbody>\n",
       "</table>\n",
       "</div>"
      ],
      "text/plain": [
       "   confidence_interval_prob  doc_ind  gen_distr_type  in_memory  \\\n",
       "0                       0.9        0  multidim_binom       True   \n",
       "1                       0.9        1  multidim_binom       True   \n",
       "2                       0.9        2  multidim_binom       True   \n",
       "3                       0.9        3  multidim_binom       True   \n",
       "4                       0.9        4  multidim_binom       True   \n",
       "\n",
       "  knn_curve_model  lb_one_sided  lb_two_sided  lower_bound  n_bootstraps  \\\n",
       "0          gyorfi      0.642128      0.639535     0.639535          1000   \n",
       "1          gyorfi      0.642304      0.639839     0.639839          1000   \n",
       "2          gyorfi      0.632311      0.630255     0.630255          1000   \n",
       "3          gyorfi      0.646042      0.644040     0.644040          1000   \n",
       "4          gyorfi      0.627059      0.624887     0.624887          1000   \n",
       "\n",
       "   n_max  n_trials  n_trials_per_training_set_size  prob_success  \\\n",
       "0    256         1                             300           0.6   \n",
       "1    256         1                             300           0.6   \n",
       "2    256         1                             300           0.6   \n",
       "3    256         1                             300           0.6   \n",
       "4    256         1                             300           0.6   \n",
       "\n",
       "   ub_one_sided  ub_two_sided  upper_bound  validation_set_size  \n",
       "0      0.659535      0.662482     0.662482                 1024  \n",
       "1      0.659880      0.662722     0.662722                 1024  \n",
       "2      0.651044      0.654114     0.654114                 1024  \n",
       "3      0.663689      0.666367     0.666367                 1024  \n",
       "4      0.645679      0.647899     0.647899                 1024  "
      ]
     },
     "execution_count": 9,
     "metadata": {},
     "output_type": "execute_result"
    }
   ],
   "source": [
    "DF.head()"
   ]
  },
  {
   "cell_type": "code",
   "execution_count": 10,
   "metadata": {},
   "outputs": [
    {
     "name": "stdout",
     "output_type": "stream",
     "text": [
      "Success probability 0.90 over 30 trials\n",
      "with bootstrap confindence interval probability of 0.90.\n"
     ]
    }
   ],
   "source": [
    "n_success = DF[DF['ub_one_sided']>=pc].shape[0]\n",
    "n_failed = DF[DF['ub_one_sided']<pc].shape[0]\n",
    "n_total = n_success + n_failed\n",
    "\n",
    "print(f\"\"\"Success probability {n_success/n_total:.2f} over {n_total} trials\n",
    "with bootstrap confindence interval probability of {asys[\"p\"]:.2f}.\"\"\")"
   ]
  },
  {
   "cell_type": "markdown",
   "metadata": {},
   "source": [
    "### Plot outcomes for all trials"
   ]
  },
  {
   "cell_type": "code",
   "execution_count": 11,
   "metadata": {},
   "outputs": [],
   "source": [
    "configure_plotting_for_publication()\n",
    "\n",
    "\n",
    "import pandas as pd\n",
    "\n",
    "from scipy.optimize import least_squares\n",
    "\n",
    "\n",
    "from experiment_framework.asymptotic_analysis import asymptotic_privacy_lr, transform_n_to_k_for_knn, asymptotic_curve\n",
    "\n",
    "from experiment_framework.privacy_estimator_mixins import get_k\n",
    "\n",
    "SAVE_FIGURES_FOR_LATEX = False"
   ]
  },
  {
   "cell_type": "code",
   "execution_count": 12,
   "metadata": {
    "scrolled": false
   },
   "outputs": [
    {
     "data": {
      "image/png": "[encoded data removed]",
      "text/plain": [
       "<Figure size 560x420 with 1 Axes>"
      ]
     },
     "metadata": {},
     "output_type": "display_data"
    }
   ],
   "source": [
    "ax = DF.ub_one_sided.plot(kind='hist', bins=30)\n",
    "true_ub = pc\n",
    "plt.axvline(x=true_ub, color='r')\n",
    "plt.text(x=true_ub,\n",
    "         y=0.9,\n",
    "         s='$C_\\infty^*$ = {:.3f}'.format(true_ub),\n",
    "         transform=x_data_y_axis(),\n",
    "         horizontalalignment='center',\n",
    "         bbox=dict(facecolor='w', edgecolor='r', boxstyle='round')\n",
    "        )\n",
    "plt.xlabel('Upper Bound on $P[$Correct$]$')\n",
    "plt.title('Distribution of Upper Bounds over {ntri} trials with d={d} p={p}'.format(\n",
    "    ntri=asys['n_docs'],\n",
    "    d=d,\n",
    "    p=p\n",
    "))\n",
    "\n",
    "if SAVE_FIGURES_FOR_LATEX:\n",
    "    plt.title('')\n",
    "    plt.ylabel('Frequency')\n",
    "    plt.xlabel('Estimated Upper Bound on $C^*_\\infty$')\n",
    "    plt.tight_layout()\n",
    "    plt.savefig(os.path.join(FIGURES_PATH, 'experiment_1_upper_bound_histogram.eps'))"
   ]
  },
  {
   "cell_type": "markdown",
   "metadata": {},
   "source": [
    "### Plot the details for a single trial"
   ]
  },
  {
   "cell_type": "code",
   "execution_count": 18,
   "metadata": {},
   "outputs": [],
   "source": [
    "from notebook_context import *\n",
    "from notebook_context.plots import plot_convergence_curve_dataframe\n",
    "configure_plotting_for_publication()"
   ]
  },
  {
   "cell_type": "code",
   "execution_count": 19,
   "metadata": {},
   "outputs": [],
   "source": [
    "DFccc = load_completed_CCCs_into_dataframe(CCCs)"
   ]
  },
  {
   "cell_type": "code",
   "execution_count": 29,
   "metadata": {
    "scrolled": false
   },
   "outputs": [
    {
     "name": "stdout",
     "output_type": "stream",
     "text": [
      "Training set sizes =  32 -- 256\n"
     ]
    },
    {
     "name": "stderr",
     "output_type": "stream",
     "text": [
      "/opt/conda/lib/python3.6/site-packages/pandas/core/indexing.py:543: SettingWithCopyWarning: \n",
      "A value is trying to be set on a copy of a slice from a DataFrame.\n",
      "Try using .loc[row_indexer,col_indexer] = value instead\n",
      "\n",
      "See the caveats in the documentation: http://pandas.pydata.org/pandas-docs/stable/indexing.html#indexing-view-versus-copy\n",
      "  self.obj[item] = s\n"
     ]
    },
    {
     "name": "stdout",
     "output_type": "stream",
     "text": [
      "asymptote m=0.6514217326160919 curve C=0.1304811098493127\n"
     ]
    },
    {
     "data": {
      "image/png": "[encoded data removed]",
      "text/plain": [
       "<Figure size 560x420 with 2 Axes>"
      ]
     },
     "metadata": {},
     "output_type": "display_data"
    }
   ],
   "source": [
    "from experiment_framework.asymptotic_analysis import construct_bootstrap\n",
    "\n",
    "def plot_convergence_curve_dataframe(DF, doc_ind=None, d=d, fit_model=fit_model,\n",
    "                n_bootstrap_samples=1000, confidence_interval_prob=0.9):\n",
    "    print('Training set sizes = ',\n",
    "          DF.training_set_size.min(),\n",
    "          '--',\n",
    "          DF.training_set_size.max()\n",
    "         )\n",
    "    if doc_ind is not None:\n",
    "        DF = DF.loc[DF.doc_ind == doc_ind, :]\n",
    "    DF.loc[DF.classifier_accuracy < 0.5, 'classifier_accuracy'] = 0.5\n",
    "    DF.dtypes\n",
    "    n_docs = DF.doc_ind.nunique()\n",
    "    cp = sns.color_palette('hls', n_docs, desat=0.9)\n",
    "    handle = sns.scatterplot(\n",
    "        data=DF,\n",
    "        x='training_set_size',\n",
    "        y='classifier_accuracy',\n",
    "        hue=None,\n",
    "        legend=None,\n",
    "        palette=cp,\n",
    "        color='b',\n",
    "        size=1\n",
    "    )\n",
    "     \n",
    "   \n",
    "    # curve for all the data\n",
    "    x = np.vstack([sg.training_set_size.values\n",
    "                   for gn, sg in DF.groupby('trial')]).astype(np.double)\n",
    "    y = np.vstack([sg.classifier_accuracy.values\n",
    "                   for gn, sg in DF.groupby('trial')])\n",
    "\n",
    "    ks = transform_n_to_k_for_knn(x, fit_model=fit_model, d=d)\n",
    "    m, C = asymptotic_curve(ks.reshape(ks.size), y.reshape(y.size))\n",
    "    print(f'asymptote m={m} curve C={C}')\n",
    "    \n",
    "    # plot the sample distributions\n",
    "    plt.violinplot(\n",
    "        dataset=y,\n",
    "        widths=20,\n",
    "        positions=x[0],\n",
    "        showextrema=False\n",
    "    )\n",
    "    handle = plt.gca()\n",
    "    \n",
    "    # bootstrap for ub\n",
    "    EB = construct_bootstrap(x, d=d, fit_model=fit_model, classifier_accuracies=y)\n",
    "    samples = EB.get_bootstrap_means(n_bootstrap_samples)\n",
    "\n",
    "    ub = EB.bootstrap_confidence_bounds(confidence_interval_prob, n_bootstrap_samples).ub_one_sided\n",
    "    base = config.SAMPLES_BASE\n",
    "    xx = np.logspace(np.log(np.min(x))/np.log(base)*0.9,\n",
    "                     np.log(np.max(x))/np.log(base),\n",
    "                    base=base)\n",
    "    kks = transform_n_to_k_for_knn(xx, fit_model, d=d)\n",
    "    plt.plot(xx, m+C*kks, '-g')\n",
    "    \n",
    "    labeled_axhline(ub, 'U.B.', 'k', handle, x_pos=-0.2)\n",
    "    labeled_axhline(m, '$E[C_\\infty]$', 'g', handle, linestyle='--', x_pos=1.1)\n",
    "    labeled_axhline(pc, '$C_\\infty^*$', 'r', handle, x_pos=0.7)\n",
    "    \n",
    "    plt.xticks(x[0,:], ['$2^{%s}$'%'{:}'.format(int(np.log(xx)/np.log(2))) for xx in x[0,:]],\n",
    "              rotation=30)\n",
    "    \n",
    "    if SAVE_FIGURES_FOR_LATEX:\n",
    "        plt.xlabel('Training Set Size')\n",
    "        plt.ylabel('P[correct]')\n",
    "    \n",
    "    ax2 = handle.twiny()\n",
    "    ax2.set_xlim(0, 100.0)\n",
    "    ax2.set_xticks([])\n",
    "    sns.distplot(a=samples,\n",
    "                 bins=30,\n",
    "                 hist=True,\n",
    "                 hist_kws={'alpha':0.30},\n",
    "                 norm_hist=True,\n",
    "                 kde=False,\n",
    "                 kde_kws={'linestyle':':', 'alpha':0.9},\n",
    "                 rug=False,\n",
    "                 vertical=True,\n",
    "                 color='g',\n",
    "                 ax=ax2)\n",
    "    \n",
    "\n",
    "if SAVE_FIGURES_FOR_LATEX:\n",
    "    plt.tight_layout()\n",
    "    plt.savefig(os.path.join(FIGURES_PATH, 'experiment_1_bootstrap_visualization.png'))\n",
    "\n",
    "\n",
    "    \n",
    "# call the function\n",
    "plot_convergence_curve_dataframe(DFccc, 1, d=d, fit_model=fit_model)\n"
   ]
  },
  {
   "cell_type": "markdown",
   "metadata": {},
   "source": [
    "### Debugging bootstrap:"
   ]
  },
  {
   "cell_type": "code",
   "execution_count": null,
   "metadata": {},
   "outputs": [],
   "source": [
    "tss, accu = get_bootstrap_model(DFccc, 1)\n",
    "\n",
    "boot_res = empirical_bootstrap_bounds(training_set_sizes=tss,\n",
    "                                      d=d,\n",
    "                                      fit_model=fit_model,\n",
    "                                      classifier_accuracies=accu,\n",
    "                                      confidence_interval_prob=0.99,\n",
    "                                      n_bootstraps=1000)"
   ]
  },
  {
   "cell_type": "code",
   "execution_count": null,
   "metadata": {},
   "outputs": [],
   "source": [
    "plt.hist(boot_res['mean'] - boot_res['delta_means'], bins=30)\n",
    "plt.axvline(boot_res['lb_two_sided'], color='r')\n",
    "plt.axvline(boot_res['ub_two_sided'], color='k')\n",
    "plt.axvline(boot_res['mean'], color='g')\n",
    "\n",
    "plt.text(x=boot_res['mean'], y=1.05, s='{}'.format(boot_res['mean']),\n",
    "        transform=x_data_y_axis(plt.gca()))"
   ]
  },
  {
   "cell_type": "code",
   "execution_count": null,
   "metadata": {},
   "outputs": [],
   "source": [
    "boot_res['delta_means'].size"
   ]
  },
  {
   "cell_type": "code",
   "execution_count": null,
   "metadata": {},
   "outputs": [],
   "source": [
    "np.unique(boot_res['delta_means']).size"
   ]
  }
 ],
 "metadata": {
  "kernelspec": {
   "display_name": "Python 3",
   "language": "python",
   "name": "python3"
  }
 },
 "nbformat": 4,
 "nbformat_minor": 2
}
