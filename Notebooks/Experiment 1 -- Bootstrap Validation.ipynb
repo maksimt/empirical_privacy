{
 "cells": [
  {
   "cell_type": "code",
   "execution_count": 1,
   "metadata": {},
   "outputs": [],
   "source": [
    "import luigi\n",
    "import dill\n",
    "\n",
    "from experiment_framework.helpers import AllAsymptotics, load_completed_AAs_into_dataframe\n",
    "from empirical_privacy import one_bit_sum"
   ]
  },
  {
   "cell_type": "code",
   "execution_count": 13,
   "metadata": {},
   "outputs": [
    {
     "data": {
      "text/plain": [
       "True"
      ]
     },
     "execution_count": 13,
     "metadata": {},
     "output_type": "execute_result"
    }
   ],
   "source": [
    "n = 7\n",
    "p = 0.5\n",
    "ds = {\n",
    "    'n_trials': n, 'prob_success': p, 'gen_distr_type': 'binom',\n",
    "}\n",
    "asys = {\n",
    "    'gen_sample_kwargs'  : {'generate_in_batch': True},\n",
    "    'fitter'             : 'knn',\n",
    "    'fitter_kwargs'      : {'neighbor_method': 'gyorfi'},\n",
    "    'n_docs'                : 30,\n",
    "    'n_trials_per_training_set_size': 10,\n",
    "    'n_max'              : 2**13,\n",
    "    'validation_set_size': 2**10,\n",
    "    'p'                  : 0.9,\n",
    "    't'                  : 0.01\n",
    "}\n",
    "\n",
    "All = AllAsymptotics(\n",
    "        gen_sample_path='empirical_privacy.one_bit_sum.GenSampleOneBitSum',\n",
    "        dataset_settings=ds,\n",
    "        asymptotic_settings=asys)\n",
    "luigi.build([All], local_scheduler=True, workers=4, log_level='ERROR')"
   ]
  },
  {
   "cell_type": "code",
   "execution_count": 14,
   "metadata": {},
   "outputs": [
    {
     "name": "stdout",
     "output_type": "stream",
     "text": [
      "30\n"
     ]
    }
   ],
   "source": [
    "AAs = All.requires()\n",
    "DF = load_completed_AAs_into_dataframe(AAs)\n",
    "n_docs = DF.doc_ind.nunique()\n",
    "print(n_docs)"
   ]
  },
  {
   "cell_type": "code",
   "execution_count": 15,
   "metadata": {},
   "outputs": [],
   "source": [
    "DF = DF[DF.n_max==DF.n_max.max()]\n",
    "pc = 0.5+0.5*one_bit_sum.sd(n, p)"
   ]
  },
  {
   "cell_type": "code",
   "execution_count": 16,
   "metadata": {},
   "outputs": [
    {
     "data": {
      "text/plain": [
       "0.65625000000000011"
      ]
     },
     "execution_count": 16,
     "metadata": {},
     "output_type": "execute_result"
    }
   ],
   "source": [
    "pc"
   ]
  },
  {
   "cell_type": "code",
   "execution_count": 17,
   "metadata": {},
   "outputs": [
    {
     "data": {
      "text/plain": [
       "(20, 15)"
      ]
     },
     "execution_count": 17,
     "metadata": {},
     "output_type": "execute_result"
    }
   ],
   "source": [
    "DF[DF['upper_bound']>=pc].shape"
   ]
  },
  {
   "cell_type": "code",
   "execution_count": 18,
   "metadata": {},
   "outputs": [
    {
     "data": {
      "text/plain": [
       "(30, 15)"
      ]
     },
     "execution_count": 18,
     "metadata": {},
     "output_type": "execute_result"
    }
   ],
   "source": [
    "DF.shape"
   ]
  }
 ],
 "metadata": {
  "kernelspec": {
   "display_name": "Python 3",
   "language": "python",
   "name": "python3"
  },
  "language_info": {
   "codemirror_mode": {
    "name": "ipython",
    "version": 3
   },
   "file_extension": ".py",
   "mimetype": "text/x-python",
   "name": "python",
   "nbconvert_exporter": "python",
   "pygments_lexer": "ipython3",
   "version": "3.6.5"
  }
 },
 "nbformat": 4,
 "nbformat_minor": 2
}
