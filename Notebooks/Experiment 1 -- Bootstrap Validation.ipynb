{
 "cells": [
  {
   "cell_type": "markdown",
   "metadata": {},
   "source": [
    "### Experiment Design"
   ]
  },
  {
   "cell_type": "code",
   "execution_count": 1,
   "metadata": {},
   "outputs": [],
   "source": [
    "import itertools\n",
    "import os\n",
    "from collections import namedtuple\n",
    "\n",
    "import luigi\n",
    "import dill\n",
    "import numpy as np\n",
    "from scipy.stats import binom\n",
    "\n",
    "from experiment_framework.utils.helpers import AllAsymptotics\n",
    "from notebook_context.pandas_interface import load_completed_AAs_into_dataframe, CCCS_for_AA, load_completed_CCCs_into_dataframe\n",
    "from empirical_privacy import one_bit_sum, config\n",
    "\n",
    "from notebook_context import *"
   ]
  },
  {
   "cell_type": "markdown",
   "metadata": {},
   "source": [
    "### Run experiments"
   ]
  },
  {
   "cell_type": "code",
   "execution_count": 39,
   "metadata": {},
   "outputs": [],
   "source": [
    "n = 1\n",
    "p = 0.60\n",
    "d = 3\n",
    "ds = {\n",
    "    'n_trials': n, 'prob_success': p, 'gen_distr_type': 'multidim_binom',\n",
    "}\n",
    "asys = {\n",
    "    'gen_sample_kwargs'  : {'generate_in_batch': True,\n",
    "                            'x_concatenator': 'numpy.vstack',\n",
    "                           },\n",
    "    'fitter'             : 'knn',\n",
    "    # we use random tie-breaking since the samples are discrete\n",
    "    'fitter_kwargs'      : {'neighbor_method': 'gyorfi'},\n",
    "    'n_docs'                : 50,\n",
    "    'confidence_interval_width': 0.05,\n",
    "    'min_samples'        : 2**5,\n",
    "    'n_max'              : 2**8,\n",
    "    'validation_set_size': 2**10,\n",
    "    'p'                  : 0.9,  # for bootstrap\n",
    "    'n_bootstraps'       : 1000,  # for bootstrap,\n",
    "    'in_memory'          : True\n",
    "}\n",
    "fit_model = asys['fitter_kwargs']['neighbor_method']\n",
    "\n",
    "All = AllAsymptotics(\n",
    "        gen_sample_path='empirical_privacy.one_bit_sum.GenSampleOneBitSum',\n",
    "        dataset_settings=ds,\n",
    "        asymptotic_settings=asys)\n"
   ]
  },
  {
   "cell_type": "code",
   "execution_count": 3,
   "metadata": {},
   "outputs": [],
   "source": [
    "# # uncomment to delete outputs and dependencies to re-run the experiments\n",
    "# for AA in All.requires():\n",
    "#     AA.delete_outputs()\n",
    "#     AA.delete_deps()\n",
    "# for CCC in CCCs:\n",
    "#     CCC.delete_outputs()\n",
    "#     CCC.delete_deps()"
   ]
  },
  {
   "cell_type": "code",
   "execution_count": null,
   "metadata": {},
   "outputs": [],
   "source": [
    "%%time\n",
    "luigi.build([All],\n",
    "#             local_scheduler=True,\n",
    "            workers=2, log_level='ERROR')\n"
   ]
  },
  {
   "cell_type": "code",
   "execution_count": 4,
   "metadata": {},
   "outputs": [],
   "source": [
    "AAs = All.requires()\n",
    "CCCs = list(itertools.chain(*[CCCS_for_AA(AA) for AA in AAs]))\n",
    "DF = load_completed_AAs_into_dataframe(AAs)\n",
    "n_docs = DF.doc_ind.nunique()\n",
    "DF = DF[DF.n_max==DF.n_max.max()]"
   ]
  },
  {
   "cell_type": "code",
   "execution_count": 5,
   "metadata": {},
   "outputs": [
    {
     "data": {
      "text/html": [
       "<div>\n",
       "<style scoped>\n",
       "    .dataframe tbody tr th:only-of-type {\n",
       "        vertical-align: middle;\n",
       "    }\n",
       "\n",
       "    .dataframe tbody tr th {\n",
       "        vertical-align: top;\n",
       "    }\n",
       "\n",
       "    .dataframe thead th {\n",
       "        text-align: right;\n",
       "    }\n",
       "</style>\n",
       "<table border=\"1\" class=\"dataframe\">\n",
       "  <thead>\n",
       "    <tr style=\"text-align: right;\">\n",
       "      <th></th>\n",
       "      <th>confidence_interval_prob</th>\n",
       "      <th>confidence_interval_width</th>\n",
       "      <th>doc_ind</th>\n",
       "      <th>gen_distr_type</th>\n",
       "      <th>in_memory</th>\n",
       "      <th>knn_curve_model</th>\n",
       "      <th>lb_one_sided</th>\n",
       "      <th>lb_two_sided</th>\n",
       "      <th>lower_bound</th>\n",
       "      <th>min_samples</th>\n",
       "      <th>n_bootstraps</th>\n",
       "      <th>n_curves_done</th>\n",
       "      <th>n_max</th>\n",
       "      <th>n_trials</th>\n",
       "      <th>prob_success</th>\n",
       "      <th>ub_one_sided</th>\n",
       "      <th>ub_two_sided</th>\n",
       "      <th>upper_bound</th>\n",
       "      <th>validation_set_size</th>\n",
       "    </tr>\n",
       "  </thead>\n",
       "  <tbody>\n",
       "    <tr>\n",
       "      <th>0</th>\n",
       "      <td>0.9</td>\n",
       "      <td>0.05</td>\n",
       "      <td>0</td>\n",
       "      <td>multidim_binom</td>\n",
       "      <td>True</td>\n",
       "      <td>gyorfi</td>\n",
       "      <td>0.637585</td>\n",
       "      <td>0.632943</td>\n",
       "      <td>0.632943</td>\n",
       "      <td>32</td>\n",
       "      <td>1000</td>\n",
       "      <td>41</td>\n",
       "      <td>256</td>\n",
       "      <td>1</td>\n",
       "      <td>0.6</td>\n",
       "      <td>0.672874</td>\n",
       "      <td>0.678489</td>\n",
       "      <td>0.678489</td>\n",
       "      <td>1024</td>\n",
       "    </tr>\n",
       "    <tr>\n",
       "      <th>1</th>\n",
       "      <td>0.9</td>\n",
       "      <td>0.05</td>\n",
       "      <td>1</td>\n",
       "      <td>multidim_binom</td>\n",
       "      <td>True</td>\n",
       "      <td>gyorfi</td>\n",
       "      <td>0.647123</td>\n",
       "      <td>0.642274</td>\n",
       "      <td>0.642274</td>\n",
       "      <td>32</td>\n",
       "      <td>1000</td>\n",
       "      <td>31</td>\n",
       "      <td>256</td>\n",
       "      <td>1</td>\n",
       "      <td>0.6</td>\n",
       "      <td>0.683352</td>\n",
       "      <td>0.688845</td>\n",
       "      <td>0.688845</td>\n",
       "      <td>1024</td>\n",
       "    </tr>\n",
       "    <tr>\n",
       "      <th>2</th>\n",
       "      <td>0.9</td>\n",
       "      <td>0.05</td>\n",
       "      <td>2</td>\n",
       "      <td>multidim_binom</td>\n",
       "      <td>True</td>\n",
       "      <td>gyorfi</td>\n",
       "      <td>0.633217</td>\n",
       "      <td>0.626340</td>\n",
       "      <td>0.626340</td>\n",
       "      <td>32</td>\n",
       "      <td>1000</td>\n",
       "      <td>41</td>\n",
       "      <td>256</td>\n",
       "      <td>1</td>\n",
       "      <td>0.6</td>\n",
       "      <td>0.668350</td>\n",
       "      <td>0.672504</td>\n",
       "      <td>0.672504</td>\n",
       "      <td>1024</td>\n",
       "    </tr>\n",
       "    <tr>\n",
       "      <th>3</th>\n",
       "      <td>0.9</td>\n",
       "      <td>0.05</td>\n",
       "      <td>3</td>\n",
       "      <td>multidim_binom</td>\n",
       "      <td>True</td>\n",
       "      <td>gyorfi</td>\n",
       "      <td>0.647347</td>\n",
       "      <td>0.641621</td>\n",
       "      <td>0.641621</td>\n",
       "      <td>32</td>\n",
       "      <td>1000</td>\n",
       "      <td>41</td>\n",
       "      <td>256</td>\n",
       "      <td>1</td>\n",
       "      <td>0.6</td>\n",
       "      <td>0.685013</td>\n",
       "      <td>0.690005</td>\n",
       "      <td>0.690005</td>\n",
       "      <td>1024</td>\n",
       "    </tr>\n",
       "    <tr>\n",
       "      <th>4</th>\n",
       "      <td>0.9</td>\n",
       "      <td>0.05</td>\n",
       "      <td>4</td>\n",
       "      <td>multidim_binom</td>\n",
       "      <td>True</td>\n",
       "      <td>gyorfi</td>\n",
       "      <td>0.605770</td>\n",
       "      <td>0.601057</td>\n",
       "      <td>0.601057</td>\n",
       "      <td>32</td>\n",
       "      <td>1000</td>\n",
       "      <td>41</td>\n",
       "      <td>256</td>\n",
       "      <td>1</td>\n",
       "      <td>0.6</td>\n",
       "      <td>0.642207</td>\n",
       "      <td>0.648929</td>\n",
       "      <td>0.648929</td>\n",
       "      <td>1024</td>\n",
       "    </tr>\n",
       "    <tr>\n",
       "      <th>5</th>\n",
       "      <td>0.9</td>\n",
       "      <td>0.05</td>\n",
       "      <td>5</td>\n",
       "      <td>multidim_binom</td>\n",
       "      <td>True</td>\n",
       "      <td>gyorfi</td>\n",
       "      <td>0.642281</td>\n",
       "      <td>0.636958</td>\n",
       "      <td>0.636958</td>\n",
       "      <td>32</td>\n",
       "      <td>1000</td>\n",
       "      <td>41</td>\n",
       "      <td>256</td>\n",
       "      <td>1</td>\n",
       "      <td>0.6</td>\n",
       "      <td>0.678162</td>\n",
       "      <td>0.682779</td>\n",
       "      <td>0.682779</td>\n",
       "      <td>1024</td>\n",
       "    </tr>\n",
       "    <tr>\n",
       "      <th>6</th>\n",
       "      <td>0.9</td>\n",
       "      <td>0.05</td>\n",
       "      <td>6</td>\n",
       "      <td>multidim_binom</td>\n",
       "      <td>True</td>\n",
       "      <td>gyorfi</td>\n",
       "      <td>0.638118</td>\n",
       "      <td>0.633167</td>\n",
       "      <td>0.633167</td>\n",
       "      <td>32</td>\n",
       "      <td>1000</td>\n",
       "      <td>41</td>\n",
       "      <td>256</td>\n",
       "      <td>1</td>\n",
       "      <td>0.6</td>\n",
       "      <td>0.671089</td>\n",
       "      <td>0.676212</td>\n",
       "      <td>0.676212</td>\n",
       "      <td>1024</td>\n",
       "    </tr>\n",
       "    <tr>\n",
       "      <th>7</th>\n",
       "      <td>0.9</td>\n",
       "      <td>0.05</td>\n",
       "      <td>7</td>\n",
       "      <td>multidim_binom</td>\n",
       "      <td>True</td>\n",
       "      <td>gyorfi</td>\n",
       "      <td>0.649156</td>\n",
       "      <td>0.643794</td>\n",
       "      <td>0.643794</td>\n",
       "      <td>32</td>\n",
       "      <td>1000</td>\n",
       "      <td>31</td>\n",
       "      <td>256</td>\n",
       "      <td>1</td>\n",
       "      <td>0.6</td>\n",
       "      <td>0.689384</td>\n",
       "      <td>0.693709</td>\n",
       "      <td>0.693709</td>\n",
       "      <td>1024</td>\n",
       "    </tr>\n",
       "    <tr>\n",
       "      <th>8</th>\n",
       "      <td>0.9</td>\n",
       "      <td>0.05</td>\n",
       "      <td>8</td>\n",
       "      <td>multidim_binom</td>\n",
       "      <td>True</td>\n",
       "      <td>gyorfi</td>\n",
       "      <td>0.640926</td>\n",
       "      <td>0.635315</td>\n",
       "      <td>0.635315</td>\n",
       "      <td>32</td>\n",
       "      <td>1000</td>\n",
       "      <td>41</td>\n",
       "      <td>256</td>\n",
       "      <td>1</td>\n",
       "      <td>0.6</td>\n",
       "      <td>0.675614</td>\n",
       "      <td>0.680970</td>\n",
       "      <td>0.680970</td>\n",
       "      <td>1024</td>\n",
       "    </tr>\n",
       "    <tr>\n",
       "      <th>9</th>\n",
       "      <td>0.9</td>\n",
       "      <td>0.05</td>\n",
       "      <td>9</td>\n",
       "      <td>multidim_binom</td>\n",
       "      <td>True</td>\n",
       "      <td>gyorfi</td>\n",
       "      <td>0.619647</td>\n",
       "      <td>0.613634</td>\n",
       "      <td>0.613634</td>\n",
       "      <td>32</td>\n",
       "      <td>1000</td>\n",
       "      <td>41</td>\n",
       "      <td>256</td>\n",
       "      <td>1</td>\n",
       "      <td>0.6</td>\n",
       "      <td>0.656349</td>\n",
       "      <td>0.662610</td>\n",
       "      <td>0.662610</td>\n",
       "      <td>1024</td>\n",
       "    </tr>\n",
       "  </tbody>\n",
       "</table>\n",
       "</div>"
      ],
      "text/plain": [
       "   confidence_interval_prob  confidence_interval_width  doc_ind  \\\n",
       "0                       0.9                       0.05        0   \n",
       "1                       0.9                       0.05        1   \n",
       "2                       0.9                       0.05        2   \n",
       "3                       0.9                       0.05        3   \n",
       "4                       0.9                       0.05        4   \n",
       "5                       0.9                       0.05        5   \n",
       "6                       0.9                       0.05        6   \n",
       "7                       0.9                       0.05        7   \n",
       "8                       0.9                       0.05        8   \n",
       "9                       0.9                       0.05        9   \n",
       "\n",
       "   gen_distr_type  in_memory knn_curve_model  lb_one_sided  lb_two_sided  \\\n",
       "0  multidim_binom       True          gyorfi      0.637585      0.632943   \n",
       "1  multidim_binom       True          gyorfi      0.647123      0.642274   \n",
       "2  multidim_binom       True          gyorfi      0.633217      0.626340   \n",
       "3  multidim_binom       True          gyorfi      0.647347      0.641621   \n",
       "4  multidim_binom       True          gyorfi      0.605770      0.601057   \n",
       "5  multidim_binom       True          gyorfi      0.642281      0.636958   \n",
       "6  multidim_binom       True          gyorfi      0.638118      0.633167   \n",
       "7  multidim_binom       True          gyorfi      0.649156      0.643794   \n",
       "8  multidim_binom       True          gyorfi      0.640926      0.635315   \n",
       "9  multidim_binom       True          gyorfi      0.619647      0.613634   \n",
       "\n",
       "   lower_bound  min_samples  n_bootstraps  n_curves_done  n_max  n_trials  \\\n",
       "0     0.632943           32          1000             41    256         1   \n",
       "1     0.642274           32          1000             31    256         1   \n",
       "2     0.626340           32          1000             41    256         1   \n",
       "3     0.641621           32          1000             41    256         1   \n",
       "4     0.601057           32          1000             41    256         1   \n",
       "5     0.636958           32          1000             41    256         1   \n",
       "6     0.633167           32          1000             41    256         1   \n",
       "7     0.643794           32          1000             31    256         1   \n",
       "8     0.635315           32          1000             41    256         1   \n",
       "9     0.613634           32          1000             41    256         1   \n",
       "\n",
       "   prob_success  ub_one_sided  ub_two_sided  upper_bound  validation_set_size  \n",
       "0           0.6      0.672874      0.678489     0.678489                 1024  \n",
       "1           0.6      0.683352      0.688845     0.688845                 1024  \n",
       "2           0.6      0.668350      0.672504     0.672504                 1024  \n",
       "3           0.6      0.685013      0.690005     0.690005                 1024  \n",
       "4           0.6      0.642207      0.648929     0.648929                 1024  \n",
       "5           0.6      0.678162      0.682779     0.682779                 1024  \n",
       "6           0.6      0.671089      0.676212     0.676212                 1024  \n",
       "7           0.6      0.689384      0.693709     0.693709                 1024  \n",
       "8           0.6      0.675614      0.680970     0.680970                 1024  \n",
       "9           0.6      0.656349      0.662610     0.662610                 1024  "
      ]
     },
     "execution_count": 5,
     "metadata": {},
     "output_type": "execute_result"
    }
   ],
   "source": [
    "DF"
   ]
  },
  {
   "cell_type": "markdown",
   "metadata": {},
   "source": [
    "---\n",
    "\n",
    "### Compute $P(Correct)$ based on stat dist"
   ]
  },
  {
   "cell_type": "code",
   "execution_count": 6,
   "metadata": {},
   "outputs": [
    {
     "name": "stdout",
     "output_type": "stream",
     "text": [
      "0.648\n"
     ]
    }
   ],
   "source": [
    "from scipy.special import comb\n",
    "def multidim_binom_stat_dist(p, d):\n",
    "    q = 1-p\n",
    "    n_combos = 2**d\n",
    "    stat_dist = 0\n",
    "    for k in range(d+1):\n",
    "        n_combos_with_k = comb(d, k)\n",
    "        p_1 = n_combos_with_k * p**k * q**(d-k)\n",
    "        p_2 = n_combos_with_k * q**k * p**(d-k)\n",
    "        delta_prob = np.abs(p_1 - p_2)\n",
    "        stat_dist += delta_prob\n",
    "    return 0.5*stat_dist\n",
    "        \n",
    "\n",
    "pc = 0.5+0.5*multidim_binom_stat_dist(p, 3)\n",
    "print(pc)"
   ]
  },
  {
   "cell_type": "code",
   "execution_count": 7,
   "metadata": {},
   "outputs": [
    {
     "data": {
      "text/plain": [
       "[<matplotlib.lines.Line2D at 0x7fe6b84e91d0>]"
      ]
     },
     "execution_count": 7,
     "metadata": {},
     "output_type": "execute_result"
    },
    {
     "data": {
      "image/png": "[encoded data removed]",
      "text/plain": [
       "<Figure size 432x288 with 1 Axes>"
      ]
     },
     "metadata": {},
     "output_type": "display_data"
    }
   ],
   "source": [
    "plt.plot(DF.ub_two_sided-DF.lb_two_sided, '*b')"
   ]
  },
  {
   "cell_type": "code",
   "execution_count": 8,
   "metadata": {},
   "outputs": [
    {
     "data": {
      "text/plain": [
       "10"
      ]
     },
     "execution_count": 8,
     "metadata": {},
     "output_type": "execute_result"
    }
   ],
   "source": [
    "DF.shape[0]"
   ]
  },
  {
   "cell_type": "code",
   "execution_count": 9,
   "metadata": {},
   "outputs": [
    {
     "name": "stdout",
     "output_type": "stream",
     "text": [
      "Success probability 1.00 over 10 trials\n",
      "with bootstrap confindence interval probability of 0.90.\n"
     ]
    }
   ],
   "source": [
    "n_success = DF[(DF['lb_two_sided']<=pc) & (DF['ub_two_sided']>=pc)].shape[0]\n",
    "n_total = DF.shape[0]\n",
    "\n",
    "print(f\"\"\"Success probability {n_success/n_total:.2f} over {n_total} trials\n",
    "with bootstrap confindence interval probability of {asys[\"p\"]:.2f}.\"\"\")"
   ]
  },
  {
   "cell_type": "markdown",
   "metadata": {},
   "source": [
    "### Plot outcomes for all trials"
   ]
  },
  {
   "cell_type": "code",
   "execution_count": 18,
   "metadata": {},
   "outputs": [],
   "source": [
    "configure_plotting_for_publication()\n",
    "\n",
    "\n",
    "import pandas as pd\n",
    "\n",
    "from scipy.optimize import least_squares\n",
    "\n",
    "\n",
    "from experiment_framework.asymptotic_analysis import asymptotic_privacy_lr, transform_n_to_k_for_knn, asymptotic_curve\n",
    "\n",
    "from experiment_framework.privacy_estimator_mixins import get_k\n",
    "\n",
    "SAVE_FIGURES_FOR_LATEX = True"
   ]
  },
  {
   "cell_type": "code",
   "execution_count": 12,
   "metadata": {
    "scrolled": false
   },
   "outputs": [
    {
     "data": {
      "image/png": "[encoded data removed]",
      "text/plain": [
       "<Figure size 560x420 with 1 Axes>"
      ]
     },
     "metadata": {},
     "output_type": "display_data"
    }
   ],
   "source": [
    "ax = DF.ub_one_sided.plot(kind='hist', bins=30)\n",
    "true_ub = pc\n",
    "plt.axvline(x=true_ub, color='r')\n",
    "plt.text(x=true_ub,\n",
    "         y=0.9,\n",
    "         s='$C_\\infty^*$ = {:.3f}'.format(true_ub),\n",
    "         transform=x_data_y_axis(),\n",
    "         horizontalalignment='center',\n",
    "         bbox=dict(facecolor='w', edgecolor='r', boxstyle='round')\n",
    "        )\n",
    "plt.xlabel('Upper Bound on $P[$Correct$]$')\n",
    "plt.title('Distribution of Upper Bounds over {ntri} trials with d={d} p={p}'.format(\n",
    "    ntri=asys['n_docs'],\n",
    "    d=d,\n",
    "    p=p\n",
    "))\n",
    "\n",
    "if SAVE_FIGURES_FOR_LATEX:\n",
    "    plt.title('')\n",
    "    plt.ylabel('Frequency')\n",
    "    plt.xlabel('Estimated Upper Bound on $C^*_\\infty$')\n",
    "    plt.tight_layout()\n",
    "    plt.savefig(os.path.join(FIGURES_PATH, 'experiment_1_upper_bound_histogram.eps'))"
   ]
  },
  {
   "cell_type": "markdown",
   "metadata": {},
   "source": [
    "### Plot the details for a single trial"
   ]
  },
  {
   "cell_type": "code",
   "execution_count": 19,
   "metadata": {},
   "outputs": [],
   "source": [
    "from notebook_context import *\n",
    "from notebook_context.plots import plot_convergence_curve_dataframe\n",
    "configure_plotting_for_publication()"
   ]
  },
  {
   "cell_type": "code",
   "execution_count": 20,
   "metadata": {},
   "outputs": [],
   "source": [
    "DFccc = load_completed_CCCs_into_dataframe(CCCs)"
   ]
  },
  {
   "cell_type": "code",
   "execution_count": 38,
   "metadata": {
    "scrolled": false
   },
   "outputs": [
    {
     "name": "stdout",
     "output_type": "stream",
     "text": [
      "Training set sizes =  32 -- 256\n",
      "asymptote m=0.6506376787957016 curve C=0.13971938875835888\n"
     ]
    },
    {
     "data": {
      "image/png": "[encoded data removed]",
      "text/plain": [
       "<Figure size 560x420 with 2 Axes>"
      ]
     },
     "metadata": {},
     "output_type": "display_data"
    }
   ],
   "source": [
    "from experiment_framework.asymptotic_analysis import construct_bootstrap\n",
    "\n",
    "def plot_convergence_curve_dataframe(DF, doc_ind=None, d=d, fit_model=fit_model,\n",
    "                n_bootstrap_samples=1000, confidence_interval_prob=0.9):\n",
    "    print('Training set sizes = ',\n",
    "          DF.training_set_size.min(),\n",
    "          '--',\n",
    "          DF.training_set_size.max()\n",
    "         )\n",
    "    if doc_ind is not None:\n",
    "        DF = DF.loc[DF.doc_ind == doc_ind, :]\n",
    "\n",
    "    n_docs = DF.doc_ind.nunique()\n",
    "    cp = sns.color_palette('hls', n_docs, desat=0.9)\n",
    "    handle = sns.scatterplot(\n",
    "        data=DF,\n",
    "        x='training_set_size',\n",
    "        y='classifier_accuracy',\n",
    "        hue=None,\n",
    "        legend=None,\n",
    "        palette=cp,\n",
    "        color='b',\n",
    "        size=1\n",
    "    )\n",
    "     \n",
    "   \n",
    "    # curve for all the data\n",
    "    x = DF.training_set_size.values.astype(np.double)\n",
    "    y = DF.classifier_accuracy.values\n",
    "\n",
    "    ks = transform_n_to_k_for_knn(x, fit_model=fit_model, d=d)\n",
    "    m, C = asymptotic_curve(ks.reshape(ks.size), y.reshape(y.size))\n",
    "    print(f'asymptote m={m} curve C={C}')\n",
    "    \n",
    "    # plot the sample distributions\n",
    "#     plt.violinplot(\n",
    "#         dataset=y,\n",
    "#         widths=20,\n",
    "#         positions=x,\n",
    "#         showextrema=False\n",
    "#     )\n",
    "    handle = plt.gca()\n",
    "    \n",
    "    # bootstrap for ub\n",
    "    tss = DF.training_set_size.unique()\n",
    "    tss_to_accuracy = {ts: DF[DF.training_set_size==ts].classifier_accuracy.values for ts in tss}\n",
    "    EB = construct_bootstrap(tss_to_accuracy, d=d, fit_model=fit_model)\n",
    "    samples = EB.get_bootstrap_means(n_bootstrap_samples)\n",
    "\n",
    "    ub = EB.bootstrap_confidence_bounds(confidence_interval_prob, n_bootstrap_samples).ub_two_sided\n",
    "    lb = EB.bootstrap_confidence_bounds(confidence_interval_prob, n_bootstrap_samples).lb_two_sided\n",
    "    base = config.SAMPLES_BASE\n",
    "    xx = np.logspace(np.log(np.min(x))/np.log(base)*0.9,\n",
    "                     np.log(np.max(x))/np.log(base)*1.01,\n",
    "                    base=base)\n",
    "    kks = transform_n_to_k_for_knn(xx, fit_model, d=d)\n",
    "    plt.plot(xx, m+C*kks, '-g')\n",
    "    \n",
    "    plt.axhline(ub, xmax=0.3,color='g', linestyle='-', alpha=0.7)\n",
    "    plt.axhline(lb, xmax=0.3, color='g', linestyle='-', alpha=0.7)\n",
    "    plt.axhline(m, color='g', linestyle='--')\n",
    "    plt.axhline(pc, color='r', linestyle='-')\n",
    "    labeled_axhline(m, '$E[C_\\infty]$', 'g', handle, linestyle='--', x_pos=1.1)\n",
    "    labeled_axhline(pc, '$C_\\infty^*$', 'r', handle, x_pos=0.7)\n",
    "    \n",
    "    xuniq = np.unique(x)\n",
    "    plt.xticks(xuniq, ['$2^{%s}$'%'{:}'.format(int(np.log(xx)/np.log(2))) for xx in xuniq],\n",
    "              rotation=30)\n",
    "    \n",
    "    if SAVE_FIGURES_FOR_LATEX:\n",
    "        plt.xlabel('Training Set Size')\n",
    "        plt.ylabel('P[correct]')\n",
    "    \n",
    "    ax2 = handle.twiny()\n",
    "    ax2.set_xlim(0, 100.0)\n",
    "    ax2.set_xticks([])\n",
    "    sns.distplot(a=samples,\n",
    "                 bins=30,\n",
    "                 hist=True,\n",
    "                 hist_kws={'alpha':0.30},\n",
    "                 norm_hist=True,\n",
    "                 kde=False,\n",
    "                 kde_kws={'linestyle':':', 'alpha':0.9},\n",
    "                 rug=False,\n",
    "                 vertical=True,\n",
    "                 color='g',\n",
    "                 ax=ax2)\n",
    "    \n",
    "\n",
    "    if SAVE_FIGURES_FOR_LATEX:\n",
    "        plt.tight_layout()\n",
    "        plt.savefig(os.path.join(FIGURES_PATH, 'experiment_1_bootstrap_visualization.png'))\n",
    "\n",
    "\n",
    "    \n",
    "# call the function\n",
    "plot_convergence_curve_dataframe(DFccc, 2, d=d, fit_model=fit_model)\n"
   ]
  },
  {
   "cell_type": "markdown",
   "metadata": {},
   "source": [
    "### Debugging bootstrap:"
   ]
  },
  {
   "cell_type": "code",
   "execution_count": null,
   "metadata": {},
   "outputs": [],
   "source": [
    "tss, accu = get_bootstrap_model(DFccc, 1)\n",
    "\n",
    "boot_res = empirical_bootstrap_bounds(training_set_sizes=tss,\n",
    "                                      d=d,\n",
    "                                      fit_model=fit_model,\n",
    "                                      classifier_accuracies=accu,\n",
    "                                      confidence_interval_prob=0.99,\n",
    "                                      n_bootstraps=1000)"
   ]
  },
  {
   "cell_type": "code",
   "execution_count": null,
   "metadata": {},
   "outputs": [],
   "source": [
    "plt.hist(boot_res['mean'] - boot_res['delta_means'], bins=30)\n",
    "plt.axvline(boot_res['lb_two_sided'], color='r')\n",
    "plt.axvline(boot_res['ub_two_sided'], color='k')\n",
    "plt.axvline(boot_res['mean'], color='g')\n",
    "\n",
    "plt.text(x=boot_res['mean'], y=1.05, s='{}'.format(boot_res['mean']),\n",
    "        transform=x_data_y_axis(plt.gca()))"
   ]
  },
  {
   "cell_type": "code",
   "execution_count": null,
   "metadata": {},
   "outputs": [],
   "source": [
    "boot_res['delta_means'].size"
   ]
  },
  {
   "cell_type": "code",
   "execution_count": null,
   "metadata": {},
   "outputs": [],
   "source": [
    "np.unique(boot_res['delta_means']).size"
   ]
  }
 ],
 "metadata": {
  "kernelspec": {
   "display_name": "Python 3",
   "language": "python",
   "name": "python3"
  },
  "language_info": {
   "codemirror_mode": {
    "name": "ipython",
    "version": 3
   },
   "file_extension": ".py",
   "mimetype": "text/x-python",
   "name": "python",
   "nbconvert_exporter": "python",
   "pygments_lexer": "ipython3",
   "version": "3.6.8"
  }
 },
 "nbformat": 4,
 "nbformat_minor": 2
}
