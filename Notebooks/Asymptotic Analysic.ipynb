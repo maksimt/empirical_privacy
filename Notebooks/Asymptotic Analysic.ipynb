{
 "cells": [
  {
   "cell_type": "code",
   "execution_count": 2,
   "metadata": {},
   "outputs": [],
   "source": [
    "import copy\n",
    "import itertools\n",
    "from pprint import pprint\n",
    "\n",
    "import numpy as np\n",
    "import torch\n",
    "import luigi\n",
    "import dill\n",
    "import pandas as pd\n",
    "import seaborn as sns\n",
    "import matplotlib as mpl\n",
    "import matplotlib.pyplot as plt\n",
    "sns.set()\n",
    "sns.set_context(\"talk\")\n",
    "mpl.rcParams['figure.figsize'] = [12.0, 8.0]\n",
    "mpl.rcParams['figure.dpi'] = 140\n",
    "mpl.rcParams['savefig.dpi'] = 160\n",
    "\n",
    "from experiment_framework.helpers import load_completed_CCCs_into_dataframe, load_completed_AAs_into_dataframe\n",
    "from empirical_privacy.row_distributed_svd import \\\n",
    "svd_dataset_settings, ExpCCCSVD, CCCSVD, All\n",
    "from dataset_utils.recsys_datasets import get_ml1m_user\n",
    "from dataset_utils.text_datasets import get_twenty_doc"
   ]
  },
  {
   "cell_type": "markdown",
   "metadata": {},
   "source": [
    "# Looking at asymptotic accuracy"
   ]
  },
  {
   "cell_type": "code",
   "execution_count": 3,
   "metadata": {},
   "outputs": [
    {
     "name": "stderr",
     "output_type": "stream",
     "text": [
      "WARNING:root:All is deprecated, use AllSVDAsymptotics\n"
     ]
    }
   ],
   "source": [
    "AAType = 'CCCSVD'\n",
    "AAs = All(AAType).requires()\n",
    "DF = load_completed_AAs_into_dataframe(AAs)"
   ]
  },
  {
   "cell_type": "code",
   "execution_count": 9,
   "metadata": {},
   "outputs": [
    {
     "data": {
      "text/plain": [
       "(5, 16)"
      ]
     },
     "execution_count": 9,
     "metadata": {},
     "output_type": "execute_result"
    }
   ],
   "source": [
    "DF = DF[DF.n_trials_per_training_set_size==DF.n_trials_per_training_set_size.max()]\n",
    "DF = DF[DF.n_max==DF.n_max.max()]\n",
    "DF.shape"
   ]
  },
  {
   "cell_type": "code",
   "execution_count": 10,
   "metadata": {},
   "outputs": [
    {
     "data": {
      "text/html": [
       "<div>\n",
       "<style scoped>\n",
       "    .dataframe tbody tr th:only-of-type {\n",
       "        vertical-align: middle;\n",
       "    }\n",
       "\n",
       "    .dataframe tbody tr th {\n",
       "        vertical-align: top;\n",
       "    }\n",
       "\n",
       "    .dataframe thead th {\n",
       "        text-align: right;\n",
       "    }\n",
       "</style>\n",
       "<table border=\"1\" class=\"dataframe\">\n",
       "  <thead>\n",
       "    <tr style=\"text-align: right;\">\n",
       "      <th></th>\n",
       "      <th>SVD_k</th>\n",
       "      <th>SVD_type</th>\n",
       "      <th>confidence_interval_prob</th>\n",
       "      <th>confidence_interval_width</th>\n",
       "      <th>dataset_name</th>\n",
       "      <th>doc_ind</th>\n",
       "      <th>mean</th>\n",
       "      <th>median</th>\n",
       "      <th>n_bootstraps</th>\n",
       "      <th>n_max</th>\n",
       "      <th>n_trials_per_training_set_size</th>\n",
       "      <th>p</th>\n",
       "      <th>part_fraction</th>\n",
       "      <th>std</th>\n",
       "      <th>upper_bound</th>\n",
       "      <th>validation_set_size</th>\n",
       "    </tr>\n",
       "  </thead>\n",
       "  <tbody>\n",
       "    <tr>\n",
       "      <th>175</th>\n",
       "      <td>14</td>\n",
       "      <td>hidden_eigs</td>\n",
       "      <td>0.99</td>\n",
       "      <td>0.01</td>\n",
       "      <td>ml-1m</td>\n",
       "      <td>0</td>\n",
       "      <td>0.528330</td>\n",
       "      <td>0.528321</td>\n",
       "      <td>5757</td>\n",
       "      <td>8192</td>\n",
       "      <td>10</td>\n",
       "      <td>0.99</td>\n",
       "      <td>0.01</td>\n",
       "      <td>0.004027</td>\n",
       "      <td>0.538330</td>\n",
       "      <td>1024</td>\n",
       "    </tr>\n",
       "    <tr>\n",
       "      <th>176</th>\n",
       "      <td>14</td>\n",
       "      <td>hidden_eigs</td>\n",
       "      <td>0.99</td>\n",
       "      <td>0.01</td>\n",
       "      <td>ml-1m</td>\n",
       "      <td>1</td>\n",
       "      <td>0.550896</td>\n",
       "      <td>0.550887</td>\n",
       "      <td>5757</td>\n",
       "      <td>8192</td>\n",
       "      <td>10</td>\n",
       "      <td>0.99</td>\n",
       "      <td>0.01</td>\n",
       "      <td>0.005146</td>\n",
       "      <td>0.560896</td>\n",
       "      <td>1024</td>\n",
       "    </tr>\n",
       "    <tr>\n",
       "      <th>177</th>\n",
       "      <td>14</td>\n",
       "      <td>hidden_eigs</td>\n",
       "      <td>0.99</td>\n",
       "      <td>0.01</td>\n",
       "      <td>ml-1m</td>\n",
       "      <td>2</td>\n",
       "      <td>0.519124</td>\n",
       "      <td>0.519124</td>\n",
       "      <td>5757</td>\n",
       "      <td>8192</td>\n",
       "      <td>10</td>\n",
       "      <td>0.99</td>\n",
       "      <td>0.01</td>\n",
       "      <td>0.004023</td>\n",
       "      <td>0.529124</td>\n",
       "      <td>1024</td>\n",
       "    </tr>\n",
       "    <tr>\n",
       "      <th>178</th>\n",
       "      <td>14</td>\n",
       "      <td>hidden_eigs</td>\n",
       "      <td>0.99</td>\n",
       "      <td>0.01</td>\n",
       "      <td>ml-1m</td>\n",
       "      <td>3</td>\n",
       "      <td>0.521219</td>\n",
       "      <td>0.521123</td>\n",
       "      <td>5757</td>\n",
       "      <td>8192</td>\n",
       "      <td>10</td>\n",
       "      <td>0.99</td>\n",
       "      <td>0.01</td>\n",
       "      <td>0.004069</td>\n",
       "      <td>0.531219</td>\n",
       "      <td>1024</td>\n",
       "    </tr>\n",
       "    <tr>\n",
       "      <th>179</th>\n",
       "      <td>14</td>\n",
       "      <td>hidden_eigs</td>\n",
       "      <td>0.99</td>\n",
       "      <td>0.01</td>\n",
       "      <td>ml-1m</td>\n",
       "      <td>4</td>\n",
       "      <td>0.574418</td>\n",
       "      <td>0.574439</td>\n",
       "      <td>5757</td>\n",
       "      <td>8192</td>\n",
       "      <td>10</td>\n",
       "      <td>0.99</td>\n",
       "      <td>0.01</td>\n",
       "      <td>0.003804</td>\n",
       "      <td>0.584418</td>\n",
       "      <td>1024</td>\n",
       "    </tr>\n",
       "  </tbody>\n",
       "</table>\n",
       "</div>"
      ],
      "text/plain": [
       "     SVD_k     SVD_type         ...           upper_bound  validation_set_size\n",
       "175     14  hidden_eigs         ...              0.538330                 1024\n",
       "176     14  hidden_eigs         ...              0.560896                 1024\n",
       "177     14  hidden_eigs         ...              0.529124                 1024\n",
       "178     14  hidden_eigs         ...              0.531219                 1024\n",
       "179     14  hidden_eigs         ...              0.584418                 1024\n",
       "\n",
       "[5 rows x 16 columns]"
      ]
     },
     "execution_count": 10,
     "metadata": {},
     "output_type": "execute_result"
    }
   ],
   "source": [
    "DF"
   ]
  },
  {
   "cell_type": "code",
   "execution_count": 7,
   "metadata": {},
   "outputs": [
    {
     "data": {
      "text/plain": [
       "array([ 5,  6,  7,  8,  9, 10])"
      ]
     },
     "execution_count": 7,
     "metadata": {},
     "output_type": "execute_result"
    }
   ],
   "source": [
    "DF.n_trials_per_training_set_size.unique()"
   ]
  },
  {
   "cell_type": "code",
   "execution_count": null,
   "metadata": {},
   "outputs": [],
   "source": []
  },
  {
   "cell_type": "code",
   "execution_count": null,
   "metadata": {},
   "outputs": [],
   "source": []
  },
  {
   "cell_type": "code",
   "execution_count": null,
   "metadata": {},
   "outputs": [],
   "source": []
  },
  {
   "cell_type": "markdown",
   "metadata": {},
   "source": [
    "# Development of asymptotic analysis"
   ]
  },
  {
   "cell_type": "markdown",
   "metadata": {},
   "source": [
    "### First, focus on a specific dataset and problem setting"
   ]
  },
  {
   "cell_type": "code",
   "execution_count": null,
   "metadata": {},
   "outputs": [],
   "source": [
    "# CCCType = 'ExpCCCSVD' # Expectation\n",
    "CCCType = 'CCCSVD' # KNN\n",
    "CCCs = All(CCCType).requires()"
   ]
  },
  {
   "cell_type": "code",
   "execution_count": null,
   "metadata": {},
   "outputs": [],
   "source": [
    "len(CCCs)"
   ]
  },
  {
   "cell_type": "markdown",
   "metadata": {},
   "source": [
    "###### Load all results"
   ]
  },
  {
   "cell_type": "code",
   "execution_count": null,
   "metadata": {},
   "outputs": [],
   "source": [
    "DF = load_completed_CCCs_into_dataframe(CCCs)\n",
    "n_docs = DF.doc_ind.nunique()\n",
    "print(n_docs)\n",
    "cp = sns.color_palette('hls', n_docs)"
   ]
  },
  {
   "cell_type": "markdown",
   "metadata": {},
   "source": [
    "##### Pick one curve to model"
   ]
  },
  {
   "cell_type": "code",
   "execution_count": null,
   "metadata": {},
   "outputs": [],
   "source": [
    "subview = {\n",
    "    'dataset_name': 'ml-1m',\n",
    "    'doc_ind': 0,\n",
    "    'part_fraction': 0.1\n",
    "}\n",
    "query = ' & '.join(['{k}=={v}'.format(k=k, v=v if type(v) is not str else '\"'+v+'\"') for k,v in subview.items()])\n",
    "print(query)\n",
    "DF = DF.query(query)\n",
    "del DF['n_max']\n",
    "del DF['n_trials_per_training_set_size']\n",
    "DF.drop_duplicates(inplace=True)\n",
    "DF.dropna(inplace=True)\n",
    "print(DF.columns)\n",
    "print(DF.shape)\n"
   ]
  },
  {
   "cell_type": "code",
   "execution_count": null,
   "metadata": {},
   "outputs": [],
   "source": [
    "for col in DF.columns:\n",
    "    print(col)\n",
    "    print(DF[col].unique()[0:11])"
   ]
  },
  {
   "cell_type": "code",
   "execution_count": null,
   "metadata": {},
   "outputs": [],
   "source": [
    "DF[DF.training_set_size==4096]"
   ]
  },
  {
   "cell_type": "code",
   "execution_count": null,
   "metadata": {},
   "outputs": [],
   "source": [
    "DF[DF.training_set_size==8192]"
   ]
  },
  {
   "cell_type": "code",
   "execution_count": null,
   "metadata": {},
   "outputs": [],
   "source": [
    "sns.scatterplot(x='training_set_size', y='classifier_accuracy', data=DF)"
   ]
  },
  {
   "cell_type": "markdown",
   "metadata": {},
   "source": [
    "### Learning Torch"
   ]
  },
  {
   "cell_type": "code",
   "execution_count": null,
   "metadata": {},
   "outputs": [],
   "source": [
    "x = torch.rand(2,3)\n",
    "print(x)"
   ]
  },
  {
   "cell_type": "code",
   "execution_count": null,
   "metadata": {},
   "outputs": [],
   "source": [
    "L = [range(i*3, i*3+3) for i in range(4)]\n",
    "x = torch.tensor(L)\n",
    "y = np.random.randn(4)\n",
    "y_tensor = torch.from_numpy(y)\n",
    "print(y_tensor.size())\n",
    "print(y_tensor.numpy())\n"
   ]
  },
  {
   "cell_type": "code",
   "execution_count": null,
   "metadata": {},
   "outputs": [],
   "source": [
    "print(torch.cuda.is_available())"
   ]
  },
  {
   "cell_type": "markdown",
   "metadata": {},
   "source": [
    "### Applying torch to fit curve"
   ]
  },
  {
   "cell_type": "code",
   "execution_count": null,
   "metadata": {},
   "outputs": [],
   "source": [
    "\n",
    "x = DF.training_set_size.values.astype(np.double)\n",
    "y = DF.classifier_accuracy.values\n",
    "x = torch.from_numpy(x)\n",
    "y = torch.from_numpy(y)\n",
    "x.requires_grad=False\n",
    "y.requires_grad=False"
   ]
  },
  {
   "cell_type": "code",
   "execution_count": null,
   "metadata": {},
   "outputs": [],
   "source": [
    "from torch.autograd import Variable\n",
    "\n",
    "class KNNConvergenceCurve(torch.nn.Module):\n",
    "    def __init__(self, x, y, d, print_to_console=False):\n",
    "        super(KNNConvergenceCurve, self).__init__()\n",
    "        self.m = torch.ones(1, requires_grad=True, dtype=torch.double)\n",
    "        self.c = torch.ones(1, requires_grad=True, dtype=torch.double)\n",
    "        self.x = x\n",
    "        self.y = y\n",
    "        self.d = d\n",
    "        self.print_to_console = print_to_console\n",
    "    \n",
    "    def predict(self, x):\n",
    "        return self.m + self.c * 1/(x**(2/(self.d+2)))\n",
    "    \n",
    "    def loss(self, x):\n",
    "        return (self.y - self.predict(x)).pow(2).sum()\n",
    "    \n",
    "    def fit(self, learning_rate=0.01, n_iter=500):\n",
    "        for t in range(n_iter):\n",
    "            loss = self.loss(self.x)\n",
    "            loss.backward()\n",
    "            with torch.no_grad():\n",
    "                self.m -= learning_rate * self.m.grad\n",
    "                self.c -= learning_rate * self.c.grad\n",
    "                self.m.grad.zero_()\n",
    "                self.c.grad.zero_()\n",
    "                \n",
    "    def fit_with_optimizer(self, \n",
    "                           learning_rate=0.01,\n",
    "                           n_iter=500,\n",
    "                           opt=torch.optim.Adam,\n",
    "                           loss_fn=torch.nn.MSELoss(reduction='sum')):\n",
    "        opt = opt([self.m, self.c], lr=learning_rate)\n",
    "        for t in range(n_iter):\n",
    "            y_pred = self.predict(x)\n",
    "            loss = loss_fn(y_pred, self.y)\n",
    "            if self.print_to_console and t%25==0:\n",
    "                print(t, loss.item())\n",
    "            opt.zero_grad()\n",
    "            loss.backward()\n",
    "            opt.step()\n",
    "        \n",
    "        \n",
    "    \n",
    "mod = KNNConvergenceCurve(x,y,6)\n",
    "print(mod)\n",
    "print(list(mod.parameters()))"
   ]
  },
  {
   "cell_type": "code",
   "execution_count": null,
   "metadata": {},
   "outputs": [],
   "source": [
    "def plot_fit(mod):\n",
    "    x = mod.x.numpy()\n",
    "    y = mod.y.numpy()\n",
    "    sns.scatterplot(x=x, y=y)\n",
    "    N = np.logspace(np.log2(np.min(x)), np.log2(np.max(x)*1.05), base=2)\n",
    "    plt.plot(N, mod.predict(torch.from_numpy(N)).detach().numpy(), '-r')\n",
    "    plt.plot(N, np.ones_like(N)*mod.m.item(), '--r')\n",
    "plot_fit(mod)"
   ]
  },
  {
   "cell_type": "code",
   "execution_count": null,
   "metadata": {},
   "outputs": [],
   "source": [
    "mod.fit_with_optimizer()"
   ]
  },
  {
   "cell_type": "code",
   "execution_count": null,
   "metadata": {},
   "outputs": [],
   "source": [
    "print(mod.m, mod.c)\n",
    "print(mod.m.item())"
   ]
  },
  {
   "cell_type": "code",
   "execution_count": null,
   "metadata": {},
   "outputs": [],
   "source": [
    "plot_fit(mod)"
   ]
  },
  {
   "cell_type": "markdown",
   "metadata": {},
   "source": [
    "### Use bootstrap to generate confidence interval around asymptotic error"
   ]
  },
  {
   "cell_type": "code",
   "execution_count": null,
   "metadata": {},
   "outputs": [],
   "source": [
    "from sklearn.utils import resample"
   ]
  },
  {
   "cell_type": "code",
   "execution_count": null,
   "metadata": {},
   "outputs": [],
   "source": [
    "def asymptotic_privacy(X, y):\n",
    "    mod = KNNConvergenceCurve(torch.from_numpy(X), torch.from_numpy(y), 6)\n",
    "    mod.fit_with_optimizer(n_iter=1500)\n",
    "    return mod.m.item()\n",
    "\n",
    "def bootstrap_ci(n_samples, X, y, f):\n",
    "    res = np.empty((n_samples,))\n",
    "    for tri in range(n_samples):\n",
    "        Xi, yi = resample(X.numpy(), y.numpy(), random_state=tri)\n",
    "        res[tri] = f(Xi, yi)\n",
    "    return res\n",
    "\n",
    "bootstrap_asymp = bootstrap_ci(10000, x, y, asymptotic_privacy)"
   ]
  },
  {
   "cell_type": "code",
   "execution_count": null,
   "metadata": {},
   "outputs": [],
   "source": [
    "plt.hist(bootstrap_asymp)"
   ]
  },
  {
   "cell_type": "markdown",
   "metadata": {},
   "source": [
    "### Hoeffdings Inequality\n",
    "\n",
    "Suppose $a_i \\leq B_i \\leq b_i$. Let $c_i=b_i-a_i$ and $C>c_i $ for all $ i$.\n",
    "\n",
    "$$P[|nE[B]-\\sum_{i=1}^n B_i | > t] < 2\\exp{\\frac{-2t^2}{nC^2}}$$"
   ]
  },
  {
   "cell_type": "code",
   "execution_count": null,
   "metadata": {},
   "outputs": [],
   "source": [
    "def hoeffding_2sided(n, y, C=0.5):\n",
    "    return 2*np.exp((-2*y**2*n)/(C**2))\n",
    "def hoeffding_n_given_t_and_p(t=0.005, p=0.999, C=0.5):\n",
    "    return C**2*np.log(1-p)/(-2*t**2)\n",
    "\n",
    "N = np.logspace(2,5)\n",
    "plt.semilogy(N, hoeffding_2sided(N, 0.005))"
   ]
  },
  {
   "cell_type": "code",
   "execution_count": null,
   "metadata": {},
   "outputs": [],
   "source": [
    "hoeffding_n_given_t_and_p(t=0.01, p=0.99)"
   ]
  }
 ],
 "metadata": {
  "kernelspec": {
   "display_name": "Python 3",
   "language": "python",
   "name": "python3"
  },
  "language_info": {
   "codemirror_mode": {
    "name": "ipython",
    "version": 3
   },
   "file_extension": ".py",
   "mimetype": "text/x-python",
   "name": "python",
   "nbconvert_exporter": "python",
   "pygments_lexer": "ipython3",
   "version": "3.6.5"
  }
 },
 "nbformat": 4,
 "nbformat_minor": 2
}
