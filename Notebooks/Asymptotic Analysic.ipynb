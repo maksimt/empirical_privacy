{
 "cells": [
  {
   "cell_type": "code",
   "execution_count": 1,
   "metadata": {},
   "outputs": [],
   "source": [
    "import copy\n",
    "import itertools\n",
    "from pprint import pprint\n",
    "\n",
    "import numpy as np\n",
    "import luigi\n",
    "import dill\n",
    "import pandas as pd\n",
    "import seaborn as sns\n",
    "import matplotlib as mpl\n",
    "import matplotlib.pyplot as plt\n",
    "sns.set()\n",
    "sns.set_context(\"talk\")\n",
    "mpl.rcParams['figure.figsize'] = [12.0, 8.0]\n",
    "mpl.rcParams['figure.dpi'] = 140\n",
    "mpl.rcParams['savefig.dpi'] = 160\n",
    "\n",
    "from experiment_framework.helpers import load_completed_CCCs_into_dataframe, load_completed_AAs_into_dataframe\n",
    "from empirical_privacy.row_distributed_svd import \\\n",
    "svd_dataset_settings, ExpCCCSVD, CCCSVD, All, AllSVDAsymptotics\n",
    "from dataset_utils.recsys_datasets import get_ml1m_user\n",
    "from dataset_utils.text_datasets import get_twenty_doc"
   ]
  },
  {
   "cell_type": "markdown",
   "metadata": {},
   "source": [
    "# Looking at asymptotic accuracy"
   ]
  },
  {
   "cell_type": "markdown",
   "metadata": {},
   "source": [
    "##### If experiments have been completed locally"
   ]
  },
  {
   "cell_type": "code",
   "execution_count": 22,
   "metadata": {},
   "outputs": [
    {
     "name": "stdout",
     "output_type": "stream",
     "text": [
      "/emp_priv/luigi_completed/AAType_0_99_0_01___part_fraction__2acbbaca43\n",
      "/emp_priv/luigi_completed/GenSVDSampleComputeConvergenceCurveknn___part_fraction__4096_15_edf0944070\n",
      "/emp_priv/luigi_completed/GenSVDSampleEvaluateStatisticalDistanceknn___part_fraction__trial0_256_5153ce433d\n",
      "/emp_priv/luigi_completed/GenSVDSampleFitModelknn3150920214210222242___part_fraction__trial0_128_0ad468754c\n"
     ]
    }
   ],
   "source": [
    "# for AA in AAs:\n",
    "#     print(AA.output().path)\n",
    "#     CCC = AA.requires()['CCC']\n",
    "#     print(CCC.output().path)\n",
    "#     ESD = list(CCC.requires().values())[0]\n",
    "#     print(ESD.output().path)\n",
    "#     FitModel = ESD.requires()['model']\n",
    "#     print(FitModel.output().path)\n",
    "#     break\n",
    "# for AA in AAs:\n",
    "#     AA.delete_outputs()"
   ]
  },
  {
   "cell_type": "code",
   "execution_count": 2,
   "metadata": {},
   "outputs": [
    {
     "name": "stderr",
     "output_type": "stream",
     "text": [
      "/opt/conda/lib/python3.6/site-packages/luigi/parameter.py:261: UserWarning: Parameter \"task_process_context\" with value \"None\" is not of type string.\n",
      "  warnings.warn('Parameter \"{}\" with value \"{}\" is not of type string.'.format(param_name, param_value))\n",
      "/opt/conda/lib/python3.6/site-packages/luigi/parameter.py:261: UserWarning: Parameter \"random_seed\" with value \"0\" is not of type string.\n",
      "  warnings.warn('Parameter \"{}\" with value \"{}\" is not of type string.'.format(param_name, param_value))\n",
      "/opt/conda/lib/python3.6/site-packages/luigi/parameter.py:261: UserWarning: Parameter \"random_seed\" with value \"0\" is not of type string.\n",
      "  warnings.warn('Parameter \"{}\" with value \"{}\" is not of type string.'.format(param_name, param_value))\n",
      "/opt/conda/lib/python3.6/site-packages/luigi/parameter.py:261: UserWarning: Parameter \"random_seed\" with value \"0\" is not of type string.\n",
      "  warnings.warn('Parameter \"{}\" with value \"{}\" is not of type string.'.format(param_name, param_value))\n",
      "/opt/conda/lib/python3.6/site-packages/luigi/parameter.py:261: UserWarning: Parameter \"random_seed\" with value \"0\" is not of type string.\n",
      "  warnings.warn('Parameter \"{}\" with value \"{}\" is not of type string.'.format(param_name, param_value))\n",
      "/opt/conda/lib/python3.6/site-packages/luigi/parameter.py:261: UserWarning: Parameter \"random_seed\" with value \"0\" is not of type string.\n",
      "  warnings.warn('Parameter \"{}\" with value \"{}\" is not of type string.'.format(param_name, param_value))\n",
      "/opt/conda/lib/python3.6/site-packages/luigi/parameter.py:261: UserWarning: Parameter \"random_seed\" with value \"0\" is not of type string.\n",
      "  warnings.warn('Parameter \"{}\" with value \"{}\" is not of type string.'.format(param_name, param_value))\n",
      "/opt/conda/lib/python3.6/site-packages/luigi/parameter.py:261: UserWarning: Parameter \"random_seed\" with value \"0\" is not of type string.\n",
      "  warnings.warn('Parameter \"{}\" with value \"{}\" is not of type string.'.format(param_name, param_value))\n",
      "/opt/conda/lib/python3.6/site-packages/luigi/parameter.py:261: UserWarning: Parameter \"random_seed\" with value \"0\" is not of type string.\n",
      "  warnings.warn('Parameter \"{}\" with value \"{}\" is not of type string.'.format(param_name, param_value))\n",
      "/opt/conda/lib/python3.6/site-packages/luigi/parameter.py:261: UserWarning: Parameter \"random_seed\" with value \"0\" is not of type string.\n",
      "  warnings.warn('Parameter \"{}\" with value \"{}\" is not of type string.'.format(param_name, param_value))\n",
      "/opt/conda/lib/python3.6/site-packages/luigi/parameter.py:261: UserWarning: Parameter \"random_seed\" with value \"0\" is not of type string.\n",
      "  warnings.warn('Parameter \"{}\" with value \"{}\" is not of type string.'.format(param_name, param_value))\n",
      "/opt/conda/lib/python3.6/site-packages/luigi/parameter.py:261: UserWarning: Parameter \"random_seed\" with value \"0\" is not of type string.\n",
      "  warnings.warn('Parameter \"{}\" with value \"{}\" is not of type string.'.format(param_name, param_value))\n",
      "/opt/conda/lib/python3.6/site-packages/luigi/parameter.py:261: UserWarning: Parameter \"random_seed\" with value \"0\" is not of type string.\n",
      "  warnings.warn('Parameter \"{}\" with value \"{}\" is not of type string.'.format(param_name, param_value))\n",
      "/opt/conda/lib/python3.6/site-packages/luigi/parameter.py:261: UserWarning: Parameter \"random_seed\" with value \"0\" is not of type string.\n",
      "  warnings.warn('Parameter \"{}\" with value \"{}\" is not of type string.'.format(param_name, param_value))\n",
      "/opt/conda/lib/python3.6/site-packages/luigi/parameter.py:261: UserWarning: Parameter \"random_seed\" with value \"0\" is not of type string.\n",
      "  warnings.warn('Parameter \"{}\" with value \"{}\" is not of type string.'.format(param_name, param_value))\n",
      "/opt/conda/lib/python3.6/site-packages/luigi/parameter.py:261: UserWarning: Parameter \"random_seed\" with value \"0\" is not of type string.\n",
      "  warnings.warn('Parameter \"{}\" with value \"{}\" is not of type string.'.format(param_name, param_value))\n",
      "/opt/conda/lib/python3.6/site-packages/luigi/parameter.py:261: UserWarning: Parameter \"random_seed\" with value \"0\" is not of type string.\n",
      "  warnings.warn('Parameter \"{}\" with value \"{}\" is not of type string.'.format(param_name, param_value))\n",
      "/opt/conda/lib/python3.6/site-packages/luigi/parameter.py:261: UserWarning: Parameter \"random_seed\" with value \"0\" is not of type string.\n",
      "  warnings.warn('Parameter \"{}\" with value \"{}\" is not of type string.'.format(param_name, param_value))\n",
      "/opt/conda/lib/python3.6/site-packages/luigi/parameter.py:261: UserWarning: Parameter \"random_seed\" with value \"0\" is not of type string.\n",
      "  warnings.warn('Parameter \"{}\" with value \"{}\" is not of type string.'.format(param_name, param_value))\n",
      "/opt/conda/lib/python3.6/site-packages/luigi/parameter.py:261: UserWarning: Parameter \"random_seed\" with value \"0\" is not of type string.\n",
      "  warnings.warn('Parameter \"{}\" with value \"{}\" is not of type string.'.format(param_name, param_value))\n",
      "/opt/conda/lib/python3.6/site-packages/luigi/parameter.py:261: UserWarning: Parameter \"random_seed\" with value \"0\" is not of type string.\n",
      "  warnings.warn('Parameter \"{}\" with value \"{}\" is not of type string.'.format(param_name, param_value))\n"
     ]
    }
   ],
   "source": [
    "AAs = AllSVDAsymptotics().requires()\n",
    "luigi.build(AAs, local_scheduler=True, workers=16, log_level='ERROR')\n",
    "DF = load_completed_AAs_into_dataframe(AAs)\n",
    "DF.to_csv('AsymptoticsResults.csv')"
   ]
  },
  {
   "cell_type": "markdown",
   "metadata": {},
   "source": [
    "##### If you just want to look at results"
   ]
  },
  {
   "cell_type": "code",
   "execution_count": 3,
   "metadata": {},
   "outputs": [],
   "source": [
    "DF = pd.read_csv('AsymptoticsResults.csv')"
   ]
  },
  {
   "cell_type": "code",
   "execution_count": 4,
   "metadata": {},
   "outputs": [
    {
     "name": "stdout",
     "output_type": "stream",
     "text": [
      "5\n"
     ]
    },
    {
     "data": {
      "text/html": [
       "<div>\n",
       "<style scoped>\n",
       "    .dataframe tbody tr th:only-of-type {\n",
       "        vertical-align: middle;\n",
       "    }\n",
       "\n",
       "    .dataframe tbody tr th {\n",
       "        vertical-align: top;\n",
       "    }\n",
       "\n",
       "    .dataframe thead th {\n",
       "        text-align: right;\n",
       "    }\n",
       "</style>\n",
       "<table border=\"1\" class=\"dataframe\">\n",
       "  <thead>\n",
       "    <tr style=\"text-align: right;\">\n",
       "      <th></th>\n",
       "      <th>Unnamed: 0</th>\n",
       "      <th>SVD_k</th>\n",
       "      <th>SVD_type</th>\n",
       "      <th>confidence_interval_prob</th>\n",
       "      <th>confidence_interval_width</th>\n",
       "      <th>dataset_name</th>\n",
       "      <th>doc_ind</th>\n",
       "      <th>k_chebyshev</th>\n",
       "      <th>mean</th>\n",
       "      <th>median</th>\n",
       "      <th>n_bootstraps</th>\n",
       "      <th>n_max</th>\n",
       "      <th>n_trials_per_training_set_size</th>\n",
       "      <th>p</th>\n",
       "      <th>part_fraction</th>\n",
       "      <th>std</th>\n",
       "      <th>upper_bound</th>\n",
       "      <th>validation_set_size</th>\n",
       "    </tr>\n",
       "  </thead>\n",
       "  <tbody>\n",
       "    <tr>\n",
       "      <th>0</th>\n",
       "      <td>0</td>\n",
       "      <td>14</td>\n",
       "      <td>hidden_eigs</td>\n",
       "      <td>0.99</td>\n",
       "      <td>0.01</td>\n",
       "      <td>ml-1m</td>\n",
       "      <td>0</td>\n",
       "      <td>15</td>\n",
       "      <td>0.525869</td>\n",
       "      <td>0.525868</td>\n",
       "      <td>6620</td>\n",
       "      <td>4096</td>\n",
       "      <td>15</td>\n",
       "      <td>0.99</td>\n",
       "      <td>0.01</td>\n",
       "      <td>0.006419</td>\n",
       "      <td>0.632151</td>\n",
       "      <td>1024</td>\n",
       "    </tr>\n",
       "    <tr>\n",
       "      <th>1</th>\n",
       "      <td>1</td>\n",
       "      <td>14</td>\n",
       "      <td>hidden_eigs</td>\n",
       "      <td>0.99</td>\n",
       "      <td>0.01</td>\n",
       "      <td>ml-1m</td>\n",
       "      <td>1</td>\n",
       "      <td>15</td>\n",
       "      <td>0.543614</td>\n",
       "      <td>0.543491</td>\n",
       "      <td>6620</td>\n",
       "      <td>4096</td>\n",
       "      <td>15</td>\n",
       "      <td>0.99</td>\n",
       "      <td>0.01</td>\n",
       "      <td>0.010291</td>\n",
       "      <td>0.707979</td>\n",
       "      <td>1024</td>\n",
       "    </tr>\n",
       "    <tr>\n",
       "      <th>2</th>\n",
       "      <td>2</td>\n",
       "      <td>14</td>\n",
       "      <td>hidden_eigs</td>\n",
       "      <td>0.99</td>\n",
       "      <td>0.01</td>\n",
       "      <td>ml-1m</td>\n",
       "      <td>2</td>\n",
       "      <td>15</td>\n",
       "      <td>0.514796</td>\n",
       "      <td>0.514540</td>\n",
       "      <td>6620</td>\n",
       "      <td>4096</td>\n",
       "      <td>15</td>\n",
       "      <td>0.99</td>\n",
       "      <td>0.01</td>\n",
       "      <td>0.006353</td>\n",
       "      <td>0.620089</td>\n",
       "      <td>1024</td>\n",
       "    </tr>\n",
       "    <tr>\n",
       "      <th>3</th>\n",
       "      <td>3</td>\n",
       "      <td>14</td>\n",
       "      <td>hidden_eigs</td>\n",
       "      <td>0.99</td>\n",
       "      <td>0.01</td>\n",
       "      <td>ml-1m</td>\n",
       "      <td>3</td>\n",
       "      <td>15</td>\n",
       "      <td>0.509460</td>\n",
       "      <td>0.509331</td>\n",
       "      <td>6620</td>\n",
       "      <td>4096</td>\n",
       "      <td>15</td>\n",
       "      <td>0.99</td>\n",
       "      <td>0.01</td>\n",
       "      <td>0.007042</td>\n",
       "      <td>0.625089</td>\n",
       "      <td>1024</td>\n",
       "    </tr>\n",
       "    <tr>\n",
       "      <th>4</th>\n",
       "      <td>4</td>\n",
       "      <td>14</td>\n",
       "      <td>hidden_eigs</td>\n",
       "      <td>0.99</td>\n",
       "      <td>0.01</td>\n",
       "      <td>ml-1m</td>\n",
       "      <td>4</td>\n",
       "      <td>15</td>\n",
       "      <td>0.579223</td>\n",
       "      <td>0.579317</td>\n",
       "      <td>6620</td>\n",
       "      <td>4096</td>\n",
       "      <td>15</td>\n",
       "      <td>0.99</td>\n",
       "      <td>0.01</td>\n",
       "      <td>0.008181</td>\n",
       "      <td>0.711932</td>\n",
       "      <td>1024</td>\n",
       "    </tr>\n",
       "  </tbody>\n",
       "</table>\n",
       "</div>"
      ],
      "text/plain": [
       "   Unnamed: 0  SVD_k     SVD_type  confidence_interval_prob  \\\n",
       "0           0     14  hidden_eigs                      0.99   \n",
       "1           1     14  hidden_eigs                      0.99   \n",
       "2           2     14  hidden_eigs                      0.99   \n",
       "3           3     14  hidden_eigs                      0.99   \n",
       "4           4     14  hidden_eigs                      0.99   \n",
       "\n",
       "   confidence_interval_width dataset_name  doc_ind  k_chebyshev      mean  \\\n",
       "0                       0.01        ml-1m        0           15  0.525869   \n",
       "1                       0.01        ml-1m        1           15  0.543614   \n",
       "2                       0.01        ml-1m        2           15  0.514796   \n",
       "3                       0.01        ml-1m        3           15  0.509460   \n",
       "4                       0.01        ml-1m        4           15  0.579223   \n",
       "\n",
       "     median  n_bootstraps  n_max  n_trials_per_training_set_size     p  \\\n",
       "0  0.525868          6620   4096                              15  0.99   \n",
       "1  0.543491          6620   4096                              15  0.99   \n",
       "2  0.514540          6620   4096                              15  0.99   \n",
       "3  0.509331          6620   4096                              15  0.99   \n",
       "4  0.579317          6620   4096                              15  0.99   \n",
       "\n",
       "   part_fraction       std  upper_bound  validation_set_size  \n",
       "0           0.01  0.006419     0.632151                 1024  \n",
       "1           0.01  0.010291     0.707979                 1024  \n",
       "2           0.01  0.006353     0.620089                 1024  \n",
       "3           0.01  0.007042     0.625089                 1024  \n",
       "4           0.01  0.008181     0.711932                 1024  "
      ]
     },
     "execution_count": 4,
     "metadata": {},
     "output_type": "execute_result"
    }
   ],
   "source": [
    "n_docs = DF.doc_ind.nunique()\n",
    "print(n_docs)\n",
    "cp = sns.color_palette('hls', n_docs)\n",
    "DF = DF[DF.n_trials_per_training_set_size==DF.n_trials_per_training_set_size.max()]\n",
    "\n",
    "DF.head()"
   ]
  },
  {
   "cell_type": "code",
   "execution_count": 5,
   "metadata": {},
   "outputs": [
    {
     "data": {
      "text/html": [
       "<div>\n",
       "<style scoped>\n",
       "    .dataframe tbody tr th:only-of-type {\n",
       "        vertical-align: middle;\n",
       "    }\n",
       "\n",
       "    .dataframe tbody tr th {\n",
       "        vertical-align: top;\n",
       "    }\n",
       "\n",
       "    .dataframe thead th {\n",
       "        text-align: right;\n",
       "    }\n",
       "</style>\n",
       "<table border=\"1\" class=\"dataframe\">\n",
       "  <thead>\n",
       "    <tr style=\"text-align: right;\">\n",
       "      <th></th>\n",
       "      <th>Unnamed: 0</th>\n",
       "      <th>SVD_k</th>\n",
       "      <th>SVD_type</th>\n",
       "      <th>confidence_interval_prob</th>\n",
       "      <th>confidence_interval_width</th>\n",
       "      <th>dataset_name</th>\n",
       "      <th>doc_ind</th>\n",
       "      <th>k_chebyshev</th>\n",
       "      <th>mean</th>\n",
       "      <th>median</th>\n",
       "      <th>n_bootstraps</th>\n",
       "      <th>n_max</th>\n",
       "      <th>n_trials_per_training_set_size</th>\n",
       "      <th>p</th>\n",
       "      <th>part_fraction</th>\n",
       "      <th>std</th>\n",
       "      <th>upper_bound</th>\n",
       "      <th>validation_set_size</th>\n",
       "    </tr>\n",
       "  </thead>\n",
       "  <tbody>\n",
       "    <tr>\n",
       "      <th>4</th>\n",
       "      <td>4</td>\n",
       "      <td>14</td>\n",
       "      <td>hidden_eigs</td>\n",
       "      <td>0.99</td>\n",
       "      <td>0.01</td>\n",
       "      <td>ml-1m</td>\n",
       "      <td>4</td>\n",
       "      <td>15</td>\n",
       "      <td>0.579223</td>\n",
       "      <td>0.579317</td>\n",
       "      <td>6620</td>\n",
       "      <td>4096</td>\n",
       "      <td>15</td>\n",
       "      <td>0.99</td>\n",
       "      <td>0.01</td>\n",
       "      <td>0.008181</td>\n",
       "      <td>0.711932</td>\n",
       "      <td>1024</td>\n",
       "    </tr>\n",
       "    <tr>\n",
       "      <th>1</th>\n",
       "      <td>1</td>\n",
       "      <td>14</td>\n",
       "      <td>hidden_eigs</td>\n",
       "      <td>0.99</td>\n",
       "      <td>0.01</td>\n",
       "      <td>ml-1m</td>\n",
       "      <td>1</td>\n",
       "      <td>15</td>\n",
       "      <td>0.543614</td>\n",
       "      <td>0.543491</td>\n",
       "      <td>6620</td>\n",
       "      <td>4096</td>\n",
       "      <td>15</td>\n",
       "      <td>0.99</td>\n",
       "      <td>0.01</td>\n",
       "      <td>0.010291</td>\n",
       "      <td>0.707979</td>\n",
       "      <td>1024</td>\n",
       "    </tr>\n",
       "    <tr>\n",
       "      <th>7</th>\n",
       "      <td>7</td>\n",
       "      <td>14</td>\n",
       "      <td>hidden_eigs</td>\n",
       "      <td>0.99</td>\n",
       "      <td>0.01</td>\n",
       "      <td>ml-1m</td>\n",
       "      <td>2</td>\n",
       "      <td>15</td>\n",
       "      <td>0.518059</td>\n",
       "      <td>0.518017</td>\n",
       "      <td>6620</td>\n",
       "      <td>4096</td>\n",
       "      <td>15</td>\n",
       "      <td>0.99</td>\n",
       "      <td>0.10</td>\n",
       "      <td>0.007171</td>\n",
       "      <td>0.635619</td>\n",
       "      <td>1024</td>\n",
       "    </tr>\n",
       "    <tr>\n",
       "      <th>0</th>\n",
       "      <td>0</td>\n",
       "      <td>14</td>\n",
       "      <td>hidden_eigs</td>\n",
       "      <td>0.99</td>\n",
       "      <td>0.01</td>\n",
       "      <td>ml-1m</td>\n",
       "      <td>0</td>\n",
       "      <td>15</td>\n",
       "      <td>0.525869</td>\n",
       "      <td>0.525868</td>\n",
       "      <td>6620</td>\n",
       "      <td>4096</td>\n",
       "      <td>15</td>\n",
       "      <td>0.99</td>\n",
       "      <td>0.01</td>\n",
       "      <td>0.006419</td>\n",
       "      <td>0.632151</td>\n",
       "      <td>1024</td>\n",
       "    </tr>\n",
       "    <tr>\n",
       "      <th>3</th>\n",
       "      <td>3</td>\n",
       "      <td>14</td>\n",
       "      <td>hidden_eigs</td>\n",
       "      <td>0.99</td>\n",
       "      <td>0.01</td>\n",
       "      <td>ml-1m</td>\n",
       "      <td>3</td>\n",
       "      <td>15</td>\n",
       "      <td>0.509460</td>\n",
       "      <td>0.509331</td>\n",
       "      <td>6620</td>\n",
       "      <td>4096</td>\n",
       "      <td>15</td>\n",
       "      <td>0.99</td>\n",
       "      <td>0.01</td>\n",
       "      <td>0.007042</td>\n",
       "      <td>0.625089</td>\n",
       "      <td>1024</td>\n",
       "    </tr>\n",
       "    <tr>\n",
       "      <th>2</th>\n",
       "      <td>2</td>\n",
       "      <td>14</td>\n",
       "      <td>hidden_eigs</td>\n",
       "      <td>0.99</td>\n",
       "      <td>0.01</td>\n",
       "      <td>ml-1m</td>\n",
       "      <td>2</td>\n",
       "      <td>15</td>\n",
       "      <td>0.514796</td>\n",
       "      <td>0.514540</td>\n",
       "      <td>6620</td>\n",
       "      <td>4096</td>\n",
       "      <td>15</td>\n",
       "      <td>0.99</td>\n",
       "      <td>0.01</td>\n",
       "      <td>0.006353</td>\n",
       "      <td>0.620089</td>\n",
       "      <td>1024</td>\n",
       "    </tr>\n",
       "    <tr>\n",
       "      <th>6</th>\n",
       "      <td>6</td>\n",
       "      <td>14</td>\n",
       "      <td>hidden_eigs</td>\n",
       "      <td>0.99</td>\n",
       "      <td>0.01</td>\n",
       "      <td>ml-1m</td>\n",
       "      <td>1</td>\n",
       "      <td>15</td>\n",
       "      <td>0.517621</td>\n",
       "      <td>0.517332</td>\n",
       "      <td>6620</td>\n",
       "      <td>4096</td>\n",
       "      <td>15</td>\n",
       "      <td>0.99</td>\n",
       "      <td>0.10</td>\n",
       "      <td>0.006005</td>\n",
       "      <td>0.617694</td>\n",
       "      <td>1024</td>\n",
       "    </tr>\n",
       "    <tr>\n",
       "      <th>8</th>\n",
       "      <td>8</td>\n",
       "      <td>14</td>\n",
       "      <td>hidden_eigs</td>\n",
       "      <td>0.99</td>\n",
       "      <td>0.01</td>\n",
       "      <td>ml-1m</td>\n",
       "      <td>3</td>\n",
       "      <td>15</td>\n",
       "      <td>0.506788</td>\n",
       "      <td>0.506872</td>\n",
       "      <td>6620</td>\n",
       "      <td>4096</td>\n",
       "      <td>15</td>\n",
       "      <td>0.99</td>\n",
       "      <td>0.10</td>\n",
       "      <td>0.006210</td>\n",
       "      <td>0.609934</td>\n",
       "      <td>1024</td>\n",
       "    </tr>\n",
       "    <tr>\n",
       "      <th>5</th>\n",
       "      <td>5</td>\n",
       "      <td>14</td>\n",
       "      <td>hidden_eigs</td>\n",
       "      <td>0.99</td>\n",
       "      <td>0.01</td>\n",
       "      <td>ml-1m</td>\n",
       "      <td>0</td>\n",
       "      <td>15</td>\n",
       "      <td>0.506337</td>\n",
       "      <td>0.506220</td>\n",
       "      <td>6620</td>\n",
       "      <td>4096</td>\n",
       "      <td>15</td>\n",
       "      <td>0.99</td>\n",
       "      <td>0.10</td>\n",
       "      <td>0.005932</td>\n",
       "      <td>0.605314</td>\n",
       "      <td>1024</td>\n",
       "    </tr>\n",
       "    <tr>\n",
       "      <th>9</th>\n",
       "      <td>9</td>\n",
       "      <td>14</td>\n",
       "      <td>hidden_eigs</td>\n",
       "      <td>0.99</td>\n",
       "      <td>0.01</td>\n",
       "      <td>ml-1m</td>\n",
       "      <td>4</td>\n",
       "      <td>15</td>\n",
       "      <td>0.501429</td>\n",
       "      <td>0.501498</td>\n",
       "      <td>6620</td>\n",
       "      <td>4096</td>\n",
       "      <td>15</td>\n",
       "      <td>0.99</td>\n",
       "      <td>0.10</td>\n",
       "      <td>0.004057</td>\n",
       "      <td>0.572281</td>\n",
       "      <td>1024</td>\n",
       "    </tr>\n",
       "  </tbody>\n",
       "</table>\n",
       "</div>"
      ],
      "text/plain": [
       "   Unnamed: 0  SVD_k     SVD_type  confidence_interval_prob  \\\n",
       "4           4     14  hidden_eigs                      0.99   \n",
       "1           1     14  hidden_eigs                      0.99   \n",
       "7           7     14  hidden_eigs                      0.99   \n",
       "0           0     14  hidden_eigs                      0.99   \n",
       "3           3     14  hidden_eigs                      0.99   \n",
       "2           2     14  hidden_eigs                      0.99   \n",
       "6           6     14  hidden_eigs                      0.99   \n",
       "8           8     14  hidden_eigs                      0.99   \n",
       "5           5     14  hidden_eigs                      0.99   \n",
       "9           9     14  hidden_eigs                      0.99   \n",
       "\n",
       "   confidence_interval_width dataset_name  doc_ind  k_chebyshev      mean  \\\n",
       "4                       0.01        ml-1m        4           15  0.579223   \n",
       "1                       0.01        ml-1m        1           15  0.543614   \n",
       "7                       0.01        ml-1m        2           15  0.518059   \n",
       "0                       0.01        ml-1m        0           15  0.525869   \n",
       "3                       0.01        ml-1m        3           15  0.509460   \n",
       "2                       0.01        ml-1m        2           15  0.514796   \n",
       "6                       0.01        ml-1m        1           15  0.517621   \n",
       "8                       0.01        ml-1m        3           15  0.506788   \n",
       "5                       0.01        ml-1m        0           15  0.506337   \n",
       "9                       0.01        ml-1m        4           15  0.501429   \n",
       "\n",
       "     median  n_bootstraps  n_max  n_trials_per_training_set_size     p  \\\n",
       "4  0.579317          6620   4096                              15  0.99   \n",
       "1  0.543491          6620   4096                              15  0.99   \n",
       "7  0.518017          6620   4096                              15  0.99   \n",
       "0  0.525868          6620   4096                              15  0.99   \n",
       "3  0.509331          6620   4096                              15  0.99   \n",
       "2  0.514540          6620   4096                              15  0.99   \n",
       "6  0.517332          6620   4096                              15  0.99   \n",
       "8  0.506872          6620   4096                              15  0.99   \n",
       "5  0.506220          6620   4096                              15  0.99   \n",
       "9  0.501498          6620   4096                              15  0.99   \n",
       "\n",
       "   part_fraction       std  upper_bound  validation_set_size  \n",
       "4           0.01  0.008181     0.711932                 1024  \n",
       "1           0.01  0.010291     0.707979                 1024  \n",
       "7           0.10  0.007171     0.635619                 1024  \n",
       "0           0.01  0.006419     0.632151                 1024  \n",
       "3           0.01  0.007042     0.625089                 1024  \n",
       "2           0.01  0.006353     0.620089                 1024  \n",
       "6           0.10  0.006005     0.617694                 1024  \n",
       "8           0.10  0.006210     0.609934                 1024  \n",
       "5           0.10  0.005932     0.605314                 1024  \n",
       "9           0.10  0.004057     0.572281                 1024  "
      ]
     },
     "execution_count": 5,
     "metadata": {},
     "output_type": "execute_result"
    }
   ],
   "source": [
    "DF[DF.n_max==DF.n_max.max()].sort_values('upper_bound', ascending=False)"
   ]
  },
  {
   "cell_type": "code",
   "execution_count": 6,
   "metadata": {},
   "outputs": [
    {
     "data": {
      "image/png": "[encoded data removed]",
      "text/plain": [
       "<Figure size 432x288 with 1 Axes>"
      ]
     },
     "metadata": {},
     "output_type": "display_data"
    }
   ],
   "source": [
    "handle = sns.scatterplot(\n",
    "    data=DF[DF.part_fraction==0.01],\n",
    "    x='n_max',\n",
    "    y='upper_bound',\n",
    "    hue='doc_ind',\n",
    "    legend='full',\n",
    "    palette=cp,\n",
    "   # ci='sd',\n",
    "   # err_style='band'\n",
    ")"
   ]
  },
  {
   "cell_type": "markdown",
   "metadata": {},
   "source": [
    "# Development of asymptotic analysis"
   ]
  },
  {
   "cell_type": "markdown",
   "metadata": {},
   "source": [
    "### First, focus on a specific dataset and problem setting"
   ]
  },
  {
   "cell_type": "code",
   "execution_count": 7,
   "metadata": {},
   "outputs": [
    {
     "name": "stderr",
     "output_type": "stream",
     "text": [
      "WARNING:root:All is deprecated, use AllSVDAsymptotics\n"
     ]
    }
   ],
   "source": [
    "# CCCType = 'ExpCCCSVD' # Expectation\n",
    "CCCType = 'CCCSVD' # KNN\n",
    "CCCs = All(CCCType).requires()"
   ]
  },
  {
   "cell_type": "code",
   "execution_count": 8,
   "metadata": {},
   "outputs": [
    {
     "data": {
      "text/plain": [
       "2700"
      ]
     },
     "execution_count": 8,
     "metadata": {},
     "output_type": "execute_result"
    }
   ],
   "source": [
    "len(CCCs)"
   ]
  },
  {
   "cell_type": "markdown",
   "metadata": {},
   "source": [
    "###### Load all results"
   ]
  },
  {
   "cell_type": "code",
   "execution_count": 9,
   "metadata": {},
   "outputs": [
    {
     "ename": "AttributeError",
     "evalue": "'DataFrame' object has no attribute 'doc_ind'",
     "output_type": "error",
     "traceback": [
      "\u001b[0;31m---------------------------------------------------------------------------\u001b[0m",
      "\u001b[0;31mAttributeError\u001b[0m                            Traceback (most recent call last)",
      "\u001b[0;32m<ipython-input-9-faad8d19cb97>\u001b[0m in \u001b[0;36m<module>\u001b[0;34m()\u001b[0m\n\u001b[1;32m      1\u001b[0m \u001b[0mDF\u001b[0m \u001b[0;34m=\u001b[0m \u001b[0mload_completed_CCCs_into_dataframe\u001b[0m\u001b[0;34m(\u001b[0m\u001b[0mCCCs\u001b[0m\u001b[0;34m)\u001b[0m\u001b[0;34m\u001b[0m\u001b[0m\n\u001b[0;32m----> 2\u001b[0;31m \u001b[0mn_docs\u001b[0m \u001b[0;34m=\u001b[0m \u001b[0mDF\u001b[0m\u001b[0;34m.\u001b[0m\u001b[0mdoc_ind\u001b[0m\u001b[0;34m.\u001b[0m\u001b[0mnunique\u001b[0m\u001b[0;34m(\u001b[0m\u001b[0;34m)\u001b[0m\u001b[0;34m\u001b[0m\u001b[0m\n\u001b[0m\u001b[1;32m      3\u001b[0m \u001b[0mprint\u001b[0m\u001b[0;34m(\u001b[0m\u001b[0mn_docs\u001b[0m\u001b[0;34m)\u001b[0m\u001b[0;34m\u001b[0m\u001b[0m\n\u001b[1;32m      4\u001b[0m \u001b[0mcp\u001b[0m \u001b[0;34m=\u001b[0m \u001b[0msns\u001b[0m\u001b[0;34m.\u001b[0m\u001b[0mcolor_palette\u001b[0m\u001b[0;34m(\u001b[0m\u001b[0;34m'hls'\u001b[0m\u001b[0;34m,\u001b[0m \u001b[0mn_docs\u001b[0m\u001b[0;34m)\u001b[0m\u001b[0;34m\u001b[0m\u001b[0m\n",
      "\u001b[0;32m/opt/conda/lib/python3.6/site-packages/pandas/core/generic.py\u001b[0m in \u001b[0;36m__getattr__\u001b[0;34m(self, name)\u001b[0m\n\u001b[1;32m   4374\u001b[0m             \u001b[0;32mif\u001b[0m \u001b[0mself\u001b[0m\u001b[0;34m.\u001b[0m\u001b[0m_info_axis\u001b[0m\u001b[0;34m.\u001b[0m\u001b[0m_can_hold_identifiers_and_holds_name\u001b[0m\u001b[0;34m(\u001b[0m\u001b[0mname\u001b[0m\u001b[0;34m)\u001b[0m\u001b[0;34m:\u001b[0m\u001b[0;34m\u001b[0m\u001b[0m\n\u001b[1;32m   4375\u001b[0m                 \u001b[0;32mreturn\u001b[0m \u001b[0mself\u001b[0m\u001b[0;34m[\u001b[0m\u001b[0mname\u001b[0m\u001b[0;34m]\u001b[0m\u001b[0;34m\u001b[0m\u001b[0m\n\u001b[0;32m-> 4376\u001b[0;31m             \u001b[0;32mreturn\u001b[0m \u001b[0mobject\u001b[0m\u001b[0;34m.\u001b[0m\u001b[0m__getattribute__\u001b[0m\u001b[0;34m(\u001b[0m\u001b[0mself\u001b[0m\u001b[0;34m,\u001b[0m \u001b[0mname\u001b[0m\u001b[0;34m)\u001b[0m\u001b[0;34m\u001b[0m\u001b[0m\n\u001b[0m\u001b[1;32m   4377\u001b[0m \u001b[0;34m\u001b[0m\u001b[0m\n\u001b[1;32m   4378\u001b[0m     \u001b[0;32mdef\u001b[0m \u001b[0m__setattr__\u001b[0m\u001b[0;34m(\u001b[0m\u001b[0mself\u001b[0m\u001b[0;34m,\u001b[0m \u001b[0mname\u001b[0m\u001b[0;34m,\u001b[0m \u001b[0mvalue\u001b[0m\u001b[0;34m)\u001b[0m\u001b[0;34m:\u001b[0m\u001b[0;34m\u001b[0m\u001b[0m\n",
      "\u001b[0;31mAttributeError\u001b[0m: 'DataFrame' object has no attribute 'doc_ind'"
     ]
    }
   ],
   "source": [
    "DF = load_completed_CCCs_into_dataframe(CCCs)\n",
    "n_docs = DF.doc_ind.nunique()\n",
    "print(n_docs)\n",
    "cp = sns.color_palette('hls', n_docs)"
   ]
  },
  {
   "cell_type": "markdown",
   "metadata": {},
   "source": [
    "##### Pick one curve to model"
   ]
  },
  {
   "cell_type": "code",
   "execution_count": null,
   "metadata": {},
   "outputs": [],
   "source": [
    "subview = {\n",
    "    'dataset_name': 'ml-1m',\n",
    "    'doc_ind': 0,\n",
    "    'part_fraction': 0.1\n",
    "}\n",
    "query = ' & '.join(['{k}=={v}'.format(k=k, v=v if type(v) is not str else '\"'+v+'\"') for k,v in subview.items()])\n",
    "print(query)\n",
    "DF = DF.query(query)\n",
    "del DF['n_max']\n",
    "del DF['n_trials_per_training_set_size']\n",
    "DF.drop_duplicates(inplace=True)\n",
    "DF.dropna(inplace=True)\n",
    "print(DF.columns)\n",
    "print(DF.shape)"
   ]
  },
  {
   "cell_type": "code",
   "execution_count": null,
   "metadata": {},
   "outputs": [],
   "source": [
    "for col in DF.columns:\n",
    "    print(col)\n",
    "    print(DF[col].unique()[0:11])"
   ]
  },
  {
   "cell_type": "code",
   "execution_count": null,
   "metadata": {},
   "outputs": [],
   "source": [
    "DF[DF.training_set_size==4096]"
   ]
  },
  {
   "cell_type": "code",
   "execution_count": null,
   "metadata": {},
   "outputs": [],
   "source": [
    "DF[DF.training_set_size==8192]"
   ]
  },
  {
   "cell_type": "code",
   "execution_count": null,
   "metadata": {},
   "outputs": [],
   "source": [
    "sns.scatterplot(x='training_set_size', y='classifier_accuracy', data=DF)"
   ]
  },
  {
   "cell_type": "markdown",
   "metadata": {},
   "source": [
    "### Learning Torch"
   ]
  },
  {
   "cell_type": "code",
   "execution_count": null,
   "metadata": {},
   "outputs": [],
   "source": [
    "x = torch.rand(2,3)\n",
    "print(x)"
   ]
  },
  {
   "cell_type": "code",
   "execution_count": null,
   "metadata": {},
   "outputs": [],
   "source": [
    "L = [range(i*3, i*3+3) for i in range(4)]\n",
    "x = torch.tensor(L)\n",
    "y = np.random.randn(4)\n",
    "y_tensor = torch.from_numpy(y)\n",
    "print(y_tensor.size())\n",
    "print(y_tensor.numpy())"
   ]
  },
  {
   "cell_type": "code",
   "execution_count": null,
   "metadata": {},
   "outputs": [],
   "source": [
    "print(torch.cuda.is_available())"
   ]
  },
  {
   "cell_type": "markdown",
   "metadata": {},
   "source": [
    "### Applying torch to fit curve"
   ]
  },
  {
   "cell_type": "code",
   "execution_count": null,
   "metadata": {},
   "outputs": [],
   "source": [
    "x = DF.training_set_size.values.astype(np.double)\n",
    "y = DF.classifier_accuracy.values\n",
    "x = torch.from_numpy(x)\n",
    "y = torch.from_numpy(y)\n",
    "x.requires_grad=False\n",
    "y.requires_grad=False"
   ]
  },
  {
   "cell_type": "code",
   "execution_count": null,
   "metadata": {},
   "outputs": [],
   "source": [
    "from torch.autograd import Variable\n",
    "\n",
    "class KNNConvergenceCurve(torch.nn.Module):\n",
    "    def __init__(self, x, y, d, print_to_console=False):\n",
    "        super(KNNConvergenceCurve, self).__init__()\n",
    "        self.m = torch.ones(1, requires_grad=True, dtype=torch.double)\n",
    "        self.c = torch.ones(1, requires_grad=True, dtype=torch.double)\n",
    "        self.x = x\n",
    "        self.y = y\n",
    "        self.d = d\n",
    "        self.print_to_console = print_to_console\n",
    "    \n",
    "    def predict(self, x):\n",
    "        return self.m + self.c * 1/(x**(2/(self.d+2)))\n",
    "    \n",
    "    def loss(self, x):\n",
    "        return (self.y - self.predict(x)).pow(2).sum()\n",
    "    \n",
    "    def fit(self, learning_rate=0.01, n_iter=500):\n",
    "        for t in range(n_iter):\n",
    "            loss = self.loss(self.x)\n",
    "            loss.backward()\n",
    "            with torch.no_grad():\n",
    "                self.m -= learning_rate * self.m.grad\n",
    "                self.c -= learning_rate * self.c.grad\n",
    "                self.m.grad.zero_()\n",
    "                self.c.grad.zero_()\n",
    "                \n",
    "    def fit_with_optimizer(self, \n",
    "                           learning_rate=0.01,\n",
    "                           n_iter=500,\n",
    "                           opt=torch.optim.Adam,\n",
    "                           loss_fn=torch.nn.MSELoss(reduction='sum')):\n",
    "        opt = opt([self.m, self.c], lr=learning_rate)\n",
    "        for t in range(n_iter):\n",
    "            y_pred = self.predict(x)\n",
    "            loss = loss_fn(y_pred, self.y)\n",
    "            if self.print_to_console and t%25==0:\n",
    "                print(t, loss.item())\n",
    "            opt.zero_grad()\n",
    "            loss.backward()\n",
    "            opt.step()\n",
    "        \n",
    "        \n",
    "    \n",
    "mod = KNNConvergenceCurve(x,y,6)\n",
    "print(mod)\n",
    "print(list(mod.parameters()))"
   ]
  },
  {
   "cell_type": "code",
   "execution_count": null,
   "metadata": {},
   "outputs": [],
   "source": [
    "def plot_fit(mod):\n",
    "    x = mod.x.numpy()\n",
    "    y = mod.y.numpy()\n",
    "    sns.scatterplot(x=x, y=y)\n",
    "    N = np.logspace(np.log2(np.min(x)), np.log2(np.max(x)*1.05), base=2)\n",
    "    plt.plot(N, mod.predict(torch.from_numpy(N)).detach().numpy(), '-r')\n",
    "    plt.plot(N, np.ones_like(N)*mod.m.item(), '--r')\n",
    "plot_fit(mod)"
   ]
  },
  {
   "cell_type": "code",
   "execution_count": null,
   "metadata": {},
   "outputs": [],
   "source": [
    "mod.fit_with_optimizer()"
   ]
  },
  {
   "cell_type": "code",
   "execution_count": null,
   "metadata": {},
   "outputs": [],
   "source": [
    "print(mod.m, mod.c)\n",
    "print(mod.m.item())"
   ]
  },
  {
   "cell_type": "code",
   "execution_count": null,
   "metadata": {},
   "outputs": [],
   "source": [
    "plot_fit(mod)"
   ]
  },
  {
   "cell_type": "markdown",
   "metadata": {},
   "source": [
    "### Use bootstrap to generate confidence interval around asymptotic error"
   ]
  },
  {
   "cell_type": "code",
   "execution_count": null,
   "metadata": {},
   "outputs": [],
   "source": [
    "from sklearn.utils import resample"
   ]
  },
  {
   "cell_type": "code",
   "execution_count": null,
   "metadata": {},
   "outputs": [],
   "source": [
    "def asymptotic_privacy(X, y):\n",
    "    mod = KNNConvergenceCurve(torch.from_numpy(X), torch.from_numpy(y), 6)\n",
    "    mod.fit_with_optimizer(n_iter=1500)\n",
    "    return mod.m.item()\n",
    "\n",
    "def bootstrap_ci(n_samples, X, y, f):\n",
    "    res = np.empty((n_samples,))\n",
    "    for tri in range(n_samples):\n",
    "        Xi, yi = resample(X.numpy(), y.numpy(), random_state=tri)\n",
    "        res[tri] = f(Xi, yi)\n",
    "    return res\n",
    "\n",
    "bootstrap_asymp = bootstrap_ci(10000, x, y, asymptotic_privacy)"
   ]
  },
  {
   "cell_type": "code",
   "execution_count": null,
   "metadata": {},
   "outputs": [],
   "source": [
    "plt.hist(bootstrap_asymp)"
   ]
  },
  {
   "cell_type": "markdown",
   "metadata": {},
   "source": [
    "### Hoeffdings Inequality\n",
    "\n",
    "Suppose $a_i \\leq B_i \\leq b_i$. Let $c_i=b_i-a_i$ and $C>c_i $ for all $ i$.\n",
    "\n",
    "$$P[|nE[B]-\\sum_{i=1}^n B_i | > t] < 2\\exp{\\frac{-2t^2}{nC^2}}$$"
   ]
  },
  {
   "cell_type": "code",
   "execution_count": null,
   "metadata": {},
   "outputs": [],
   "source": [
    "def hoeffding_2sided(n, y, C=0.5):\n",
    "    return 2*np.exp((-2*y**2*n)/(C**2))\n",
    "def hoeffding_n_given_t_and_p(t=0.005, p=0.999, C=0.5):\n",
    "    return C**2*np.log(1-p)/(-2*t**2)\n",
    "\n",
    "N = np.logspace(2,5)\n",
    "plt.semilogy(N, hoeffding_2sided(N, 0.005))"
   ]
  },
  {
   "cell_type": "code",
   "execution_count": null,
   "metadata": {},
   "outputs": [],
   "source": [
    "hoeffding_n_given_t_and_p(t=0.01, p=0.99)"
   ]
  }
 ],
 "metadata": {
  "kernelspec": {
   "display_name": "Python 3",
   "language": "python",
   "name": "python3"
  },
  "language_info": {
   "codemirror_mode": {
    "name": "ipython",
    "version": 3
   },
   "file_extension": ".py",
   "mimetype": "text/x-python",
   "name": "python",
   "nbconvert_exporter": "python",
   "pygments_lexer": "ipython3",
   "version": "3.6.5"
  }
 },
 "nbformat": 4,
 "nbformat_minor": 1
}
