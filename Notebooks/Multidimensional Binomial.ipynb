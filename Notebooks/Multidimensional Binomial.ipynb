{
 "cells": [
  {
   "cell_type": "code",
   "execution_count": 29,
   "metadata": {},
   "outputs": [],
   "source": [
    "from scipy.stats import binom\n",
    "from scipy.special import binom as nchoosek\n",
    "import numpy as np\n",
    "from numpy import abs\n",
    "import itertools"
   ]
  },
  {
   "cell_type": "code",
   "execution_count": 26,
   "metadata": {},
   "outputs": [
    {
     "name": "stdout",
     "output_type": "stream",
     "text": [
      "k=0 #combos=1.0\n",
      "\tprob1=0.729 prob2=0.0009999999999999994 delta=0.728\n",
      "k=1 #combos=3.0\n",
      "\tprob1=0.243 prob2=0.026999999999999982 delta=0.21600000000000003\n",
      "k=2 #combos=3.0\n",
      "\tprob1=0.027000000000000007 prob2=0.2429999999999999 delta=0.21599999999999991\n",
      "k=3 #combos=1.0\n",
      "\tprob1=0.0010000000000000002 prob2=0.7290000000000001 delta=0.7280000000000001\n"
     ]
    },
    {
     "data": {
      "text/plain": [
       "0.94399999999999995"
      ]
     },
     "execution_count": 26,
     "metadata": {},
     "output_type": "execute_result"
    }
   ],
   "source": [
    "def binom_pmf(k, n, p):\n",
    "    return binom(n, p).pmf(k)\n",
    "\n",
    "p1=0.1\n",
    "p2=0.9\n",
    "d=3\n",
    "\n",
    "\n",
    "\n",
    "def sd(p1, p2, d):\n",
    "    rv = 0\n",
    "    N = 2**d\n",
    "    for k in range(0, d+1):\n",
    "        n_combos = nchoosek(d, k)\n",
    "        print('k={k} #combos={nc}'.format(k=k, nc=n_combos))\n",
    "\n",
    "        prob1 = binom_pmf(k, d, p1)\n",
    "        prob2 = binom_pmf(k, d, p2)\n",
    "        delta = abs(prob1 - prob2)\n",
    "        print('\\tprob1={p1} prob2={p2} delta={d}'.format( p1=prob1, p2=prob2, d= delta))\n",
    "        rv += delta\n",
    "    return 0.5 * rv\n",
    "\n",
    "sd(p1, p2, d)"
   ]
  },
  {
   "cell_type": "code",
   "execution_count": 39,
   "metadata": {},
   "outputs": [
    {
     "name": "stdout",
     "output_type": "stream",
     "text": [
      "(0, 0, 0) 0\n",
      "\tprob1=0.729 prob2=0.001 delta=0.728\n",
      "(0, 0, 1) 1\n",
      "\tprob1=0.243 prob2=0.027 delta=0.216\n",
      "(0, 1, 0) 1\n",
      "\tprob1=0.243 prob2=0.027 delta=0.216\n",
      "(0, 1, 1) 2\n",
      "\tprob1=0.027 prob2=0.243 delta=0.216\n",
      "(1, 0, 0) 1\n",
      "\tprob1=0.243 prob2=0.027 delta=0.216\n",
      "(1, 0, 1) 2\n",
      "\tprob1=0.027 prob2=0.243 delta=0.216\n",
      "(1, 1, 0) 2\n",
      "\tprob1=0.027 prob2=0.243 delta=0.216\n",
      "(1, 1, 1) 3\n",
      "\tprob1=0.001 prob2=0.729 delta=0.728\n"
     ]
    },
    {
     "data": {
      "text/plain": [
       "0.17199999999999999"
      ]
     },
     "execution_count": 39,
     "metadata": {},
     "output_type": "execute_result"
    }
   ],
   "source": [
    "def sd2(p1, p2, d):\n",
    "    combos = itertools.product(*[range(2) for _ in range(d)])\n",
    "    rv = 0\n",
    "    nk=0\n",
    "    for combo in combos:\n",
    "        k = np.sum(combo)\n",
    "        nk+=1\n",
    "        print(combo, k)\n",
    "        prob1 = binom_pmf(k, d, p1)\n",
    "        prob2 = binom_pmf(k, d, p2)\n",
    "        delta = abs(prob1 - prob2)\n",
    "        print('\\tprob1={p1:.3f} prob2={p2:.3f} delta={d:.3f}'.format( p1=prob1, p2=prob2, d= delta))\n",
    "        rv += delta\n",
    "    return 0.5 * rv / nk\n",
    "sd2(p1, p2, d)"
   ]
  },
  {
   "cell_type": "code",
   "execution_count": 40,
   "metadata": {},
   "outputs": [
    {
     "data": {
      "text/plain": [
       "array([[0, 0, 1],\n",
       "       [0, 0, 0],\n",
       "       [1, 0, 0],\n",
       "       [0, 0, 0],\n",
       "       [0, 1, 0],\n",
       "       [0, 0, 0],\n",
       "       [0, 0, 0],\n",
       "       [0, 0, 0],\n",
       "       [0, 0, 0],\n",
       "       [0, 0, 0]])"
      ]
     },
     "execution_count": 40,
     "metadata": {},
     "output_type": "execute_result"
    }
   ],
   "source": [
    "binom.rvs(n=1, p=p1, size=(10,3))"
   ]
  },
  {
   "cell_type": "code",
   "execution_count": 41,
   "metadata": {},
   "outputs": [
    {
     "data": {
      "text/plain": [
       "6"
      ]
     },
     "execution_count": 41,
     "metadata": {},
     "output_type": "execute_result"
    }
   ],
   "source": [
    "3+3"
   ]
  }
 ],
 "metadata": {
  "kernelspec": {
   "display_name": "Python 3",
   "language": "python",
   "name": "python3"
  },
  "language_info": {
   "codemirror_mode": {
    "name": "ipython",
    "version": 3
   },
   "file_extension": ".py",
   "mimetype": "text/x-python",
   "name": "python",
   "nbconvert_exporter": "python",
   "pygments_lexer": "ipython3",
   "version": "3.6.5"
  }
 },
 "nbformat": 4,
 "nbformat_minor": 2
}
