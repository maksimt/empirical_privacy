{
 "cells": [
  {
   "cell_type": "markdown",
   "metadata": {},
   "source": [
    "### Experiment Design"
   ]
  },
  {
   "cell_type": "markdown",
   "metadata": {},
   "source": [
    "#### Required Input\n",
    "1. An implementation of a $(\\epsilon_\\text{true}, \\delta=0)-$DP laplace mechanism $M$ whose true $\\epsilon_\\text{true}$ is unknown in practical applications. However, for the purposes of this experiment, $\\epsilon_\\text{true}$ will be an input.\n",
    "2. The claimed value of epsilon, $\\epsilon_\\text{claimed}$.\n",
    "\n",
    "#### Optional Input\n",
    "1. Bootstrap Confidence Probability, $p$ $99\\%$ by default.\n",
    "2. Statistical distance estimation algorithm inputs, Section 7 of the draft.\n",
    "\n",
    "#### Output\n",
    "1. One of three results (each with probability $p$): the claimed epsilon is correct ($\\epsilon_\\text{true}\\approx\\epsilon_\\text{correct}$), the claimed epsilon is too high ($\\epsilon_\\text{claimed} > \\epsilon_\\text{true}$), the claimed epsilon is too low ($\\epsilon_\\text{claimed} < \\epsilon_\\text{true}$)."
   ]
  },
  {
   "cell_type": "markdown",
   "metadata": {},
   "source": [
    "####  Method\n",
    "\n",
    "The statistical distance estimation algorithm take a sample generation algorithm (i.e. a way of sampling from the 'positive' and 'negative' distributions) in as input. Recall that a sample is a feature vector $X\\in R^d$ and a label $y\\in\\{0,1\\}$.\n",
    "\n",
    "1. Sample Generation Algorithm for the Laplace mechanism DP verification experiment:\n",
    "  1. Assume that negative samples start with pre-noise query output $X_0=(0,0,0)$, $y=0$.\n",
    "  2. Assume that positive samples start with pre-noise query output $X_1=(1,0,0)$, $y=1$.\n",
    "  3. Assume that the query sensitivity is $\\Delta f=1$.\n",
    "  3. Repeat for each sample:\n",
    "    1. Draw $y \\sim B\\left(n=1, p=0.5\\right)$, where $B$ is the binomial distribution.\n",
    "    2. If $y=0$, **return** $X=X_0 + Lap\\left(0, \\frac{\\Delta f}{\\epsilon_\\text{true}}\\right)$ and $y=0$, otherwise continue.\n",
    "    1. Draw $c \\sim B\\left(n=1, p=\\frac{1}{\\epsilon_\\text{claimed}}\\right)$.\n",
    "    2. If $c=1$, **return** $X=X_1 + Lap\\left(0, \\frac{\\Delta f}{\\epsilon_\\text{true}}\\right)$ and $y=1$, otherwise continue.\n",
    "    3. **return** $X=\\bot$ and $y=1$.\n",
    "  \n",
    "2."
   ]
  },
  {
   "cell_type": "code",
   "execution_count": null,
   "metadata": {},
   "outputs": [],
   "source": []
  },
  {
   "cell_type": "code",
   "execution_count": 2,
   "metadata": {},
   "outputs": [],
   "source": [
    "import itertools\n",
    "import os\n",
    "from collections import namedtuple\n",
    "from math import exp\n",
    "\n",
    "import luigi\n",
    "import dill\n",
    "import numpy as np\n",
    "from scipy.stats import binom\n",
    "\n",
    "from experiment_framework.helpers import (AllAsymptotics,\n",
    "load_completed_AAs_into_dataframe, load_completed_CCCs_into_dataframe,\n",
    "AllDeltas)\n",
    "from empirical_privacy import laplace_mechanism, config\n",
    "\n",
    "from notebook_context import *\n",
    "%matplotlib inline"
   ]
  },
  {
   "cell_type": "code",
   "execution_count": 16,
   "metadata": {},
   "outputs": [],
   "source": [
    "epsilons = [\n",
    "#     0.01,\n",
    "    0.1,\n",
    "#      1.,\n",
    "]\n",
    "dses = [{\n",
    "        'database_0' : (0, 0, 0),\n",
    "        'database_1' : (1, 0, 0),\n",
    "        'sensitivity': 1.,\n",
    "        'epsilon'    : eps,\n",
    "        'delta'      : 0.\n",
    "} for eps in epsilons]\n",
    "\n",
    "asys = {\n",
    "    'gen_sample_kwargs'  : {'generate_in_batch': True,\n",
    "                            'x_concatenator': 'numpy.vstack',\n",
    "                           },\n",
    "    'fitter'             : 'knn',\n",
    "    # we use random tie-breaking since the samples are discrete\n",
    "    'fitter_kwargs'      : {'neighbor_method': 'gyorfi'},\n",
    "    'n_docs'                : 10,\n",
    "    'n_trials_per_training_set_size': 1000,\n",
    "    'n_max'              : 2**10,\n",
    "    'validation_set_size': 2**10,\n",
    "    'p'                  : 0.99,  # for bootstrap\n",
    "    'n_bootstraps'       : 10000,  # for bootstrap\n",
    "    'in_memory'          : True\n",
    "}\n",
    "\n",
    "d = 3"
   ]
  },
  {
   "cell_type": "code",
   "execution_count": 17,
   "metadata": {},
   "outputs": [],
   "source": [
    "CCCs = dict()\n",
    "Alls = dict()\n",
    "AAs = dict()\n",
    "CLBDs = dict()\n",
    "\n",
    "\n",
    "for (i, ds) in enumerate(dses):\n",
    "    eps = epsilons[i]\n",
    "    CLAIMED_EPS = eps\n",
    "    All = AllDeltas(\n",
    "            gen_sample_path='empirical_privacy.laplace_mechanism.GenSampleLaplaceMechanism',\n",
    "            dataset_settings=ds,\n",
    "            asymptotic_settings=asys,\n",
    "            claimed_epsilon=CLAIMED_EPS\n",
    "    )\n",
    "    Alls[eps] = All\n",
    "    CLBDs[eps] = All.requires()\n",
    "    AAs[eps] = [CLBD.requires()['asymptotic_accuracy'] for CLBD in CLBDs[eps]]\n",
    "    CCCs[eps] = [AA.requires()['CCC'] for AA in AAs[eps]]\n",
    "    "
   ]
  },
  {
   "cell_type": "code",
   "execution_count": 18,
   "metadata": {},
   "outputs": [],
   "source": [
    "#uncomment this to recompute the top level tasks\n",
    "\n",
    "for AA in AAs[eps]:\n",
    "    AA.delete_outputs()\n",
    "for clbd in CLBDs[eps]:\n",
    "    clbd.delete_outputs()"
   ]
  },
  {
   "cell_type": "code",
   "execution_count": 19,
   "metadata": {},
   "outputs": [
    {
     "data": {
      "text/plain": [
       "True"
      ]
     },
     "execution_count": 19,
     "metadata": {},
     "output_type": "execute_result"
    }
   ],
   "source": [
    "luigi.build([All for All in Alls.values()], workers=3, log_level='ERROR',\n",
    "#             local_scheduler=True\n",
    "           )  # do bootstrap using 2 workers since each bootstrap is parallelized"
   ]
  },
  {
   "cell_type": "markdown",
   "metadata": {},
   "source": [
    "### Plot outcomes for all trials"
   ]
  },
  {
   "cell_type": "code",
   "execution_count": 20,
   "metadata": {},
   "outputs": [],
   "source": [
    "eps = 0.1\n",
    "CLAIMED_EPS = eps\n",
    "\n",
    "AAs = Alls[eps].requires()\n",
    "DF = load_completed_AAs_into_dataframe(AAs)"
   ]
  },
  {
   "cell_type": "code",
   "execution_count": 21,
   "metadata": {},
   "outputs": [
    {
     "data": {
      "image/png": "[encoded data removed]",
      "text/plain": [
       "<Figure size 864x720 with 1 Axes>"
      ]
     },
     "metadata": {},
     "output_type": "display_data"
    }
   ],
   "source": [
    "plt.figure(figsize=(12,10))\n",
    "for (i,CLBD) in enumerate(AAs):\n",
    "    with CLBD.output().open() as f:\n",
    "        deltas = dill.load(f)\n",
    "        plt.plot([deltas['lower_bound'], deltas['upper_bound']], [i, i])\n",
    "    plt.axvline(0)"
   ]
  },
  {
   "cell_type": "code",
   "execution_count": null,
   "metadata": {},
   "outputs": [],
   "source": [
    "configure_plotting_for_publication()\n",
    "\n",
    "SAVE_FIGURES_FOR_LATEX = False\n",
    "\n",
    "\n",
    "import pandas as pd\n",
    "\n",
    "from scipy.optimize import least_squares\n",
    "\n",
    "\n",
    "from experiment_framework.asymptotic_analysis import hoeffding_n_given_t_and_p_two_sided, bootstrap_ci,\\\n",
    "    asymptotic_privacy_lr, transform_n_to_k_for_knn, asymptotic_curve\n",
    "from experiment_framework.privacy_estimator_mixins import get_k"
   ]
  },
  {
   "cell_type": "code",
   "execution_count": null,
   "metadata": {},
   "outputs": [],
   "source": [
    "DFccc = load_completed_CCCs_into_dataframe(CCCs)\n",
    "print(DFccc.shape)\n",
    "\n",
    "confidence_interval_width = 0.01\n",
    "confidence_interval_prob = 0.9\n",
    "    \n",
    "def plot_CCC_DF(DF, doc_ind=None, d=3):\n",
    "    global SAVE_FIGURES_FOR_LATEX\n",
    "    print('Training set sizes = ',\n",
    "          DF.training_set_size.min(),\n",
    "          '--',\n",
    "          DF.training_set_size.max()\n",
    "         )\n",
    "    if doc_ind is not None:\n",
    "        DF = DF.loc[DF.doc_ind == doc_ind, :]\n",
    "#     DF.loc[DF.classifier_accuracy < 0.5, 'classifier_accuracy'] = 0.5\n",
    "    DF.drop(index=DF[DF.classifier_accuracy < 0.5].index, inplace=True)\n",
    "    n_docs = DF.doc_ind.nunique()\n",
    "    cp = sns.color_palette('hls', n_docs, desat=0.9)\n",
    "    handle = sns.scatterplot(\n",
    "        data=DF,\n",
    "        x='training_set_size',\n",
    "        y='classifier_accuracy',\n",
    "        hue='doc_ind',\n",
    "        legend=None,\n",
    "        palette=cp,\n",
    "    \n",
    "    )\n",
    "   \n",
    "    # curve for all the data\n",
    "    d=3\n",
    "    fit_model = 'gyorfi'\n",
    "    x = DF.training_set_size.values.astype(np.double)\n",
    "    ks = transform_n_to_k_for_knn(x, fit_model, d=d)\n",
    "    y = DF.classifier_accuracy.values\n",
    "    m, C = asymptotic_curve(ks, y)\n",
    "    print(f'm={m} C={C}')\n",
    "    \n",
    "    # bootstrap for ub\n",
    "    boot_res = compute_bootstrapped_upper_bound(x, d, fit_model, y,\n",
    "                                 confidence_interval_prob,\n",
    "                                 confidence_interval_width)\n",
    "    samples = boot_res['bootstrap_samples'] \n",
    "    \n",
    "    ub = boot_res['ub']\n",
    "    base = config.SAMPLES_BASE\n",
    "    xx = np.logspace(np.log(np.min(x))/np.log(base),\n",
    "                     np.log(np.max(x))/np.log(base),\n",
    "                    base=base)\n",
    "    kks = transform_n_to_k_for_knn(xx, fit_model, d=d)\n",
    "    plt.plot(xx, m+C*kks, '-g')\n",
    "    \n",
    "    labeled_axhline(ub, 'U.B.', 'k', handle)\n",
    "    labeled_axhline(m, '$E[C_\\infty]$', 'g', handle, linestyle='--')\n",
    "#     labeled_axhline(pc(eps, delta), '$C_\\infty^*$', 'r', handle)\n",
    "    \n",
    "    plt.xticks(x, ['$2^{%s}$'%'{:}'.format(int(np.log(xx)/np.log(2))) for xx in x],\n",
    "              rotation=30)\n",
    "    \n",
    "    if SAVE_FIGURES_FOR_LATEX:\n",
    "        plt.xlabel('Training Set Size')\n",
    "        plt.ylabel('P[correct]')\n",
    "    \n",
    "    ax2 = handle.twiny()\n",
    "    ax2.set_xlim(0, 100.0)\n",
    "    ax2.set_xticks([])\n",
    "    sns.distplot(a=samples,\n",
    "                 bins=30,\n",
    "                 hist=True,\n",
    "                 hist_kws={'alpha':0.30},\n",
    "                 norm_hist=True,\n",
    "                 kde=False,\n",
    "                 kde_kws={'linestyle':':', 'alpha':0.75},\n",
    "                 rug=False,\n",
    "                 vertical=True,\n",
    "                 color='g',\n",
    "                ax=ax2)\n",
    "\n",
    "    if SAVE_FIGURES_FOR_LATEX:\n",
    "        plt.tight_layout()\n",
    "        plt.savefig(os.path.join(FIGURES_PATH, 'experiment_4_bootstrap_visualization.png'))\n",
    "\n",
    "\n",
    "    \n",
    "# call the function\n",
    "plot_CCC_DF(DFccc, 1)\n"
   ]
  },
  {
   "cell_type": "code",
   "execution_count": null,
   "metadata": {},
   "outputs": [],
   "source": [
    "from functools import partial\n",
    "\n",
    "from experiment_framework.asymptotic_analysis import bootstrap_ci, asymptotic_privacy_lr\n",
    "from experiment_framework.differential_privacy import compute_delta\n",
    "from experiment_framework.calculations import accuracy_to_statistical_distance\n",
    "\n",
    "def get_bootstrap_model(DF, doc_ind, d= 3):\n",
    "    if doc_ind is not None:\n",
    "        DF = DF.loc[DF.doc_ind == doc_ind, :]\n",
    "    DF.loc[DF.classifier_accuracy < 0.5, 'classifier_accuracy'] = 0.5\n",
    "    n_docs = DF.doc_ind.nunique()\n",
    "    \n",
    "    fit_model = 'gyorfi'\n",
    "    x = DF.training_set_size.values.astype(np.double)\n",
    "    ks = transform_n_to_k_for_knn(x, fit_model, d=d)\n",
    "    y = DF.classifier_accuracy.values\n",
    "    return {'training_set_sizes':x, 'y':y, 'fit_model':fit_model, 'ks':ks}\n",
    "\n",
    "DFccc[DFccc.classifier_accuracy < 0.5] = 0.5\n",
    "model = get_bootstrap_model(DFccc, 0)\n",
    "accuracy_results = np.array([])\n",
    "\n",
    "\n",
    "# results = more_results(model, 10)\n",
    "# a"
   ]
  },
  {
   "cell_type": "code",
   "execution_count": null,
   "metadata": {},
   "outputs": [],
   "source": [
    "results = bootstrap_ci(\n",
    "    10000,\n",
    "    X=model['training_set_sizes'],\n",
    "    y=model['y'],\n",
    "    f=partial(asymptotic_privacy_lr, fit_model=model['fit_model'], d=d),\n",
    "    random_state_offset=accuracy_results.size\n",
    ")\n",
    "accuracy_results = np.concatenate((accuracy_results, results))\n",
    "deltas = np.array([compute_delta(stat_dist=accuracy_to_statistical_distance(accu), epsilon=CLAIMED_EPS)\n",
    "                   for accu in accuracy_results])\n",
    "_ = plt.hist(deltas)\n",
    "alpha = (1-0.999)/2 * 100.0\n",
    "lb = np.percentile(deltas, alpha)\n",
    "ub = np.percentile(deltas, 100-alpha)\n",
    "plt.axvline(lb, color='r')\n",
    "plt.axvline(ub, color='r')\n",
    "plt.axvline(0, color='k')\n",
    "plt.axvline(np.mean(deltas), color='g')"
   ]
  },
  {
   "cell_type": "code",
   "execution_count": null,
   "metadata": {},
   "outputs": [],
   "source": [
    "bootstrap_xs = np.logspace(1, np.log2(deltas.size), base=2).astype(np.int)"
   ]
  },
  {
   "cell_type": "code",
   "execution_count": null,
   "metadata": {},
   "outputs": [],
   "source": [
    "plt.plot(bootstrap_xs, [np.std(deltas[0:i]) for i in bootstrap_xs], '-*r')\n",
    "plt.title('std as a function of bootstrap samples')"
   ]
  },
  {
   "cell_type": "code",
   "execution_count": null,
   "metadata": {},
   "outputs": [],
   "source": [
    "def bootstrap_t(samples):\n",
    "    "
   ]
  }
 ],
 "metadata": {
  "kernelspec": {
   "display_name": "Python 3",
   "language": "python",
   "name": "python3"
  },
  "language_info": {
   "codemirror_mode": {
    "name": "ipython",
    "version": 3
   },
   "file_extension": ".py",
   "mimetype": "text/x-python",
   "name": "python",
   "nbconvert_exporter": "python",
   "pygments_lexer": "ipython3",
   "version": "3.6.8"
  }
 },
 "nbformat": 4,
 "nbformat_minor": 2
}
