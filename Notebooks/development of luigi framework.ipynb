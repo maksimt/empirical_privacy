{
 "cells": [
  {
   "cell_type": "code",
   "execution_count": 2,
   "metadata": {},
   "outputs": [],
   "source": [
    "import numpy as np"
   ]
  },
  {
   "cell_type": "code",
   "execution_count": 3,
   "metadata": {},
   "outputs": [
    {
     "name": "stdout",
     "output_type": "stream",
     "text": [
      "[10 14 22 33]\n"
     ]
    }
   ],
   "source": [
    "n_max = 33\n",
    "n_steps = 4\n",
    "tss = np.logspace(start=1,\n",
    "                                stop=np.log10(n_max),\n",
    "                                num=n_steps).\\\n",
    "                            astype(np.int)\n",
    "print(tss)"
   ]
  },
  {
   "cell_type": "code",
   "execution_count": 18,
   "metadata": {},
   "outputs": [
    {
     "data": {
      "text/plain": [
       "(4,)"
      ]
     },
     "execution_count": 18,
     "metadata": {},
     "output_type": "execute_result"
    }
   ],
   "source": [
    "tss.shape"
   ]
  },
  {
   "cell_type": "code",
   "execution_count": 23,
   "metadata": {},
   "outputs": [
    {
     "data": {
      "text/plain": [
       "array([ True], dtype=bool)"
      ]
     },
     "execution_count": 23,
     "metadata": {},
     "output_type": "execute_result"
    }
   ],
   "source": [
    "np.argwhere(tss==46).ravel()==1"
   ]
  },
  {
   "cell_type": "code",
   "execution_count": 17,
   "metadata": {},
   "outputs": [
    {
     "data": {
      "text/plain": [
       "array([1])"
      ]
     },
     "execution_count": 17,
     "metadata": {},
     "output_type": "execute_result"
    }
   ],
   "source": [
    "np.argwhere(tss==46).ravel()"
   ]
  },
  {
   "cell_type": "code",
   "execution_count": 9,
   "metadata": {},
   "outputs": [
    {
     "data": {
      "text/plain": [
       "[0, 1, 2]"
      ]
     },
     "execution_count": 9,
     "metadata": {},
     "output_type": "execute_result"
    }
   ],
   "source": [
    "list(np.arange(3))"
   ]
  },
  {
   "cell_type": "code",
   "execution_count": 10,
   "metadata": {},
   "outputs": [
    {
     "data": {
      "text/plain": [
       "[0, 1, 2]"
      ]
     },
     "execution_count": 10,
     "metadata": {},
     "output_type": "execute_result"
    }
   ],
   "source": [
    "import itertools\n",
    "list(range(3))"
   ]
  },
  {
   "cell_type": "code",
   "execution_count": 12,
   "metadata": {},
   "outputs": [],
   "source": []
  },
  {
   "cell_type": "code",
   "execution_count": 6,
   "metadata": {},
   "outputs": [
    {
     "data": {
      "text/plain": [
       "'GenSamplesOneBit'"
      ]
     },
     "execution_count": 6,
     "metadata": {},
     "output_type": "execute_result"
    }
   ],
   "source": [
    "GenSamplesOneBit.__name__"
   ]
  },
  {
   "cell_type": "code",
   "execution_count": 8,
   "metadata": {},
   "outputs": [
    {
     "data": {
      "text/plain": [
       "__main__.ABC"
      ]
     },
     "execution_count": 8,
     "metadata": {},
     "output_type": "execute_result"
    }
   ],
   "source": [
    "type('ABC', (), {})"
   ]
  },
  {
   "cell_type": "code",
   "execution_count": 13,
   "metadata": {},
   "outputs": [
    {
     "ename": "TypeError",
     "evalue": "type.__new__() argument 2 must be tuple, not Register",
     "output_type": "error",
     "traceback": [
      "\u001b[0;31m---------------------------------------------------------------------------\u001b[0m",
      "\u001b[0;31mTypeError\u001b[0m                                 Traceback (most recent call last)",
      "\u001b[0;32m<ipython-input-13-3605ee374abb>\u001b[0m in \u001b[0;36m<module>\u001b[0;34m()\u001b[0m\n\u001b[1;32m     38\u001b[0m GSs = type(gs_name+'GenSamples',\n\u001b[1;32m     39\u001b[0m            \u001b[0;34m(\u001b[0m\u001b[0mGenSamples\u001b[0m\u001b[0;34m(\u001b[0m\u001b[0mGenSampleType\u001b[0m\u001b[0;34m,\u001b[0m \u001b[0mgenerate_in_batch\u001b[0m\u001b[0;34m=\u001b[0m\u001b[0;32mTrue\u001b[0m\u001b[0;34m)\u001b[0m\u001b[0;34m)\u001b[0m\u001b[0;34m\u001b[0m\u001b[0m\n\u001b[0;32m---> 40\u001b[0;31m            \u001b[0;34m,\u001b[0m \u001b[0;34m{\u001b[0m\u001b[0;34m}\u001b[0m\u001b[0;34m\u001b[0m\u001b[0m\n\u001b[0m\u001b[1;32m     41\u001b[0m            )\n",
      "\u001b[0;31mTypeError\u001b[0m: type.__new__() argument 2 must be tuple, not Register"
     ]
    }
   ],
   "source": [
    "from luigi_utils.sampling_framework import GenSample, GenSamples, FitModel, \\\n",
    "    EvaluateStatisticalDistance, ComputeConvergenceCurve\n",
    "from luigi_utils.privacy_estimator_mixins import DensityEstFitterMixin, \\\n",
    "    ExpectationFitterMixin, KNNFitterMixin\n",
    "\n",
    "\n",
    "def build_convergence_curve_pipeline(GenSampleType: GenSample,\n",
    "                                     generate_in_batch=False,\n",
    "                                     fitter = 'knn',\n",
    "                                     ) -> ComputeConvergenceCurve:\n",
    "    gs_name = GenSampleType.__name__\n",
    "    GSs = type(gs_name+'GenSamples',\n",
    "               (GenSamples(GenSampleType, generate_in_batch=generate_in_batch))\n",
    "               , {}\n",
    "               )\n",
    "\n",
    "    if fitter=='knn':\n",
    "        F = KNNFitterMixin\n",
    "    elif fitter=='density':\n",
    "        F = DensityEstFitterMixin\n",
    "    elif fitter=='expectation':\n",
    "        F = ExpectationFitterMixin\n",
    "\n",
    "    FM = type(gs_name+'FitModel'+fitter,\n",
    "              (F(), FitModel(GSs)), {}\n",
    "              )\n",
    "\n",
    "    ESD = type(gs_name+'EvaluateStatisticalDistance'+fitter,\n",
    "               (EvaluateStatisticalDistance(samplegen=GSs, model=FM)), {}\n",
    "               )\n",
    "\n",
    "    CCC = type(gs_name+'ComputeConvergenceCurve'+fitter,\n",
    "               (ComputeConvergenceCurve(ESD)), {}\n",
    "               )\n",
    "\n",
    "    return CCC\n",
    "\n"
   ]
  },
  {
   "cell_type": "code",
   "execution_count": 17,
   "metadata": {},
   "outputs": [
    {
     "ename": "TypeError",
     "evalue": "type.__new__() argument 2 must be tuple, not type",
     "output_type": "error",
     "traceback": [
      "\u001b[0;31m---------------------------------------------------------------------------\u001b[0m",
      "\u001b[0;31mTypeError\u001b[0m                                 Traceback (most recent call last)",
      "\u001b[0;32m<ipython-input-17-2b35a04536bf>\u001b[0m in \u001b[0;36m<module>\u001b[0;34m()\u001b[0m\n\u001b[1;32m      3\u001b[0m \u001b[0mGenSampleType\u001b[0m \u001b[0;34m=\u001b[0m \u001b[0mGenSamplesOneBit\u001b[0m\u001b[0;34m\u001b[0m\u001b[0m\n\u001b[1;32m      4\u001b[0m \u001b[0mgs_name\u001b[0m \u001b[0;34m=\u001b[0m \u001b[0mGenSampleType\u001b[0m\u001b[0;34m.\u001b[0m\u001b[0m__name__\u001b[0m\u001b[0;34m\u001b[0m\u001b[0m\n\u001b[0;32m----> 5\u001b[0;31m \u001b[0mGSs\u001b[0m \u001b[0;34m=\u001b[0m \u001b[0mtype\u001b[0m\u001b[0;34m(\u001b[0m\u001b[0mgs_name\u001b[0m\u001b[0;34m+\u001b[0m\u001b[0;34m'GenSamples'\u001b[0m\u001b[0;34m,\u001b[0m \u001b[0;34m(\u001b[0m\u001b[0mGenSampleType\u001b[0m\u001b[0;34m)\u001b[0m\u001b[0;34m,\u001b[0m \u001b[0;34m{\u001b[0m\u001b[0;34m}\u001b[0m\u001b[0;34m)\u001b[0m\u001b[0;34m\u001b[0m\u001b[0m\n\u001b[0m",
      "\u001b[0;31mTypeError\u001b[0m: type.__new__() argument 2 must be tuple, not type"
     ]
    }
   ],
   "source": [
    "class GenSamplesOneBit(object):\n",
    "    pass\n",
    "GenSampleType = GenSamplesOneBit\n",
    "gs_name = GenSampleType.__name__\n",
    "GSs = type(gs_name+'GenSamples', (GenSampleType), {})"
   ]
  }
 ],
 "metadata": {
  "kernelspec": {
   "display_name": "Python 3",
   "language": "python",
   "name": "python3"
  },
  "language_info": {
   "codemirror_mode": {
    "name": "ipython",
    "version": 3
   },
   "file_extension": ".py",
   "mimetype": "text/x-python",
   "name": "python",
   "nbconvert_exporter": "python",
   "pygments_lexer": "ipython3",
   "version": "3.6.5"
  }
 },
 "nbformat": 4,
 "nbformat_minor": 2
}
