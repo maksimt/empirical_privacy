{
 "cells": [
  {
   "cell_type": "code",
   "execution_count": 11,
   "metadata": {},
   "outputs": [],
   "source": [
    "import numpy as np\n",
    "from scipy import sparse\n",
    "import time"
   ]
  },
  {
   "cell_type": "code",
   "execution_count": null,
   "metadata": {
    "slideshow": {
     "slide_type": "slide"
    }
   },
   "outputs": [],
   "source": [
    "n_max = 33\n",
    "n_steps = 4\n",
    "tss = np.logspace(start=1,\n",
    "                                stop=np.log10(n_max),\n",
    "                                num=n_steps).\\\n",
    "                            astype(np.int)\n",
    "print(tss)"
   ]
  },
  {
   "cell_type": "code",
   "execution_count": null,
   "metadata": {},
   "outputs": [],
   "source": [
    "n_pows = np.floor(np.log2(1024)+np.spacing(1)).astype(np.int)\n",
    "np.logspace(3,n_pows, num=n_pows-2, dtype=int, base=2)"
   ]
  },
  {
   "cell_type": "code",
   "execution_count": null,
   "metadata": {},
   "outputs": [],
   "source": [
    "tss.shape"
   ]
  },
  {
   "cell_type": "code",
   "execution_count": null,
   "metadata": {},
   "outputs": [],
   "source": [
    "np.argwhere(tss==46).ravel()==1"
   ]
  },
  {
   "cell_type": "code",
   "execution_count": null,
   "metadata": {},
   "outputs": [],
   "source": [
    "np.argwhere(tss==46).ravel()"
   ]
  },
  {
   "cell_type": "code",
   "execution_count": null,
   "metadata": {},
   "outputs": [],
   "source": [
    "list(np.arange(3))"
   ]
  },
  {
   "cell_type": "code",
   "execution_count": null,
   "metadata": {},
   "outputs": [],
   "source": [
    "import itertools\n",
    "list(range(3))"
   ]
  },
  {
   "cell_type": "code",
   "execution_count": null,
   "metadata": {},
   "outputs": [],
   "source": []
  },
  {
   "cell_type": "code",
   "execution_count": null,
   "metadata": {},
   "outputs": [],
   "source": [
    "GenSamplesOneBit.__name__"
   ]
  },
  {
   "cell_type": "code",
   "execution_count": null,
   "metadata": {},
   "outputs": [],
   "source": [
    "type('ABC', (), {})"
   ]
  },
  {
   "cell_type": "code",
   "execution_count": null,
   "metadata": {},
   "outputs": [],
   "source": [
    "from luigi_utils.sampling_framework import GenSample, GenSamples, FitModel, \\\n",
    "    EvaluateStatisticalDistance, ComputeConvergenceCurve\n",
    "from luigi_utils.privacy_estimator_mixins import DensityEstFitterMixin, \\\n",
    "    ExpectationFitterMixin, KNNFitterMixin\n",
    "\n",
    "\n",
    "def build_convergence_curve_pipeline(GenSampleType: GenSample,\n",
    "                                     generate_in_batch=False,\n",
    "                                     fitter = 'knn',\n",
    "                                     ) -> ComputeConvergenceCurve:\n",
    "    gs_name = GenSampleType.__name__\n",
    "    GSs = type(gs_name+'GenSamples',\n",
    "               (GenSamples(GenSampleType, generate_in_batch=generate_in_batch))\n",
    "               , {}\n",
    "               )\n",
    "\n",
    "    if fitter=='knn':\n",
    "        F = KNNFitterMixin\n",
    "    elif fitter=='density':\n",
    "        F = DensityEstFitterMixin\n",
    "    elif fitter=='expectation':\n",
    "        F = ExpectationFitterMixin\n",
    "\n",
    "    FM = type(gs_name+'FitModel'+fitter,\n",
    "              (F(), FitModel(GSs)), {}\n",
    "              )\n",
    "\n",
    "    ESD = type(gs_name+'EvaluateStatisticalDistance'+fitter,\n",
    "               (EvaluateStatisticalDistance(samplegen=GSs, model=FM)), {}\n",
    "               )\n",
    "\n",
    "    CCC = type(gs_name+'ComputeConvergenceCurve'+fitter,\n",
    "               (ComputeConvergenceCurve(ESD)), {}\n",
    "               )\n",
    "\n",
    "    return CCC\n",
    "\n"
   ]
  },
  {
   "cell_type": "code",
   "execution_count": null,
   "metadata": {},
   "outputs": [],
   "source": [
    "class GenSamplesOneBit(object):\n",
    "    pass\n",
    "GenSampleType = GenSamplesOneBit\n",
    "gs_name = GenSampleType.__name__\n",
    "GSs = type(gs_name+'GenSamples', (GenSampleType), {})"
   ]
  },
  {
   "cell_type": "markdown",
   "metadata": {},
   "source": [
    "### Benchmarking sparse svd vs full svd"
   ]
  },
  {
   "cell_type": "code",
   "execution_count": 3,
   "metadata": {},
   "outputs": [],
   "source": [
    "from dataset_utils.common import load_dataset\n",
    "ds = load_dataset('20NG')"
   ]
  },
  {
   "cell_type": "code",
   "execution_count": 4,
   "metadata": {},
   "outputs": [],
   "source": [
    "X = ds['Xtr'].asfptype().tocsr()"
   ]
  },
  {
   "cell_type": "code",
   "execution_count": 6,
   "metadata": {},
   "outputs": [],
   "source": [
    "x=X[0,:]"
   ]
  },
  {
   "cell_type": "code",
   "execution_count": 9,
   "metadata": {},
   "outputs": [
    {
     "data": {
      "text/plain": [
       "scipy.sparse.csc.csc_matrix"
      ]
     },
     "execution_count": 9,
     "metadata": {},
     "output_type": "execute_result"
    }
   ],
   "source": [
    "X.multiply()"
   ]
  },
  {
   "cell_type": "code",
   "execution_count": 4,
   "metadata": {},
   "outputs": [
    {
     "name": "stdout",
     "output_type": "stream",
     "text": [
      "2.825477000000001\n"
     ]
    }
   ],
   "source": [
    "start = time.clock()\n",
    "Us, Ss, Vt = sparse.linalg.svds(X, k=20)\n",
    "cputime = time.clock() - start\n",
    "print(cputime)"
   ]
  },
  {
   "cell_type": "code",
   "execution_count": 9,
   "metadata": {},
   "outputs": [
    {
     "data": {
      "text/plain": [
       "(20, 10421)"
      ]
     },
     "execution_count": 9,
     "metadata": {},
     "output_type": "execute_result"
    }
   ],
   "source": [
    "Vt.shape\n"
   ]
  },
  {
   "cell_type": "code",
   "execution_count": 10,
   "metadata": {},
   "outputs": [],
   "source": [
    "XtX = np.dot(Vt.T *Ss, Vt)"
   ]
  },
  {
   "cell_type": "code",
   "execution_count": 12,
   "metadata": {},
   "outputs": [
    {
     "data": {
      "text/plain": [
       "numpy.ndarray"
      ]
     },
     "execution_count": 12,
     "metadata": {},
     "output_type": "execute_result"
    }
   ],
   "source": [
    "type(XtX)"
   ]
  },
  {
   "cell_type": "code",
   "execution_count": null,
   "metadata": {},
   "outputs": [],
   "source": [
    "np.linalg.matrix_rank(XtX)"
   ]
  },
  {
   "cell_type": "code",
   "execution_count": null,
   "metadata": {},
   "outputs": [],
   "source": [
    "X = ds['Xtr'].asfptype().toarray()"
   ]
  },
  {
   "cell_type": "code",
   "execution_count": null,
   "metadata": {},
   "outputs": [],
   "source": [
    "start = time.clock()\n",
    "np.linalg.svd(X, full_matrices=0)\n",
    "cputime = time.clock() - start\n",
    "print(cputime)"
   ]
  },
  {
   "cell_type": "markdown",
   "metadata": {},
   "source": [
    "### How do sparse matrices work again?"
   ]
  },
  {
   "cell_type": "code",
   "execution_count": 26,
   "metadata": {},
   "outputs": [],
   "source": [
    "X = sparse.random(3,4, density=0.25).tocsr()\n",
    "v = np.array([1,2,3])"
   ]
  },
  {
   "cell_type": "code",
   "execution_count": 32,
   "metadata": {},
   "outputs": [
    {
     "name": "stdout",
     "output_type": "stream",
     "text": [
      "  (1, 0)\t0.671136566994\n",
      "  (2, 0)\t0.575062821876\n",
      "  (2, 2)\t0.0640233290391\n",
      "  (1, 0)\t0.671136566994\n",
      "  (2, 0)\t0.575062821876\n",
      "  (2, 2)\t0.0640233290391\n",
      "  (4, 0)\t0.671136566994\n",
      "  (5, 0)\t0.575062821876\n",
      "  (5, 2)\t0.0640233290391\n"
     ]
    }
   ],
   "source": [
    "print(X)\n",
    "print(sparse.vstack((X,X)))"
   ]
  },
  {
   "cell_type": "code",
   "execution_count": 28,
   "metadata": {},
   "outputs": [
    {
     "data": {
      "text/plain": [
       "array([[ 0.,  0.,  0.,  0.],\n",
       "       [ 0.,  0.,  0.,  0.],\n",
       "       [ 0.,  0.,  0.,  0.],\n",
       "       [ 0.,  0.,  0.,  0.]])"
      ]
     },
     "execution_count": 28,
     "metadata": {},
     "output_type": "execute_result"
    }
   ],
   "source": [
    "X[0,:].T.dot(X[0,:]).toarray()"
   ]
  },
  {
   "cell_type": "code",
   "execution_count": 23,
   "metadata": {},
   "outputs": [
    {
     "name": "stdout",
     "output_type": "stream",
     "text": [
      "[1 2 3]\n"
     ]
    }
   ],
   "source": [
    "v[np.newaxis,:].shape\n",
    "print(v)"
   ]
  },
  {
   "cell_type": "code",
   "execution_count": 15,
   "metadata": {},
   "outputs": [
    {
     "name": "stdout",
     "output_type": "stream",
     "text": [
      "  (0, 2)\t0.329619847954\n",
      "  (0, 3)\t0.124974996233\n",
      "  (1, 3)\t0.518876229013\n"
     ]
    }
   ],
   "source": [
    "print(X)"
   ]
  },
  {
   "cell_type": "code",
   "execution_count": 17,
   "metadata": {},
   "outputs": [
    {
     "name": "stdout",
     "output_type": "stream",
     "text": [
      "  (0, 2)\t0.108649244165\n",
      "  (0, 3)\t0.0156187496835\n",
      "  (1, 3)\t0.269232541035\n"
     ]
    }
   ],
   "source": [
    "print(X.multiply(X))"
   ]
  },
  {
   "cell_type": "code",
   "execution_count": 50,
   "metadata": {},
   "outputs": [
    {
     "name": "stdout",
     "output_type": "stream",
     "text": [
      "(3, 3)\n"
     ]
    }
   ],
   "source": [
    "I = sparse.eye(3)\n",
    "print(I.shape)"
   ]
  },
  {
   "cell_type": "code",
   "execution_count": 53,
   "metadata": {},
   "outputs": [
    {
     "name": "stdout",
     "output_type": "stream",
     "text": [
      "  (0, 0)\t3.0\n",
      "  (1, 1)\t2.0\n",
      "  (2, 2)\t1.0\n"
     ]
    }
   ],
   "source": [
    "print(I*(sparse.dia_matrix((np.array([3,2,1]), 0),shape=(3,3))))\n"
   ]
  },
  {
   "cell_type": "code",
   "execution_count": null,
   "metadata": {},
   "outputs": [],
   "source": [
    "import numpy, scipy, pandas, seaborn"
   ]
  },
  {
   "cell_type": "code",
   "execution_count": 2,
   "metadata": {},
   "outputs": [
    {
     "name": "stdout",
     "output_type": "stream",
     "text": [
      "1.13.3\n",
      "1.1.0\n",
      "0.23.4\n",
      "0.9.0\n"
     ]
    }
   ],
   "source": [
    "print(numpy.__version__)\n",
    "print(scipy.__version__)\n",
    "print(pandas.__version__)\n",
    "print(seaborn.__version__)"
   ]
  }
 ],
 "metadata": {
  "kernelspec": {
   "display_name": "Python 3",
   "language": "python",
   "name": "python3"
  },
  "language_info": {
   "codemirror_mode": {
    "name": "ipython",
    "version": 3
   },
   "file_extension": ".py",
   "mimetype": "text/x-python",
   "name": "python",
   "nbconvert_exporter": "python",
   "pygments_lexer": "ipython3",
   "version": "3.6.5"
  }
 },
 "nbformat": 4,
 "nbformat_minor": 2
}
